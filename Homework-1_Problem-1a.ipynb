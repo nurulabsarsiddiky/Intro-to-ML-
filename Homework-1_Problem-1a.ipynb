{
 "cells": [
  {
   "cell_type": "markdown",
   "id": "851dfa1a",
   "metadata": {},
   "source": [
    "# Homework-1_Problem-1a"
   ]
  },
  {
   "cell_type": "markdown",
   "id": "7bdffa9a",
   "metadata": {},
   "source": [
    "### Objective: Develop a gradient decent training and evaluation code that predicts housing price based on the following input variables:\n",
    "\n",
    "### area, bedrooms, bathrooms, stories, parking\n",
    "\n",
    "### Identify the best parameters for your linear regression model, based on the above input variables. \n",
    "\n",
    "### Plot the training and validation losses (in a single graph, but two different lines). For the learning rate, explore different values between 0.1 and 0.01 (your choice). Initialize your parameters (thetas to zero). For the training iteration, choose what you believe fits the best. "
   ]
  },
  {
   "cell_type": "code",
   "execution_count": 70,
   "id": "3aff0b54-d128-4311-8f7e-0ce933815f4b",
   "metadata": {},
   "outputs": [],
   "source": [
    "import numpy as np\n",
    "import pandas as pd\n",
    "import matplotlib.pyplot as plt     # Data Visualisation\n",
    "import seaborn as sns\n",
    "import sklearn\n",
    "\n",
    "import warnings\n",
    "warnings.filterwarnings('ignore')"
   ]
  },
  {
   "cell_type": "code",
   "execution_count": 71,
   "id": "38593aab-03fe-4101-8663-c53003d5ed2f",
   "metadata": {},
   "outputs": [
    {
     "data": {
      "text/html": [
       "<div>\n",
       "<style scoped>\n",
       "    .dataframe tbody tr th:only-of-type {\n",
       "        vertical-align: middle;\n",
       "    }\n",
       "\n",
       "    .dataframe tbody tr th {\n",
       "        vertical-align: top;\n",
       "    }\n",
       "\n",
       "    .dataframe thead th {\n",
       "        text-align: right;\n",
       "    }\n",
       "</style>\n",
       "<table border=\"1\" class=\"dataframe\">\n",
       "  <thead>\n",
       "    <tr style=\"text-align: right;\">\n",
       "      <th></th>\n",
       "      <th>price</th>\n",
       "      <th>area</th>\n",
       "      <th>bedrooms</th>\n",
       "      <th>bathrooms</th>\n",
       "      <th>stories</th>\n",
       "      <th>mainroad</th>\n",
       "      <th>guestroom</th>\n",
       "      <th>basement</th>\n",
       "      <th>hotwaterheating</th>\n",
       "      <th>airconditioning</th>\n",
       "      <th>parking</th>\n",
       "      <th>prefarea</th>\n",
       "      <th>furnishingstatus</th>\n",
       "    </tr>\n",
       "  </thead>\n",
       "  <tbody>\n",
       "    <tr>\n",
       "      <th>0</th>\n",
       "      <td>13300000</td>\n",
       "      <td>7420</td>\n",
       "      <td>4</td>\n",
       "      <td>2</td>\n",
       "      <td>3</td>\n",
       "      <td>yes</td>\n",
       "      <td>no</td>\n",
       "      <td>no</td>\n",
       "      <td>no</td>\n",
       "      <td>yes</td>\n",
       "      <td>2</td>\n",
       "      <td>yes</td>\n",
       "      <td>furnished</td>\n",
       "    </tr>\n",
       "    <tr>\n",
       "      <th>1</th>\n",
       "      <td>12250000</td>\n",
       "      <td>8960</td>\n",
       "      <td>4</td>\n",
       "      <td>4</td>\n",
       "      <td>4</td>\n",
       "      <td>yes</td>\n",
       "      <td>no</td>\n",
       "      <td>no</td>\n",
       "      <td>no</td>\n",
       "      <td>yes</td>\n",
       "      <td>3</td>\n",
       "      <td>no</td>\n",
       "      <td>furnished</td>\n",
       "    </tr>\n",
       "    <tr>\n",
       "      <th>2</th>\n",
       "      <td>12250000</td>\n",
       "      <td>9960</td>\n",
       "      <td>3</td>\n",
       "      <td>2</td>\n",
       "      <td>2</td>\n",
       "      <td>yes</td>\n",
       "      <td>no</td>\n",
       "      <td>yes</td>\n",
       "      <td>no</td>\n",
       "      <td>no</td>\n",
       "      <td>2</td>\n",
       "      <td>yes</td>\n",
       "      <td>semi-furnished</td>\n",
       "    </tr>\n",
       "    <tr>\n",
       "      <th>3</th>\n",
       "      <td>12215000</td>\n",
       "      <td>7500</td>\n",
       "      <td>4</td>\n",
       "      <td>2</td>\n",
       "      <td>2</td>\n",
       "      <td>yes</td>\n",
       "      <td>no</td>\n",
       "      <td>yes</td>\n",
       "      <td>no</td>\n",
       "      <td>yes</td>\n",
       "      <td>3</td>\n",
       "      <td>yes</td>\n",
       "      <td>furnished</td>\n",
       "    </tr>\n",
       "    <tr>\n",
       "      <th>4</th>\n",
       "      <td>11410000</td>\n",
       "      <td>7420</td>\n",
       "      <td>4</td>\n",
       "      <td>1</td>\n",
       "      <td>2</td>\n",
       "      <td>yes</td>\n",
       "      <td>yes</td>\n",
       "      <td>yes</td>\n",
       "      <td>no</td>\n",
       "      <td>yes</td>\n",
       "      <td>2</td>\n",
       "      <td>no</td>\n",
       "      <td>furnished</td>\n",
       "    </tr>\n",
       "  </tbody>\n",
       "</table>\n",
       "</div>"
      ],
      "text/plain": [
       "      price  area  bedrooms  bathrooms  stories mainroad guestroom basement  \\\n",
       "0  13300000  7420         4          2        3      yes        no       no   \n",
       "1  12250000  8960         4          4        4      yes        no       no   \n",
       "2  12250000  9960         3          2        2      yes        no      yes   \n",
       "3  12215000  7500         4          2        2      yes        no      yes   \n",
       "4  11410000  7420         4          1        2      yes       yes      yes   \n",
       "\n",
       "  hotwaterheating airconditioning  parking prefarea furnishingstatus  \n",
       "0              no             yes        2      yes        furnished  \n",
       "1              no             yes        3       no        furnished  \n",
       "2              no              no        2      yes   semi-furnished  \n",
       "3              no             yes        3      yes        furnished  \n",
       "4              no             yes        2       no        furnished  "
      ]
     },
     "execution_count": 71,
     "metadata": {},
     "output_type": "execute_result"
    }
   ],
   "source": [
    "#import data from .csv file of guithub repository\n",
    "housing = pd.DataFrame(pd.read_csv(\"https://raw.githubusercontent.com/Tareq-BD/ECGR-5105/main/Housing.csv\"))\n",
    "housing.head()"
   ]
  },
  {
   "cell_type": "code",
   "execution_count": 72,
   "id": "3a10835a-faa4-4b34-9e9c-e07bbc589973",
   "metadata": {},
   "outputs": [
    {
     "data": {
      "text/plain": [
       "545"
      ]
     },
     "execution_count": 72,
     "metadata": {},
     "output_type": "execute_result"
    }
   ],
   "source": [
    "m = len(housing)\n",
    "m"
   ]
  },
  {
   "cell_type": "code",
   "execution_count": 73,
   "id": "edbffe9e-bae8-442d-a1a7-891599ed52c6",
   "metadata": {},
   "outputs": [
    {
     "data": {
      "text/plain": [
       "(545, 13)"
      ]
     },
     "execution_count": 73,
     "metadata": {},
     "output_type": "execute_result"
    }
   ],
   "source": [
    "housing.shape"
   ]
  },
  {
   "cell_type": "code",
   "execution_count": 74,
   "id": "2ea964fd-fa2d-418e-84e7-4ea73e423d35",
   "metadata": {},
   "outputs": [
    {
     "data": {
      "text/html": [
       "<div>\n",
       "<style scoped>\n",
       "    .dataframe tbody tr th:only-of-type {\n",
       "        vertical-align: middle;\n",
       "    }\n",
       "\n",
       "    .dataframe tbody tr th {\n",
       "        vertical-align: top;\n",
       "    }\n",
       "\n",
       "    .dataframe thead th {\n",
       "        text-align: right;\n",
       "    }\n",
       "</style>\n",
       "<table border=\"1\" class=\"dataframe\">\n",
       "  <thead>\n",
       "    <tr style=\"text-align: right;\">\n",
       "      <th></th>\n",
       "      <th>price</th>\n",
       "      <th>area</th>\n",
       "      <th>bedrooms</th>\n",
       "      <th>bathrooms</th>\n",
       "      <th>stories</th>\n",
       "      <th>mainroad</th>\n",
       "      <th>guestroom</th>\n",
       "      <th>basement</th>\n",
       "      <th>hotwaterheating</th>\n",
       "      <th>airconditioning</th>\n",
       "      <th>parking</th>\n",
       "      <th>prefarea</th>\n",
       "      <th>furnishingstatus</th>\n",
       "    </tr>\n",
       "  </thead>\n",
       "  <tbody>\n",
       "    <tr>\n",
       "      <th>0</th>\n",
       "      <td>13300000</td>\n",
       "      <td>7420</td>\n",
       "      <td>4</td>\n",
       "      <td>2</td>\n",
       "      <td>3</td>\n",
       "      <td>1</td>\n",
       "      <td>0</td>\n",
       "      <td>0</td>\n",
       "      <td>0</td>\n",
       "      <td>1</td>\n",
       "      <td>2</td>\n",
       "      <td>1</td>\n",
       "      <td>furnished</td>\n",
       "    </tr>\n",
       "    <tr>\n",
       "      <th>1</th>\n",
       "      <td>12250000</td>\n",
       "      <td>8960</td>\n",
       "      <td>4</td>\n",
       "      <td>4</td>\n",
       "      <td>4</td>\n",
       "      <td>1</td>\n",
       "      <td>0</td>\n",
       "      <td>0</td>\n",
       "      <td>0</td>\n",
       "      <td>1</td>\n",
       "      <td>3</td>\n",
       "      <td>0</td>\n",
       "      <td>furnished</td>\n",
       "    </tr>\n",
       "    <tr>\n",
       "      <th>2</th>\n",
       "      <td>12250000</td>\n",
       "      <td>9960</td>\n",
       "      <td>3</td>\n",
       "      <td>2</td>\n",
       "      <td>2</td>\n",
       "      <td>1</td>\n",
       "      <td>0</td>\n",
       "      <td>1</td>\n",
       "      <td>0</td>\n",
       "      <td>0</td>\n",
       "      <td>2</td>\n",
       "      <td>1</td>\n",
       "      <td>semi-furnished</td>\n",
       "    </tr>\n",
       "    <tr>\n",
       "      <th>3</th>\n",
       "      <td>12215000</td>\n",
       "      <td>7500</td>\n",
       "      <td>4</td>\n",
       "      <td>2</td>\n",
       "      <td>2</td>\n",
       "      <td>1</td>\n",
       "      <td>0</td>\n",
       "      <td>1</td>\n",
       "      <td>0</td>\n",
       "      <td>1</td>\n",
       "      <td>3</td>\n",
       "      <td>1</td>\n",
       "      <td>furnished</td>\n",
       "    </tr>\n",
       "    <tr>\n",
       "      <th>4</th>\n",
       "      <td>11410000</td>\n",
       "      <td>7420</td>\n",
       "      <td>4</td>\n",
       "      <td>1</td>\n",
       "      <td>2</td>\n",
       "      <td>1</td>\n",
       "      <td>1</td>\n",
       "      <td>1</td>\n",
       "      <td>0</td>\n",
       "      <td>1</td>\n",
       "      <td>2</td>\n",
       "      <td>0</td>\n",
       "      <td>furnished</td>\n",
       "    </tr>\n",
       "  </tbody>\n",
       "</table>\n",
       "</div>"
      ],
      "text/plain": [
       "      price  area  bedrooms  bathrooms  stories  mainroad  guestroom  \\\n",
       "0  13300000  7420         4          2        3         1          0   \n",
       "1  12250000  8960         4          4        4         1          0   \n",
       "2  12250000  9960         3          2        2         1          0   \n",
       "3  12215000  7500         4          2        2         1          0   \n",
       "4  11410000  7420         4          1        2         1          1   \n",
       "\n",
       "   basement  hotwaterheating  airconditioning  parking  prefarea  \\\n",
       "0         0                0                1        2         1   \n",
       "1         0                0                1        3         0   \n",
       "2         1                0                0        2         1   \n",
       "3         1                0                1        3         1   \n",
       "4         1                0                1        2         0   \n",
       "\n",
       "  furnishingstatus  \n",
       "0        furnished  \n",
       "1        furnished  \n",
       "2   semi-furnished  \n",
       "3        furnished  \n",
       "4        furnished  "
      ]
     },
     "execution_count": 74,
     "metadata": {},
     "output_type": "execute_result"
    }
   ],
   "source": [
    "# List of variables to map (string to numerical values)\n",
    "varlist = ['mainroad', 'guestroom', 'basement', 'hotwaterheating', 'airconditioning', 'prefarea']\n",
    "\n",
    "# Defining the map function\n",
    "def binary_map(x):\n",
    "    return x.map({'yes': 1, \"no\": 0})\n",
    "\n",
    "# Applying the function to the housing list\n",
    "housing[varlist] = housing[varlist].apply(binary_map)\n",
    "           \n",
    "# Check the housing dataframe now\n",
    "housing.head()"
   ]
  },
  {
   "cell_type": "code",
   "execution_count": 75,
   "id": "608f6150-1084-407e-bc18-df084f617660",
   "metadata": {},
   "outputs": [
    {
     "data": {
      "text/plain": [
       "(436, 13)"
      ]
     },
     "execution_count": 75,
     "metadata": {},
     "output_type": "execute_result"
    }
   ],
   "source": [
    "#Splitting the Data into Training and Testing Sets\n",
    "from sklearn.model_selection import train_test_split\n",
    "\n",
    "# We specify random seed so that the train and test data set always have the same rows, respectively\n",
    "np.random.seed(0)\n",
    "# split 80% as training set and 20% as testing set\n",
    "df_train, df_test = train_test_split(housing, train_size = 0.8, test_size = 0.2, random_state = 100)\n",
    "\n",
    "df_train.shape"
   ]
  },
  {
   "cell_type": "code",
   "execution_count": 76,
   "id": "f4977aeb-7870-4d9c-8f1c-b8e7f2745c73",
   "metadata": {},
   "outputs": [
    {
     "data": {
      "text/plain": [
       "(109, 13)"
      ]
     },
     "execution_count": 76,
     "metadata": {},
     "output_type": "execute_result"
    }
   ],
   "source": [
    "df_test.shape"
   ]
  },
  {
   "cell_type": "code",
   "execution_count": 77,
   "id": "b695b2e8-fab3-4496-bffa-92b3e3617358",
   "metadata": {},
   "outputs": [
    {
     "data": {
      "text/html": [
       "<div>\n",
       "<style scoped>\n",
       "    .dataframe tbody tr th:only-of-type {\n",
       "        vertical-align: middle;\n",
       "    }\n",
       "\n",
       "    .dataframe tbody tr th {\n",
       "        vertical-align: top;\n",
       "    }\n",
       "\n",
       "    .dataframe thead th {\n",
       "        text-align: right;\n",
       "    }\n",
       "</style>\n",
       "<table border=\"1\" class=\"dataframe\">\n",
       "  <thead>\n",
       "    <tr style=\"text-align: right;\">\n",
       "      <th></th>\n",
       "      <th>area</th>\n",
       "      <th>bedrooms</th>\n",
       "      <th>bathrooms</th>\n",
       "      <th>stories</th>\n",
       "      <th>parking</th>\n",
       "      <th>price</th>\n",
       "    </tr>\n",
       "  </thead>\n",
       "  <tbody>\n",
       "    <tr>\n",
       "      <th>22</th>\n",
       "      <td>8050</td>\n",
       "      <td>3</td>\n",
       "      <td>1</td>\n",
       "      <td>1</td>\n",
       "      <td>1</td>\n",
       "      <td>8645000</td>\n",
       "    </tr>\n",
       "    <tr>\n",
       "      <th>41</th>\n",
       "      <td>6360</td>\n",
       "      <td>3</td>\n",
       "      <td>2</td>\n",
       "      <td>4</td>\n",
       "      <td>0</td>\n",
       "      <td>7840000</td>\n",
       "    </tr>\n",
       "    <tr>\n",
       "      <th>91</th>\n",
       "      <td>6750</td>\n",
       "      <td>2</td>\n",
       "      <td>1</td>\n",
       "      <td>1</td>\n",
       "      <td>2</td>\n",
       "      <td>6419000</td>\n",
       "    </tr>\n",
       "    <tr>\n",
       "      <th>118</th>\n",
       "      <td>6420</td>\n",
       "      <td>3</td>\n",
       "      <td>1</td>\n",
       "      <td>1</td>\n",
       "      <td>0</td>\n",
       "      <td>5950000</td>\n",
       "    </tr>\n",
       "    <tr>\n",
       "      <th>472</th>\n",
       "      <td>3630</td>\n",
       "      <td>4</td>\n",
       "      <td>1</td>\n",
       "      <td>2</td>\n",
       "      <td>3</td>\n",
       "      <td>3010000</td>\n",
       "    </tr>\n",
       "  </tbody>\n",
       "</table>\n",
       "</div>"
      ],
      "text/plain": [
       "     area  bedrooms  bathrooms  stories  parking    price\n",
       "22   8050         3          1        1        1  8645000\n",
       "41   6360         3          2        4        0  7840000\n",
       "91   6750         2          1        1        2  6419000\n",
       "118  6420         3          1        1        0  5950000\n",
       "472  3630         4          1        2        3  3010000"
      ]
     },
     "execution_count": 77,
     "metadata": {},
     "output_type": "execute_result"
    }
   ],
   "source": [
    "num_vars = ['area', 'bedrooms', 'bathrooms', 'stories', 'parking','price']\n",
    "df_Newtrain = df_train[num_vars]\n",
    "df_Newtest = df_test[num_vars]\n",
    "df_Newtrain.head()"
   ]
  },
  {
   "cell_type": "code",
   "execution_count": 78,
   "id": "cece3ad1-059a-42f9-92eb-6a090c56b8c3",
   "metadata": {},
   "outputs": [
    {
     "data": {
      "text/plain": [
       "(436, 6)"
      ]
     },
     "execution_count": 78,
     "metadata": {},
     "output_type": "execute_result"
    }
   ],
   "source": [
    "df_Newtrain.shape"
   ]
  },
  {
   "cell_type": "code",
   "execution_count": 79,
   "id": "03788a5d-bd69-46a9-8d8f-b8571fc415f1",
   "metadata": {},
   "outputs": [],
   "source": [
    "y_Newtrain = df_Newtrain.pop('price')\n",
    "X_Newtrain = df_Newtrain"
   ]
  },
  {
   "cell_type": "code",
   "execution_count": 80,
   "id": "ba4d4f55-c010-4ca7-9b7d-02ffd7d72fdd",
   "metadata": {},
   "outputs": [
    {
     "data": {
      "text/html": [
       "<div>\n",
       "<style scoped>\n",
       "    .dataframe tbody tr th:only-of-type {\n",
       "        vertical-align: middle;\n",
       "    }\n",
       "\n",
       "    .dataframe tbody tr th {\n",
       "        vertical-align: top;\n",
       "    }\n",
       "\n",
       "    .dataframe thead th {\n",
       "        text-align: right;\n",
       "    }\n",
       "</style>\n",
       "<table border=\"1\" class=\"dataframe\">\n",
       "  <thead>\n",
       "    <tr style=\"text-align: right;\">\n",
       "      <th></th>\n",
       "      <th>area</th>\n",
       "      <th>bedrooms</th>\n",
       "      <th>bathrooms</th>\n",
       "      <th>stories</th>\n",
       "      <th>parking</th>\n",
       "    </tr>\n",
       "  </thead>\n",
       "  <tbody>\n",
       "    <tr>\n",
       "      <th>22</th>\n",
       "      <td>8050</td>\n",
       "      <td>3</td>\n",
       "      <td>1</td>\n",
       "      <td>1</td>\n",
       "      <td>1</td>\n",
       "    </tr>\n",
       "    <tr>\n",
       "      <th>41</th>\n",
       "      <td>6360</td>\n",
       "      <td>3</td>\n",
       "      <td>2</td>\n",
       "      <td>4</td>\n",
       "      <td>0</td>\n",
       "    </tr>\n",
       "    <tr>\n",
       "      <th>91</th>\n",
       "      <td>6750</td>\n",
       "      <td>2</td>\n",
       "      <td>1</td>\n",
       "      <td>1</td>\n",
       "      <td>2</td>\n",
       "    </tr>\n",
       "    <tr>\n",
       "      <th>118</th>\n",
       "      <td>6420</td>\n",
       "      <td>3</td>\n",
       "      <td>1</td>\n",
       "      <td>1</td>\n",
       "      <td>0</td>\n",
       "    </tr>\n",
       "    <tr>\n",
       "      <th>472</th>\n",
       "      <td>3630</td>\n",
       "      <td>4</td>\n",
       "      <td>1</td>\n",
       "      <td>2</td>\n",
       "      <td>3</td>\n",
       "    </tr>\n",
       "  </tbody>\n",
       "</table>\n",
       "</div>"
      ],
      "text/plain": [
       "     area  bedrooms  bathrooms  stories  parking\n",
       "22   8050         3          1        1        1\n",
       "41   6360         3          2        4        0\n",
       "91   6750         2          1        1        2\n",
       "118  6420         3          1        1        0\n",
       "472  3630         4          1        2        3"
      ]
     },
     "execution_count": 80,
     "metadata": {},
     "output_type": "execute_result"
    }
   ],
   "source": [
    "X_Newtrain.head()"
   ]
  },
  {
   "cell_type": "code",
   "execution_count": 81,
   "id": "9b423d5f-6675-41c6-8abb-1523d39ef9e8",
   "metadata": {},
   "outputs": [
    {
     "data": {
      "text/plain": [
       "22     8645000\n",
       "41     7840000\n",
       "91     6419000\n",
       "118    5950000\n",
       "472    3010000\n",
       "Name: price, dtype: int64"
      ]
     },
     "execution_count": 81,
     "metadata": {},
     "output_type": "execute_result"
    }
   ],
   "source": [
    "y_Newtrain.head()"
   ]
  },
  {
   "cell_type": "code",
   "execution_count": 82,
   "id": "6eeb02c7-ffb6-433c-93ed-08520e4cfee4",
   "metadata": {},
   "outputs": [
    {
     "name": "stdout",
     "output_type": "stream",
     "text": [
      "y =  [ 8645000  7840000  6419000  5950000  3010000  3850000 12250000  4480000\n",
      "  5110000  4319000]\n"
     ]
    }
   ],
   "source": [
    "y = y_Newtrain.values\n",
    "print('y = ', y[: 10])"
   ]
  },
  {
   "cell_type": "code",
   "execution_count": 83,
   "id": "79e61575-9ab4-4167-be00-2160d9aa7165",
   "metadata": {},
   "outputs": [
    {
     "name": "stdout",
     "output_type": "stream",
     "text": [
      "X1 =  [8050 6360 6750 6420 3630 3850 8960 8250 3000 4032]\n",
      "X2 =  [3 3 2 3 4 2 4 3 3 2]\n",
      "X3 =  [1 2 1 1 1 1 4 1 2 1]\n",
      "X4 =  [1 4 1 1 2 1 4 1 2 1]\n",
      "X5 =  [1 0 2 0 3 0 3 0 0 0]\n"
     ]
    }
   ],
   "source": [
    "# preparing the training set\n",
    "\n",
    "X1 = df_Newtrain.values[:, 0]     # getting input value from first column and putting in Variable-1 (X1)   \n",
    "X2 = df_Newtrain.values[:, 1]     # getting input value from first column and putting in Variable-2 (X2)          \n",
    "X3 = df_Newtrain.values[:, 2]     # getting input value from first column and putting in Variable-3 (X3)           \n",
    "X4 = df_Newtrain.values[:, 3]     # getting input value from first column and putting in Variable-4 (X4)          \n",
    "X5 = df_Newtrain.values[:, 4]     # getting input value from first column and putting in Variable-5 (X5)\n",
    "\n",
    "# print first 10 values from each variable\n",
    "\n",
    "print('X1 = ', X1[: 10]) \n",
    "print('X2 = ', X2[: 10])\n",
    "print('X3 = ', X3[: 10])\n",
    "print('X4 = ', X4[: 10])\n",
    "print('X5 = ', X5[: 10])"
   ]
  },
  {
   "cell_type": "code",
   "execution_count": 84,
   "id": "4b7ba034-8713-42c4-8208-0c1d1702acd0",
   "metadata": {},
   "outputs": [
    {
     "data": {
      "text/plain": [
       "array([[1.],\n",
       "       [1.],\n",
       "       [1.],\n",
       "       [1.],\n",
       "       [1.]])"
      ]
     },
     "execution_count": 84,
     "metadata": {},
     "output_type": "execute_result"
    }
   ],
   "source": [
    "m = len(X_Newtrain)         # size of training set\n",
    "X_0 = np.ones((m, 1))       # Creating a single column matrix (X_0) of training set size, contains all ones \n",
    "X_0 [: 5]"
   ]
  },
  {
   "cell_type": "code",
   "execution_count": 85,
   "id": "d6e6f84b-1021-4f84-81ff-a0b9d303e334",
   "metadata": {},
   "outputs": [
    {
     "name": "stdout",
     "output_type": "stream",
     "text": [
      "X_1 =  [[8050]\n",
      " [6360]\n",
      " [6750]\n",
      " [6420]\n",
      " [3630]]\n",
      "X_2 =  [[3]\n",
      " [3]\n",
      " [2]\n",
      " [3]\n",
      " [4]]\n",
      "X_3 =  [[1]\n",
      " [2]\n",
      " [1]\n",
      " [1]\n",
      " [1]]\n",
      "X_4 =  [[1]\n",
      " [4]\n",
      " [1]\n",
      " [1]\n",
      " [2]]\n",
      "X_5 =  [[1]\n",
      " [0]\n",
      " [2]\n",
      " [0]\n",
      " [3]]\n"
     ]
    }
   ],
   "source": [
    "# Converting 1D arrays of X1, X2, X3, X4 and X5 to 2D arrays\n",
    "X_1 = X1.reshape(m, 1)\n",
    "X_2 = X2.reshape(m, 1)\n",
    "X_3 = X3.reshape(m, 1)\n",
    "X_4 = X4.reshape(m, 1)\n",
    "X_5 = X5.reshape(m, 1)\n",
    "\n",
    "# print first 5 values from each 2D array\n",
    "print('X_1 = ', X_1[: 5])\n",
    "print('X_2 = ', X_2[: 5])\n",
    "print('X_3 = ', X_3[: 5])\n",
    "print('X_4 = ', X_4[: 5])\n",
    "print('X_5 = ', X_5[: 5])"
   ]
  },
  {
   "cell_type": "code",
   "execution_count": 86,
   "id": "77c7e0e8-0213-4bcf-b003-781d381d08c8",
   "metadata": {},
   "outputs": [
    {
     "data": {
      "text/plain": [
       "array([[1.00e+00, 8.05e+03, 3.00e+00, 1.00e+00, 1.00e+00, 1.00e+00],\n",
       "       [1.00e+00, 6.36e+03, 3.00e+00, 2.00e+00, 4.00e+00, 0.00e+00],\n",
       "       [1.00e+00, 6.75e+03, 2.00e+00, 1.00e+00, 1.00e+00, 2.00e+00],\n",
       "       [1.00e+00, 6.42e+03, 3.00e+00, 1.00e+00, 1.00e+00, 0.00e+00],\n",
       "       [1.00e+00, 3.63e+03, 4.00e+00, 1.00e+00, 2.00e+00, 3.00e+00]])"
      ]
     },
     "execution_count": 86,
     "metadata": {},
     "output_type": "execute_result"
    }
   ],
   "source": [
    "# Stacking X_0, X_1, X_2, X_3, X-4 and X_5 horizotally\n",
    "# This is the final X Matrix for training\n",
    "\n",
    "X = np.hstack((X_0, X_1, X_2, X_3, X_4, X_5))\n",
    "X [: 5]"
   ]
  },
  {
   "cell_type": "code",
   "execution_count": 87,
   "id": "673c1741-69da-48a6-8dca-afc50c291926",
   "metadata": {},
   "outputs": [
    {
     "data": {
      "text/plain": [
       "array([0., 0., 0., 0., 0., 0.])"
      ]
     },
     "execution_count": 87,
     "metadata": {},
     "output_type": "execute_result"
    }
   ],
   "source": [
    "theta = np.zeros(6)\n",
    "theta"
   ]
  },
  {
   "cell_type": "code",
   "execution_count": 88,
   "id": "c510f4db-c55b-4bba-92de-1f409606613b",
   "metadata": {},
   "outputs": [],
   "source": [
    "y_Newtest = df_Newtest.pop('price')\n",
    "X_Newtest = df_Newtest"
   ]
  },
  {
   "cell_type": "code",
   "execution_count": 89,
   "id": "6367fd7e-bd1d-4b02-867a-7efd065a24c4",
   "metadata": {},
   "outputs": [
    {
     "data": {
      "text/html": [
       "<div>\n",
       "<style scoped>\n",
       "    .dataframe tbody tr th:only-of-type {\n",
       "        vertical-align: middle;\n",
       "    }\n",
       "\n",
       "    .dataframe tbody tr th {\n",
       "        vertical-align: top;\n",
       "    }\n",
       "\n",
       "    .dataframe thead th {\n",
       "        text-align: right;\n",
       "    }\n",
       "</style>\n",
       "<table border=\"1\" class=\"dataframe\">\n",
       "  <thead>\n",
       "    <tr style=\"text-align: right;\">\n",
       "      <th></th>\n",
       "      <th>area</th>\n",
       "      <th>bedrooms</th>\n",
       "      <th>bathrooms</th>\n",
       "      <th>stories</th>\n",
       "      <th>parking</th>\n",
       "    </tr>\n",
       "  </thead>\n",
       "  <tbody>\n",
       "    <tr>\n",
       "      <th>265</th>\n",
       "      <td>2880</td>\n",
       "      <td>3</td>\n",
       "      <td>1</td>\n",
       "      <td>2</td>\n",
       "      <td>0</td>\n",
       "    </tr>\n",
       "    <tr>\n",
       "      <th>54</th>\n",
       "      <td>6000</td>\n",
       "      <td>3</td>\n",
       "      <td>2</td>\n",
       "      <td>2</td>\n",
       "      <td>1</td>\n",
       "    </tr>\n",
       "    <tr>\n",
       "      <th>171</th>\n",
       "      <td>10269</td>\n",
       "      <td>3</td>\n",
       "      <td>1</td>\n",
       "      <td>1</td>\n",
       "      <td>1</td>\n",
       "    </tr>\n",
       "    <tr>\n",
       "      <th>244</th>\n",
       "      <td>5320</td>\n",
       "      <td>3</td>\n",
       "      <td>1</td>\n",
       "      <td>2</td>\n",
       "      <td>0</td>\n",
       "    </tr>\n",
       "    <tr>\n",
       "      <th>268</th>\n",
       "      <td>4950</td>\n",
       "      <td>4</td>\n",
       "      <td>1</td>\n",
       "      <td>2</td>\n",
       "      <td>0</td>\n",
       "    </tr>\n",
       "  </tbody>\n",
       "</table>\n",
       "</div>"
      ],
      "text/plain": [
       "      area  bedrooms  bathrooms  stories  parking\n",
       "265   2880         3          1        2        0\n",
       "54    6000         3          2        2        1\n",
       "171  10269         3          1        1        1\n",
       "244   5320         3          1        2        0\n",
       "268   4950         4          1        2        0"
      ]
     },
     "execution_count": 89,
     "metadata": {},
     "output_type": "execute_result"
    }
   ],
   "source": [
    "X_Newtest.head()"
   ]
  },
  {
   "cell_type": "code",
   "execution_count": 90,
   "id": "895229b7-692a-4dd9-a0fd-72705d92daa2",
   "metadata": {},
   "outputs": [
    {
     "data": {
      "text/plain": [
       "265    4403000\n",
       "54     7350000\n",
       "171    5250000\n",
       "244    4550000\n",
       "268    4382000\n",
       "Name: price, dtype: int64"
      ]
     },
     "execution_count": 90,
     "metadata": {},
     "output_type": "execute_result"
    }
   ],
   "source": [
    "y_Newtest.head()"
   ]
  },
  {
   "cell_type": "code",
   "execution_count": 91,
   "id": "87b5b97a-f56f-4489-8c7c-c567d4ae535d",
   "metadata": {},
   "outputs": [
    {
     "name": "stdout",
     "output_type": "stream",
     "text": [
      "y_test =  [4403000 7350000 5250000 4550000 4382000 4690000 8540000 5250000 2730000\n",
      " 5950000]\n"
     ]
    }
   ],
   "source": [
    "y_test = y_Newtest.values\n",
    "print('y_test = ', y_test[: 10])"
   ]
  },
  {
   "cell_type": "code",
   "execution_count": 92,
   "id": "75ba9cd2-334d-4039-b03e-932c98f06742",
   "metadata": {},
   "outputs": [
    {
     "name": "stdout",
     "output_type": "stream",
     "text": [
      "X1_test =  [ 2880  6000 10269  5320  4950  4320  6540  6540  6800  6540]\n",
      "X2_test =  [3 3 3 3 4 3 4 4 2 3]\n",
      "X3_test =  [1 2 1 1 1 1 2 2 1 1]\n",
      "X4_test =  [2 2 1 2 2 1 2 2 1 1]\n",
      "X5_test =  [0 1 1 0 0 0 2 0 0 2]\n"
     ]
    }
   ],
   "source": [
    "# preparing the testing/validarion set\n",
    "X1_test = df_Newtest.values[:, 0]     # getting input value from first column and putting in Variable-1 (X1_test)            \n",
    "X2_test = df_Newtest.values[:, 1]     # getting input value from first column and putting in Variable-2 (X2_test)            \n",
    "X3_test = df_Newtest.values[:, 2]     # getting input value from first column and putting in Variable-3 (X3_test)           \n",
    "X4_test = df_Newtest.values[:, 3]     # getting input value from first column and putting in Variable-4 (X4_test)           \n",
    "X5_test = df_Newtest.values[:, 4]     # getting input value from first column and putting in Variable-5 (X5_test)\n",
    "\n",
    "# print first 10 values from each variable\n",
    "\n",
    "print('X1_test = ', X1_test[: 10]) \n",
    "print('X2_test = ', X2_test[: 10])\n",
    "print('X3_test = ', X3_test[: 10])\n",
    "print('X4_test = ', X4_test[: 10])\n",
    "print('X5_test = ', X5_test[: 10])"
   ]
  },
  {
   "cell_type": "code",
   "execution_count": 93,
   "id": "a5ce21af-7c2c-4c11-a117-c5faa38105ce",
   "metadata": {},
   "outputs": [
    {
     "data": {
      "text/plain": [
       "array([[1.],\n",
       "       [1.],\n",
       "       [1.],\n",
       "       [1.],\n",
       "       [1.]])"
      ]
     },
     "execution_count": 93,
     "metadata": {},
     "output_type": "execute_result"
    }
   ],
   "source": [
    "m_test = len(X_Newtest)             # size of validation set\n",
    "X_0_test = np.ones((m_test, 1))     # Creating a single column matrix (X_0_test) of validation set size, contains all ones\n",
    "X_0_test [: 5]"
   ]
  },
  {
   "cell_type": "code",
   "execution_count": 94,
   "id": "178dd78e-83c5-49ae-9492-abf5d5ee4ddc",
   "metadata": {},
   "outputs": [
    {
     "name": "stdout",
     "output_type": "stream",
     "text": [
      "X_1_test =  [[ 2880]\n",
      " [ 6000]\n",
      " [10269]\n",
      " [ 5320]\n",
      " [ 4950]]\n",
      "X_2_test =  [[3]\n",
      " [3]\n",
      " [3]\n",
      " [3]\n",
      " [4]]\n",
      "X_3_test =  [[1]\n",
      " [2]\n",
      " [1]\n",
      " [1]\n",
      " [1]]\n",
      "X_4_test =  [[2]\n",
      " [2]\n",
      " [1]\n",
      " [2]\n",
      " [2]]\n",
      "X_5_test =  [[0]\n",
      " [1]\n",
      " [1]\n",
      " [0]\n",
      " [0]]\n"
     ]
    }
   ],
   "source": [
    "# Converting 1D arrays of validation X's to 2D arrays\n",
    "\n",
    "X_1_test = X1_test.reshape(m_test, 1)\n",
    "X_2_test = X2_test.reshape(m_test, 1)\n",
    "X_3_test = X3_test.reshape(m_test, 1)\n",
    "X_4_test = X4_test.reshape(m_test, 1)\n",
    "X_5_test = X5_test.reshape(m_test, 1)\n",
    "\n",
    "# print first 5 values from each 2D array\n",
    "print('X_1_test = ', X_1_test[: 5])\n",
    "print('X_2_test = ', X_2_test[: 5])\n",
    "print('X_3_test = ', X_3_test[: 5])\n",
    "print('X_4_test = ', X_4_test[: 5])\n",
    "print('X_5_test = ', X_5_test[: 5])"
   ]
  },
  {
   "cell_type": "code",
   "execution_count": 95,
   "id": "97f556e0-a25e-4eb8-94cc-fb3fccfacca2",
   "metadata": {},
   "outputs": [
    {
     "data": {
      "text/plain": [
       "array([[1.0000e+00, 2.8800e+03, 3.0000e+00, 1.0000e+00, 2.0000e+00,\n",
       "        0.0000e+00],\n",
       "       [1.0000e+00, 6.0000e+03, 3.0000e+00, 2.0000e+00, 2.0000e+00,\n",
       "        1.0000e+00],\n",
       "       [1.0000e+00, 1.0269e+04, 3.0000e+00, 1.0000e+00, 1.0000e+00,\n",
       "        1.0000e+00],\n",
       "       [1.0000e+00, 5.3200e+03, 3.0000e+00, 1.0000e+00, 2.0000e+00,\n",
       "        0.0000e+00],\n",
       "       [1.0000e+00, 4.9500e+03, 4.0000e+00, 1.0000e+00, 2.0000e+00,\n",
       "        0.0000e+00]])"
      ]
     },
     "execution_count": 95,
     "metadata": {},
     "output_type": "execute_result"
    }
   ],
   "source": [
    "# Stacking X_0_test through X_5_test horizotally\n",
    "# This is the final X Matrix for validation\n",
    "\n",
    "X_test = np.hstack((X_0_test, X_1_test, X_2_test, X_3_test, X_4_test, X_5_test))\n",
    "X_test [: 5]"
   ]
  },
  {
   "cell_type": "code",
   "execution_count": 96,
   "id": "1c328950-1b2e-4225-8d77-644fb1523842",
   "metadata": {},
   "outputs": [],
   "source": [
    "# defining function for computing the cost for linear regression\n",
    "\n",
    "def compute_cost(X, y, theta, m):\n",
    "    predictions = X.dot(theta)\n",
    "    errors = np.subtract(predictions, y)\n",
    "    sqrErrors = np.square(errors)\n",
    "    J = 1 / (2 * m) * np.sum(sqrErrors)\n",
    "    return J"
   ]
  },
  {
   "cell_type": "code",
   "execution_count": 97,
   "id": "144908ba-566e-4711-8b58-4c0e4962e54f",
   "metadata": {},
   "outputs": [
    {
     "name": "stdout",
     "output_type": "stream",
     "text": [
      "The initial cost for given values of theta_0 to theta_5 =  13238799902211.697\n"
     ]
    }
   ],
   "source": [
    "# computing the cost for initial theta values\n",
    "\n",
    "cost = compute_cost(X, y, theta, m)\n",
    "print('The initial cost for given values of theta_0 to theta_5 = ', cost)"
   ]
  },
  {
   "cell_type": "code",
   "execution_count": 98,
   "id": "306a5610-cecd-44cb-bfdd-e197348b7d7c",
   "metadata": {},
   "outputs": [],
   "source": [
    "# defining function for gradient descent algorithm\n",
    "# gradient descent algorithm is applied on the training set\n",
    "# for each iteration loss for both training and validation set is calculated\n",
    "\n",
    "def gradient_descent(X, y, theta, alpha, iterations):\n",
    "    cost_history = np.zeros(iterations)\n",
    "    cost_test = np.zeros(iterations)\n",
    "    for i in range(iterations):\n",
    "        predictions = X.dot(theta)\n",
    "        errors = np.subtract(predictions, y)\n",
    "        sum_delta = (alpha / m) * X.transpose().dot(errors);\n",
    "        theta = theta - sum_delta;\n",
    "        cost_history[i] = compute_cost(X, y, theta, m)                     # loss for training set\n",
    "        cost_test[i] = compute_cost(X_test, y_test, theta, m_test)         # loss for validation set\n",
    "    \n",
    "    return theta, cost_history, cost_test"
   ]
  },
  {
   "cell_type": "code",
   "execution_count": 99,
   "id": "74ea0ddc",
   "metadata": {},
   "outputs": [],
   "source": [
    "# We need theta parameter for every input variable. since we have six input variables"
   ]
  },
  {
   "cell_type": "code",
   "execution_count": 100,
   "id": "0dab2bfa",
   "metadata": {},
   "outputs": [],
   "source": [
    "### For alpha( learning rate= 0.0845) as question asked to explore different values between 0.1 and 0.01.\n",
    "\n",
    "theta_00845 = [0., 0., 0., 0., 0., 0.]\n",
    "iterations = 100;\n",
    "alpha_00845 = 0.0845"
   ]
  },
  {
   "cell_type": "code",
   "execution_count": 101,
   "id": "bf876a17",
   "metadata": {},
   "outputs": [
    {
     "name": "stdout",
     "output_type": "stream",
     "text": [
      "Final value of theta= [nan nan nan nan nan nan]\n",
      "cost_history = [7.97102789e+025 5.50168733e+038 3.79732249e+051 2.62095194e+064\n",
      " 1.80900861e+077 1.24859678e+090 8.61794636e+102 5.94819727e+115\n",
      " 4.10550835e+128 2.83366507e+141 1.95582545e+154 1.34993131e+167\n",
      " 9.31736792e+179 6.43094539e+192 4.43870618e+205 3.06364172e+218\n",
      " 2.11455775e+231 1.45949001e+244 1.00735536e+257 6.95287273e+269\n",
      " 4.79894593e+282 3.31228298e+295             inf             inf\n",
      "             inf             inf             inf             inf\n",
      "             inf             inf             inf             inf\n",
      "             inf             inf             inf             inf\n",
      "             inf             inf             inf             inf\n",
      "             inf             inf             inf             inf\n",
      "             inf             inf             inf             nan\n",
      "             nan             nan             nan             nan\n",
      "             nan             nan             nan             nan\n",
      "             nan             nan             nan             nan\n",
      "             nan             nan             nan             nan\n",
      "             nan             nan             nan             nan\n",
      "             nan             nan             nan             nan\n",
      "             nan             nan             nan             nan\n",
      "             nan             nan             nan             nan\n",
      "             nan             nan             nan             nan\n",
      "             nan             nan             nan             nan\n",
      "             nan             nan             nan             nan\n",
      "             nan             nan             nan             nan\n",
      "             nan             nan             nan             nan]\n",
      "cost_test = [8.14791802e+025 5.62377861e+038 3.88159118e+051 2.67911508e+064\n",
      " 1.84915342e+077 1.27630515e+090 8.80919244e+102 6.08019732e+115\n",
      " 4.19661617e+128 2.89654865e+141 1.99922836e+154 1.37988845e+167\n",
      " 9.52413529e+179 6.57365840e+192 4.53720820e+205 3.13162885e+218\n",
      " 2.16148318e+231 1.49187844e+244 1.02971020e+257 7.10716815e+269\n",
      " 4.90544225e+282 3.38578786e+295             inf             inf\n",
      "             inf             inf             inf             inf\n",
      "             inf             inf             inf             inf\n",
      "             inf             inf             inf             inf\n",
      "             inf             inf             inf             inf\n",
      "             inf             inf             inf             inf\n",
      "             inf             inf             inf             nan\n",
      "             nan             nan             nan             nan\n",
      "             nan             nan             nan             nan\n",
      "             nan             nan             nan             nan\n",
      "             nan             nan             nan             nan\n",
      "             nan             nan             nan             nan\n",
      "             nan             nan             nan             nan\n",
      "             nan             nan             nan             nan\n",
      "             nan             nan             nan             nan\n",
      "             nan             nan             nan             nan\n",
      "             nan             nan             nan             nan\n",
      "             nan             nan             nan             nan\n",
      "             nan             nan             nan             nan\n",
      "             nan             nan             nan             nan]\n"
     ]
    }
   ],
   "source": [
    "# Computing final theta values and cost/losses for training and validation set\n",
    "\n",
    "theta, cost_history, cost_test = gradient_descent(X, y, theta_00845, alpha_00845, iterations)\n",
    "print('Final value of theta=', theta)\n",
    "print('cost_history =', cost_history)\n",
    "print('cost_test =', cost_test)"
   ]
  },
  {
   "cell_type": "code",
   "execution_count": 102,
   "id": "5c2a07f2",
   "metadata": {},
   "outputs": [
    {
     "data": {
      "text/plain": [
       "Text(0.5, 1.0, 'Convergence of Gradient Descent')"
      ]
     },
     "execution_count": 102,
     "metadata": {},
     "output_type": "execute_result"
    },
    {
     "data": {
      "image/png": "[encoded data removed]",
      "text/plain": [
       "<Figure size 1000x600 with 1 Axes>"
      ]
     },
     "metadata": {},
     "output_type": "display_data"
    }
   ],
   "source": [
    "plt.plot(range(1, iterations + 1),cost_history, color='green', label= 'Loss for Training Set')\n",
    "plt.plot(range(1, iterations + 1),cost_test, color='red', label= 'Loss for Validation Set')\n",
    "plt.rcParams[\"figure.figsize\"] = (10,6)\n",
    "plt.grid()\n",
    "plt.legend()\n",
    "plt.xlabel('Number of Iterations')\n",
    "plt.ylabel('Cost (J)')\n",
    "plt.title('Convergence of Gradient Descent')"
   ]
  },
  {
   "cell_type": "code",
   "execution_count": 103,
   "id": "a5a9c725",
   "metadata": {},
   "outputs": [],
   "source": [
    "### For alpha( learning rate= 0.0128) as question asked to explore different values between 0.1 and 0.01.\n",
    "\n",
    "theta_00128 = [0., 0., 0., 0., 0., 0.]\n",
    "iterations = 100;\n",
    "alpha_00128 = 0.0128"
   ]
  },
  {
   "cell_type": "code",
   "execution_count": 104,
   "id": "ffd55285",
   "metadata": {},
   "outputs": [
    {
     "name": "stdout",
     "output_type": "stream",
     "text": [
      "Final value of theta= [nan nan nan nan nan nan]\n",
      "cost_history = [1.82902229e+024 2.89671150e+035 4.58766280e+046 7.26570457e+057\n",
      " 1.15070495e+069 1.82242736e+080 2.88626679e+091 4.57112101e+102\n",
      " 7.23950653e+113 1.14655584e+125 1.81585621e+136 2.87585975e+147\n",
      " 4.55463887e+158 7.21340296e+169 1.14242169e+181 1.80930876e+192\n",
      " 2.86549022e+203 4.53821615e+214 7.18739350e+225 1.13830244e+237\n",
      " 1.80278491e+248 2.85515809e+259 4.52185265e+270 7.16147783e+281\n",
      " 1.13419805e+293 1.79628459e+304             inf             inf\n",
      "             inf             inf             inf             inf\n",
      "             inf             inf             inf             inf\n",
      "             inf             inf             inf             inf\n",
      "             inf             inf             inf             inf\n",
      "             inf             inf             inf             inf\n",
      "             inf             inf             inf             inf\n",
      "             inf             inf             nan             nan\n",
      "             nan             nan             nan             nan\n",
      "             nan             nan             nan             nan\n",
      "             nan             nan             nan             nan\n",
      "             nan             nan             nan             nan\n",
      "             nan             nan             nan             nan\n",
      "             nan             nan             nan             nan\n",
      "             nan             nan             nan             nan\n",
      "             nan             nan             nan             nan\n",
      "             nan             nan             nan             nan\n",
      "             nan             nan             nan             nan\n",
      "             nan             nan             nan             nan]\n",
      "cost_test = [1.86961156e+024 2.96099418e+035 4.68947041e+046 7.42694223e+057\n",
      " 1.17624094e+069 1.86286995e+080 2.95031769e+091 4.67256153e+102\n",
      " 7.40016282e+113 1.17199975e+125 1.85615298e+136 2.93967969e+147\n",
      " 4.65571362e+158 7.37347996e+169 1.16777386e+181 1.84946023e+192\n",
      " 2.92908006e+203 4.63892646e+214 7.34689331e+225 1.16356320e+237\n",
      " 1.84279160e+248 2.91851864e+259 4.62219982e+270 7.32040253e+281\n",
      " 1.15936773e+293 1.83614703e+304             inf             inf\n",
      "             inf             inf             inf             inf\n",
      "             inf             inf             inf             inf\n",
      "             inf             inf             inf             inf\n",
      "             inf             inf             inf             inf\n",
      "             inf             inf             inf             inf\n",
      "             inf             inf             inf             inf\n",
      "             inf             inf             nan             nan\n",
      "             nan             nan             nan             nan\n",
      "             nan             nan             nan             nan\n",
      "             nan             nan             nan             nan\n",
      "             nan             nan             nan             nan\n",
      "             nan             nan             nan             nan\n",
      "             nan             nan             nan             nan\n",
      "             nan             nan             nan             nan\n",
      "             nan             nan             nan             nan\n",
      "             nan             nan             nan             nan\n",
      "             nan             nan             nan             nan\n",
      "             nan             nan             nan             nan]\n"
     ]
    }
   ],
   "source": [
    "# Computing final theta values and cost/losses for training and validation set\n",
    "\n",
    "theta, cost_history, cost_test = gradient_descent(X, y, theta_00128, alpha_00128, iterations)\n",
    "print('Final value of theta=', theta)\n",
    "print('cost_history =', cost_history)\n",
    "print('cost_test =', cost_test)"
   ]
  },
  {
   "cell_type": "code",
   "execution_count": 105,
   "id": "098be6a6",
   "metadata": {},
   "outputs": [
    {
     "data": {
      "text/plain": [
       "Text(0.5, 1.0, 'Convergence of Gradient Descent')"
      ]
     },
     "execution_count": 105,
     "metadata": {},
     "output_type": "execute_result"
    },
    {
     "data": {
      "image/png": "[encoded data removed]",
      "text/plain": [
       "<Figure size 1000x600 with 1 Axes>"
      ]
     },
     "metadata": {},
     "output_type": "display_data"
    }
   ],
   "source": [
    "plt.plot(range(1, iterations + 1),cost_history, color='green', label= 'Loss for Training Set')\n",
    "plt.plot(range(1, iterations + 1),cost_test, color='red', label= 'Loss for Validation Set')\n",
    "plt.rcParams[\"figure.figsize\"] = (10,6)\n",
    "plt.grid()\n",
    "plt.legend()\n",
    "plt.xlabel('Number of Iterations')\n",
    "plt.ylabel('Cost (J)')\n",
    "plt.title('Convergence of Gradient Descent')"
   ]
  },
  {
   "cell_type": "code",
   "execution_count": 106,
   "id": "15eff300",
   "metadata": {},
   "outputs": [],
   "source": [
    "### For alpha( learning rate= 0.01)\n",
    "### For the learning rate, we have to explore different values between 0.1 and 0.01.\n",
    "theta_001 = [0., 0., 0., 0., 0., 0.]\n",
    "iterations = 100;\n",
    "alpha_001 = 0.01"
   ]
  },
  {
   "cell_type": "code",
   "execution_count": 107,
   "id": "5430ef37",
   "metadata": {},
   "outputs": [
    {
     "name": "stdout",
     "output_type": "stream",
     "text": [
      "Final value of theta= [nan nan nan nan nan nan]\n",
      "cost_history = [1.11634504e+024 1.07910609e+035 1.04310935e+046 1.00831339e+057\n",
      " 9.74678147e+067 9.42164908e+078 9.10736243e+089 8.80355973e+100\n",
      " 8.50989126e+111 8.22601896e+122 7.95161605e+133 7.68636665e+144\n",
      " 7.42996542e+155 7.18211720e+166 6.94253668e+177 6.71094807e+188\n",
      " 6.48708478e+199 6.27068910e+210 6.06151194e+221 5.85931248e+232\n",
      " 5.66385799e+243 5.47492345e+254 5.29229137e+265 5.11575152e+276\n",
      " 4.94510067e+287 4.78014238e+298             inf             inf\n",
      "             inf             inf             inf             inf\n",
      "             inf             inf             inf             inf\n",
      "             inf             inf             inf             inf\n",
      "             inf             inf             inf             inf\n",
      "             inf             inf             inf             inf\n",
      "             inf             inf             inf             inf\n",
      "             inf             inf             inf             nan\n",
      "             nan             nan             nan             nan\n",
      "             nan             nan             nan             nan\n",
      "             nan             nan             nan             nan\n",
      "             nan             nan             nan             nan\n",
      "             nan             nan             nan             nan\n",
      "             nan             nan             nan             nan\n",
      "             nan             nan             nan             nan\n",
      "             nan             nan             nan             nan\n",
      "             nan             nan             nan             nan\n",
      "             nan             nan             nan             nan\n",
      "             nan             nan             nan             nan]\n",
      "cost_test = [1.14111879e+024 1.10305319e+035 1.06625762e+046 1.03068948e+057\n",
      " 9.96307821e+067 9.63073061e+078 9.30946944e+089 8.99892487e+100\n",
      " 8.69873942e+111 8.40856754e+122 8.12807518e+133 7.85693947e+144\n",
      " 7.59484829e+155 7.34149992e+166 7.09660273e+177 6.85987479e+188\n",
      " 6.63104362e+199 6.40984577e+210 6.19602662e+221 5.98934004e+232\n",
      " 5.78954810e+243 5.59642079e+254 5.40973582e+265 5.22927826e+276\n",
      " 5.05484040e+287 4.88622142e+298             inf             inf\n",
      "             inf             inf             inf             inf\n",
      "             inf             inf             inf             inf\n",
      "             inf             inf             inf             inf\n",
      "             inf             inf             inf             inf\n",
      "             inf             inf             inf             inf\n",
      "             inf             inf             inf             inf\n",
      "             inf             inf             inf             nan\n",
      "             nan             nan             nan             nan\n",
      "             nan             nan             nan             nan\n",
      "             nan             nan             nan             nan\n",
      "             nan             nan             nan             nan\n",
      "             nan             nan             nan             nan\n",
      "             nan             nan             nan             nan\n",
      "             nan             nan             nan             nan\n",
      "             nan             nan             nan             nan\n",
      "             nan             nan             nan             nan\n",
      "             nan             nan             nan             nan\n",
      "             nan             nan             nan             nan]\n"
     ]
    }
   ],
   "source": [
    "# Computing final theta values and cost/losses for training and validation set\n",
    "\n",
    "theta, cost_history, cost_test = gradient_descent(X, y, theta_001, alpha_001, iterations)\n",
    "print('Final value of theta=', theta)\n",
    "print('cost_history =', cost_history)\n",
    "print('cost_test =', cost_test)"
   ]
  },
  {
   "cell_type": "code",
   "execution_count": 108,
   "id": "30369c10",
   "metadata": {},
   "outputs": [
    {
     "data": {
      "text/plain": [
       "Text(0.5, 1.0, 'Convergence of Gradient Descent')"
      ]
     },
     "execution_count": 108,
     "metadata": {},
     "output_type": "execute_result"
    },
    {
     "data": {
      "image/png": "[encoded data removed]",
      "text/plain": [
       "<Figure size 1000x600 with 1 Axes>"
      ]
     },
     "metadata": {},
     "output_type": "display_data"
    }
   ],
   "source": [
    "plt.plot(range(1, iterations + 1),cost_history, color='green', label= 'Loss for Training Set')\n",
    "plt.plot(range(1, iterations + 1),cost_test, color='red', label= 'Loss for Validation Set')\n",
    "plt.rcParams[\"figure.figsize\"] = (10,6)\n",
    "plt.grid()\n",
    "plt.legend()\n",
    "plt.xlabel('Number of Iterations')\n",
    "plt.ylabel('Cost (J)')\n",
    "plt.title('Convergence of Gradient Descent')"
   ]
  },
  {
   "cell_type": "code",
   "execution_count": 109,
   "id": "1157b613",
   "metadata": {},
   "outputs": [],
   "source": [
    "### For alpha( learning rate= 0.1)\n",
    "### For the learning rate, we have to explore different values between 0.1 and 0.01.\n",
    "theta_01 = [0., 0., 0., 0., 0., 0.]\n",
    "iterations = 100;\n",
    "alpha_01 = 0.1"
   ]
  },
  {
   "cell_type": "code",
   "execution_count": 110,
   "id": "60155ec2",
   "metadata": {},
   "outputs": [
    {
     "name": "stdout",
     "output_type": "stream",
     "text": [
      "Final value of theta= [nan nan nan nan nan nan]\n",
      "cost_history = [1.11635150e+026 1.07911858e+039 1.04312747e+052 1.00833674e+065\n",
      " 9.74706362e+077 9.42197637e+090 9.10773153e+103 8.80396749e+116\n",
      " 8.51033468e+129 8.22649522e+142 7.95212246e+155 7.68690067e+168\n",
      " 7.43052464e+181 7.18269935e+194 6.94313961e+207 6.71156975e+220\n",
      " 6.48772328e+233 6.27134261e+246 6.06217874e+259 5.85999097e+272\n",
      " 5.66454663e+285 5.47562082e+298             inf             inf\n",
      "             inf             inf             inf             inf\n",
      "             inf             inf             inf             inf\n",
      "             inf             inf             inf             inf\n",
      "             inf             inf             inf             inf\n",
      "             inf             inf             inf             inf\n",
      "             inf             inf             inf             nan\n",
      "             nan             nan             nan             nan\n",
      "             nan             nan             nan             nan\n",
      "             nan             nan             nan             nan\n",
      "             nan             nan             nan             nan\n",
      "             nan             nan             nan             nan\n",
      "             nan             nan             nan             nan\n",
      "             nan             nan             nan             nan\n",
      "             nan             nan             nan             nan\n",
      "             nan             nan             nan             nan\n",
      "             nan             nan             nan             nan\n",
      "             nan             nan             nan             nan\n",
      "             nan             nan             nan             nan\n",
      "             nan             nan             nan             nan]\n",
      "cost_test = [1.14112516e+026 1.10306596e+039 1.06627614e+052 1.03071335e+065\n",
      " 9.96336662e+077 9.63106516e+090 9.30984672e+103 8.99934167e+116\n",
      " 8.69919268e+129 8.40905436e+142 8.12859283e+155 7.85748534e+168\n",
      " 7.59541992e+181 7.34209499e+194 7.09721904e+207 6.86051026e+220\n",
      " 6.63169628e+233 6.41051378e+246 6.19670823e+259 5.99003359e+272\n",
      " 5.79025203e+285 5.59713365e+298             inf             inf\n",
      "             inf             inf             inf             inf\n",
      "             inf             inf             inf             inf\n",
      "             inf             inf             inf             inf\n",
      "             inf             inf             inf             inf\n",
      "             inf             inf             inf             inf\n",
      "             inf             inf             inf             nan\n",
      "             nan             nan             nan             nan\n",
      "             nan             nan             nan             nan\n",
      "             nan             nan             nan             nan\n",
      "             nan             nan             nan             nan\n",
      "             nan             nan             nan             nan\n",
      "             nan             nan             nan             nan\n",
      "             nan             nan             nan             nan\n",
      "             nan             nan             nan             nan\n",
      "             nan             nan             nan             nan\n",
      "             nan             nan             nan             nan\n",
      "             nan             nan             nan             nan\n",
      "             nan             nan             nan             nan\n",
      "             nan             nan             nan             nan]\n"
     ]
    }
   ],
   "source": [
    "# Computing final theta values and cost/losses for training and validation set\n",
    "\n",
    "theta, cost_history, cost_test = gradient_descent(X, y, theta_01, alpha_01, iterations)\n",
    "print('Final value of theta=', theta)\n",
    "print('cost_history =', cost_history)\n",
    "print('cost_test =', cost_test)"
   ]
  },
  {
   "cell_type": "code",
   "execution_count": 111,
   "id": "8d56a690",
   "metadata": {},
   "outputs": [
    {
     "data": {
      "text/plain": [
       "Text(0.5, 1.0, 'Convergence of Gradient Descent')"
      ]
     },
     "execution_count": 111,
     "metadata": {},
     "output_type": "execute_result"
    },
    {
     "data": {
      "image/png": "[encoded data removed]",
      "text/plain": [
       "<Figure size 1000x600 with 1 Axes>"
      ]
     },
     "metadata": {},
     "output_type": "display_data"
    }
   ],
   "source": [
    "plt.plot(range(1, iterations + 1),cost_history, color='green', label= 'Loss for Training Set')\n",
    "plt.plot(range(1, iterations + 1),cost_test, color='red', label= 'Loss for Validation Set')\n",
    "plt.rcParams[\"figure.figsize\"] = (10,6)\n",
    "plt.grid()\n",
    "plt.legend()\n",
    "plt.xlabel('Number of Iterations')\n",
    "plt.ylabel('Cost (J)')\n",
    "plt.title('Convergence of Gradient Descent')"
   ]
  },
  {
   "cell_type": "code",
   "execution_count": 112,
   "id": "000452f4",
   "metadata": {},
   "outputs": [],
   "source": [
    "### For alpha( learning rate= 0.001) less than 0.01\n",
    "\n",
    "theta_0001 = [0., 0., 0., 0., 0., 0.]\n",
    "iterations = 100;\n",
    "alpha_0001 = 0.001"
   ]
  },
  {
   "cell_type": "code",
   "execution_count": 113,
   "id": "2ffb22ae",
   "metadata": {},
   "outputs": [
    {
     "name": "stdout",
     "output_type": "stream",
     "text": [
      "Final value of theta= [nan nan nan nan nan nan]\n",
      "cost_history = [1.11635150e+026 1.07911858e+039 1.04312747e+052 1.00833674e+065\n",
      " 9.74706362e+077 9.42197637e+090 9.10773153e+103 8.80396749e+116\n",
      " 8.51033468e+129 8.22649522e+142 7.95212246e+155 7.68690067e+168\n",
      " 7.43052464e+181 7.18269935e+194 6.94313961e+207 6.71156975e+220\n",
      " 6.48772328e+233 6.27134261e+246 6.06217874e+259 5.85999097e+272\n",
      " 5.66454663e+285 5.47562082e+298             inf             inf\n",
      "             inf             inf             inf             inf\n",
      "             inf             inf             inf             inf\n",
      "             inf             inf             inf             inf\n",
      "             inf             inf             inf             inf\n",
      "             inf             inf             inf             inf\n",
      "             inf             inf             inf             nan\n",
      "             nan             nan             nan             nan\n",
      "             nan             nan             nan             nan\n",
      "             nan             nan             nan             nan\n",
      "             nan             nan             nan             nan\n",
      "             nan             nan             nan             nan\n",
      "             nan             nan             nan             nan\n",
      "             nan             nan             nan             nan\n",
      "             nan             nan             nan             nan\n",
      "             nan             nan             nan             nan\n",
      "             nan             nan             nan             nan\n",
      "             nan             nan             nan             nan\n",
      "             nan             nan             nan             nan\n",
      "             nan             nan             nan             nan]\n",
      "cost_test = [1.14112516e+026 1.10306596e+039 1.06627614e+052 1.03071335e+065\n",
      " 9.96336662e+077 9.63106516e+090 9.30984672e+103 8.99934167e+116\n",
      " 8.69919268e+129 8.40905436e+142 8.12859283e+155 7.85748534e+168\n",
      " 7.59541992e+181 7.34209499e+194 7.09721904e+207 6.86051026e+220\n",
      " 6.63169628e+233 6.41051378e+246 6.19670823e+259 5.99003359e+272\n",
      " 5.79025203e+285 5.59713365e+298             inf             inf\n",
      "             inf             inf             inf             inf\n",
      "             inf             inf             inf             inf\n",
      "             inf             inf             inf             inf\n",
      "             inf             inf             inf             inf\n",
      "             inf             inf             inf             inf\n",
      "             inf             inf             inf             nan\n",
      "             nan             nan             nan             nan\n",
      "             nan             nan             nan             nan\n",
      "             nan             nan             nan             nan\n",
      "             nan             nan             nan             nan\n",
      "             nan             nan             nan             nan\n",
      "             nan             nan             nan             nan\n",
      "             nan             nan             nan             nan\n",
      "             nan             nan             nan             nan\n",
      "             nan             nan             nan             nan\n",
      "             nan             nan             nan             nan\n",
      "             nan             nan             nan             nan\n",
      "             nan             nan             nan             nan\n",
      "             nan             nan             nan             nan]\n"
     ]
    }
   ],
   "source": [
    "# Computing final theta values and cost/losses for training and validation set\n",
    "\n",
    "theta, cost_history, cost_test = gradient_descent(X, y, theta_01, alpha_01, iterations)\n",
    "print('Final value of theta=', theta)\n",
    "print('cost_history =', cost_history)\n",
    "print('cost_test =', cost_test)"
   ]
  },
  {
   "cell_type": "code",
   "execution_count": 114,
   "id": "a9168ae4",
   "metadata": {},
   "outputs": [
    {
     "data": {
      "text/plain": [
       "Text(0.5, 1.0, 'Convergence of Gradient Descent')"
      ]
     },
     "execution_count": 114,
     "metadata": {},
     "output_type": "execute_result"
    },
    {
     "data": {
      "image/png": "[encoded data removed]",
      "text/plain": [
       "<Figure size 1000x600 with 1 Axes>"
      ]
     },
     "metadata": {},
     "output_type": "display_data"
    }
   ],
   "source": [
    "plt.plot(range(1, iterations + 1),cost_history, color='green', label= 'Loss for Training Set')\n",
    "plt.plot(range(1, iterations + 1),cost_test, color='red', label= 'Loss for Validation Set')\n",
    "plt.rcParams[\"figure.figsize\"] = (10,6)\n",
    "plt.grid()\n",
    "plt.legend()\n",
    "plt.xlabel('Number of Iterations')\n",
    "plt.ylabel('Cost (J)')\n",
    "plt.title('Convergence of Gradient Descent')"
   ]
  },
  {
   "cell_type": "code",
   "execution_count": 115,
   "id": "60f4e02f",
   "metadata": {},
   "outputs": [],
   "source": [
    "### For alpha( learning rate= 0.0001) very very small ! less than 0.01\n",
    "\n",
    "theta_00001 = [0., 0., 0., 0., 0., 0.]\n",
    "iterations = 100;\n",
    "alpha_00001 = 0.0001"
   ]
  },
  {
   "cell_type": "code",
   "execution_count": 116,
   "id": "21e33110",
   "metadata": {},
   "outputs": [
    {
     "name": "stdout",
     "output_type": "stream",
     "text": [
      "Final value of theta= [nan nan nan nan nan nan]\n",
      "cost_history = [1.11563423e+020 1.07773230e+027 1.04111805e+034 1.00574770e+041\n",
      " 9.71579006e+047 9.38571140e+054 9.06684664e+061 8.75881481e+068\n",
      " 8.46124787e+075 8.17379031e+082 7.89609866e+089 7.62784114e+096\n",
      " 7.36869726e+103 7.11835737e+110 6.87652240e+117 6.64290338e+124\n",
      " 6.41722120e+131 6.19920622e+138 5.98859796e+145 5.78514477e+152\n",
      " 5.58860359e+159 5.39873959e+166 5.21532592e+173 5.03814343e+180\n",
      " 4.86698045e+187 4.70163245e+194 4.54190190e+201 4.38759794e+208\n",
      " 4.23853621e+215 4.09453862e+222 3.95543312e+229 3.82105351e+236\n",
      " 3.69123924e+243 3.56583520e+250 3.44469156e+257 3.32766359e+264\n",
      " 3.21461147e+271 3.10540010e+278 2.99989903e+285 2.89798218e+292\n",
      " 2.79952780e+299             inf             inf             inf\n",
      "             inf             inf             inf             inf\n",
      "             inf             inf             inf             inf\n",
      "             inf             inf             inf             inf\n",
      "             inf             inf             inf             inf\n",
      "             inf             inf             inf             inf\n",
      "             inf             inf             inf             inf\n",
      "             inf             inf             inf             inf\n",
      "             inf             inf             inf             inf\n",
      "             inf             inf             inf             inf\n",
      "             inf             inf             inf             inf\n",
      "             inf             inf             nan             nan\n",
      "             nan             nan             nan             nan\n",
      "             nan             nan             nan             nan\n",
      "             nan             nan             nan             nan]\n",
      "cost_test = [1.14041790e+020 1.10164891e+027 1.06422213e+034 1.02806686e+041\n",
      " 9.93139905e+047 9.59399541e+054 9.26805453e+061 8.95318698e+068\n",
      " 8.64901656e+075 8.35517984e+082 8.07132577e+089 7.79711519e+096\n",
      " 7.53222049e+103 7.27632516e+110 7.02912348e+117 6.79032008e+124\n",
      " 6.55962965e+131 6.33677657e+138 6.12149457e+145 5.91352643e+152\n",
      " 5.71262369e+159 5.51854630e+166 5.33106238e+173 5.14994793e+180\n",
      " 4.97498656e+187 4.80596923e+194 4.64269400e+201 4.48496578e+208\n",
      " 4.33259614e+215 4.18540301e+222 4.04321053e+229 3.90584883e+236\n",
      " 3.77315376e+243 3.64496681e+250 3.52113480e+257 3.40150980e+264\n",
      " 3.28594886e+271 3.17431392e+278 3.06647161e+285 2.96229307e+292\n",
      " 2.86165382e+299             inf             inf             inf\n",
      "             inf             inf             inf             inf\n",
      "             inf             inf             inf             inf\n",
      "             inf             inf             inf             inf\n",
      "             inf             inf             inf             inf\n",
      "             inf             inf             inf             inf\n",
      "             inf             inf             inf             inf\n",
      "             inf             inf             inf             inf\n",
      "             inf             inf             inf             inf\n",
      "             inf             inf             inf             inf\n",
      "             inf             inf             inf             inf\n",
      "             inf             inf             nan             nan\n",
      "             nan             nan             nan             nan\n",
      "             nan             nan             nan             nan\n",
      "             nan             nan             nan             nan]\n"
     ]
    }
   ],
   "source": [
    "# Computing final theta values and cost/losses for training and validation set\n",
    "\n",
    "theta, cost_history, cost_test = gradient_descent(X, y, theta_00001, alpha_00001, iterations)\n",
    "print('Final value of theta=', theta)\n",
    "print('cost_history =', cost_history)\n",
    "print('cost_test =', cost_test)"
   ]
  },
  {
   "cell_type": "code",
   "execution_count": 117,
   "id": "07d20123",
   "metadata": {},
   "outputs": [
    {
     "data": {
      "text/plain": [
       "Text(0.5, 1.0, 'Convergence of Gradient Descent')"
      ]
     },
     "execution_count": 117,
     "metadata": {},
     "output_type": "execute_result"
    },
    {
     "data": {
      "image/png": "[encoded data removed]",
      "text/plain": [
       "<Figure size 1000x600 with 1 Axes>"
      ]
     },
     "metadata": {},
     "output_type": "display_data"
    }
   ],
   "source": [
    "plt.plot(range(1, iterations + 1),cost_history, color='green', label= 'Loss for Training Set')\n",
    "plt.plot(range(1, iterations + 1),cost_test, color='red', label= 'Loss for Validation Set')\n",
    "plt.rcParams[\"figure.figsize\"] = (10,6)\n",
    "plt.grid()\n",
    "plt.legend()\n",
    "plt.xlabel('Number of Iterations')\n",
    "plt.ylabel('Cost (J)')\n",
    "plt.title('Convergence of Gradient Descent')"
   ]
  },
  {
   "cell_type": "code",
   "execution_count": 128,
   "id": "96c557a7",
   "metadata": {},
   "outputs": [],
   "source": [
    "### For alpha( learning rate= 0.0000001) very very small ! less than 0.01\n",
    "\n",
    "theta_00000001 = [0., 0., 0., 0., 0., 0.]\n",
    "iterations = 100;\n",
    "alpha_00000001 = 0.0000001"
   ]
  },
  {
   "cell_type": "code",
   "execution_count": 129,
   "id": "1c36070b",
   "metadata": {},
   "outputs": [
    {
     "name": "stdout",
     "output_type": "stream",
     "text": [
      "Final value of theta= [-3.66348151e+31 -2.21368361e+35 -1.09237108e+32 -4.87467784e+31\n",
      " -6.75043066e+31 -3.12671806e+31]\n",
      "cost_history = [5.30620266e+13 2.30207263e+14 1.01820053e+15 4.52342258e+15\n",
      " 2.01156644e+16 8.94744675e+16 3.98002492e+17 1.77042441e+18\n",
      " 7.87535420e+18 3.50318483e+19 1.55831791e+20 6.93184889e+20\n",
      " 3.08348695e+21 1.37162421e+22 6.10138134e+22 2.71407095e+23\n",
      " 1.20729729e+24 5.37040765e+24 2.38891271e+25 1.06265749e+26\n",
      " 4.72700799e+26 2.10270992e+27 9.35346213e+27 4.16069058e+28\n",
      " 1.85079556e+29 8.23287413e+29 3.66222062e+30 1.62906169e+31\n",
      " 7.24653775e+31 3.22346966e+32 1.43389257e+33 6.37836903e+33\n",
      " 2.83728309e+34 1.26210561e+35 5.61421094e+35 2.49736346e+36\n",
      " 1.11089953e+37 4.94160252e+37 2.19816778e+38 9.77808628e+38\n",
      " 4.34957569e+39 1.93481712e+40 8.60662635e+40 3.82847642e+41\n",
      " 1.70301708e+42 7.57551273e+42 3.36980725e+43 1.49898776e+44\n",
      " 6.66793129e+44 2.96608876e+45 1.31940210e+46 5.86908230e+46\n",
      " 2.61073762e+47 1.16133163e+48 5.16593911e+48 2.29795918e+49\n",
      " 1.02219873e+50 4.54703572e+50 2.02265305e+51 8.99734600e+51\n",
      " 4.00227982e+52 1.78032987e+53 7.91942236e+53 3.52278820e+54\n",
      " 1.56703812e+55 6.97063895e+55 3.10074189e+56 1.37929971e+57\n",
      " 6.13552418e+57 2.72925868e+58 1.21405323e+59 5.40046003e+59\n",
      " 2.40228087e+60 1.06860404e+61 4.75345995e+61 2.11447652e+62\n",
      " 9.40580336e+62 4.18397348e+63 1.86115246e+64 8.27894464e+64\n",
      " 3.68271411e+65 1.63817779e+66 7.28708880e+66 3.24150794e+67\n",
      " 1.44191652e+68 6.41406188e+68 2.85316030e+69 1.26916826e+70\n",
      " 5.64562762e+70 2.51133851e+71 1.11711603e+72 4.96925533e+72\n",
      " 2.21046855e+73 9.83280367e+73 4.37391557e+74 1.94564420e+75\n",
      " 8.65478834e+75 3.84990027e+76 1.71254703e+77 7.61790469e+77]\n",
      "cost_test = [5.58826529e+13 2.31483173e+14 1.04851238e+15 4.60716276e+15\n",
      " 2.05967953e+16 9.13864294e+16 4.06989712e+17 1.80938590e+18\n",
      " 8.05081043e+18 3.58078068e+19 1.59293016e+20 7.08561306e+20\n",
      " 3.15192812e+21 1.40205988e+22 6.23678686e+22 2.77429927e+23\n",
      " 1.23408942e+24 5.48958506e+24 2.44192664e+25 1.08623954e+26\n",
      " 4.83190795e+26 2.14937242e+27 9.56103050e+27 4.25302299e+28\n",
      " 1.89186768e+29 8.41557483e+29 3.74349118e+30 1.66521319e+31\n",
      " 7.40735007e+31 3.29500363e+32 1.46571295e+33 6.51991529e+33\n",
      " 2.90024697e+34 1.29011376e+35 5.73879930e+35 2.55278397e+36\n",
      " 1.13555217e+37 5.05126462e+37 2.24694865e+38 9.99507773e+38\n",
      " 4.44609977e+39 1.97775382e+40 8.79762121e+40 3.91343646e+41\n",
      " 1.74080977e+42 7.74362553e+42 3.44458868e+43 1.53225271e+44\n",
      " 6.81590339e+44 3.03191104e+45 1.34868175e+46 5.99932666e+46\n",
      " 2.66867408e+47 1.18710345e+48 5.28057960e+48 2.34895459e+49\n",
      " 1.04488297e+50 4.64794175e+50 2.06753897e+51 9.19701156e+51\n",
      " 4.09109684e+52 1.81983825e+53 8.09516706e+53 3.60096453e+54\n",
      " 1.60181321e+55 7.12532863e+55 3.16955234e+56 1.40990859e+57\n",
      " 6.27168132e+57 2.78982531e+58 1.24099502e+59 5.52030491e+59\n",
      " 2.45559135e+60 1.09231808e+61 4.85894686e+61 2.16140015e+62\n",
      " 9.61453324e+62 4.27682257e+63 1.90245442e+64 8.46266772e+64\n",
      " 3.76443946e+65 1.67453159e+66 7.44880101e+66 3.31344221e+67\n",
      " 1.47391496e+68 6.55640022e+68 2.91647652e+69 1.29733314e+70\n",
      " 5.77091316e+70 2.56706915e+71 1.14190663e+72 5.07953109e+72\n",
      " 2.25952240e+73 1.00510094e+74 4.47097979e+74 1.98882117e+75\n",
      " 8.84685200e+75 3.93533574e+76 1.75055120e+77 7.78695824e+77]\n"
     ]
    }
   ],
   "source": [
    "# Computing final theta values and cost/losses for training and validation set\n",
    "\n",
    "theta__, cost_history__, cost_test__ = gradient_descent(X, y, theta_00000001, alpha_00000001, iterations)\n",
    "print('Final value of theta=', theta__)\n",
    "print('cost_history =', cost_history__)\n",
    "print('cost_test =', cost_test__)"
   ]
  },
  {
   "cell_type": "code",
   "execution_count": 130,
   "id": "62ec1e87",
   "metadata": {},
   "outputs": [
    {
     "data": {
      "text/plain": [
       "Text(0.5, 1.0, 'Convergence of Gradient Descent')"
      ]
     },
     "execution_count": 130,
     "metadata": {},
     "output_type": "execute_result"
    },
    {
     "data": {
      "image/png": "[encoded data removed]",
      "text/plain": [
       "<Figure size 1000x600 with 1 Axes>"
      ]
     },
     "metadata": {},
     "output_type": "display_data"
    }
   ],
   "source": [
    "plt.plot(range(1, iterations + 1),cost_history__, color='green', label= 'Loss for Training Set')\n",
    "plt.plot(range(1, iterations + 1),cost_test__, color='red', label= 'Loss for Validation Set')\n",
    "plt.rcParams[\"figure.figsize\"] = (10,6)\n",
    "plt.grid()\n",
    "plt.legend()\n",
    "plt.xlabel('Number of Iterations')\n",
    "plt.ylabel('Cost (J)')\n",
    "plt.title('Convergence of Gradient Descent')"
   ]
  },
  {
   "cell_type": "code",
   "execution_count": 125,
   "id": "3ac1ab0d",
   "metadata": {},
   "outputs": [],
   "source": [
    "### For alpha( learning rate= 0.00000001) very very small ! less than 0.01\n",
    "\n",
    "theta_000000001 = [0., 0., 0., 0., 0., 0.]\n",
    "iterations = 100;\n",
    "alpha_000000001 = 0.00000001"
   ]
  },
  {
   "cell_type": "code",
   "execution_count": 126,
   "id": "772fe366",
   "metadata": {},
   "outputs": [
    {
     "name": "stdout",
     "output_type": "stream",
     "text": [
      "Final value of theta= [5.03540356e-01 8.61913122e+02 1.78781714e+00 9.85545405e-01\n",
      " 1.48654329e+00 4.03761042e-01]\n",
      "cost_history = [7.17395258e+12 4.29408729e+12 2.92659628e+12 2.27724935e+12\n",
      " 1.96890988e+12 1.82249626e+12 1.75297240e+12 1.71995928e+12\n",
      " 1.70428313e+12 1.69683936e+12 1.69330470e+12 1.69162626e+12\n",
      " 1.69082923e+12 1.69045075e+12 1.69027101e+12 1.69018563e+12\n",
      " 1.69014507e+12 1.69012579e+12 1.69011661e+12 1.69011223e+12\n",
      " 1.69011013e+12 1.69010911e+12 1.69010860e+12 1.69010834e+12\n",
      " 1.69010820e+12 1.69010810e+12 1.69010804e+12 1.69010798e+12\n",
      " 1.69010794e+12 1.69010789e+12 1.69010785e+12 1.69010781e+12\n",
      " 1.69010776e+12 1.69010772e+12 1.69010768e+12 1.69010764e+12\n",
      " 1.69010760e+12 1.69010755e+12 1.69010751e+12 1.69010747e+12\n",
      " 1.69010743e+12 1.69010739e+12 1.69010735e+12 1.69010730e+12\n",
      " 1.69010726e+12 1.69010722e+12 1.69010718e+12 1.69010714e+12\n",
      " 1.69010709e+12 1.69010705e+12 1.69010701e+12 1.69010697e+12\n",
      " 1.69010693e+12 1.69010688e+12 1.69010684e+12 1.69010680e+12\n",
      " 1.69010676e+12 1.69010672e+12 1.69010667e+12 1.69010663e+12\n",
      " 1.69010659e+12 1.69010655e+12 1.69010651e+12 1.69010646e+12\n",
      " 1.69010642e+12 1.69010638e+12 1.69010634e+12 1.69010630e+12\n",
      " 1.69010625e+12 1.69010621e+12 1.69010617e+12 1.69010613e+12\n",
      " 1.69010609e+12 1.69010604e+12 1.69010600e+12 1.69010596e+12\n",
      " 1.69010592e+12 1.69010588e+12 1.69010583e+12 1.69010579e+12\n",
      " 1.69010575e+12 1.69010571e+12 1.69010567e+12 1.69010562e+12\n",
      " 1.69010558e+12 1.69010554e+12 1.69010550e+12 1.69010546e+12\n",
      " 1.69010541e+12 1.69010537e+12 1.69010533e+12 1.69010529e+12\n",
      " 1.69010525e+12 1.69010520e+12 1.69010516e+12 1.69010512e+12\n",
      " 1.69010508e+12 1.69010504e+12 1.69010499e+12 1.69010495e+12]\n",
      "cost_test = [6.63957645e+12 3.87471102e+12 2.60015745e+12 2.02135445e+12\n",
      " 1.76471341e+12 1.65539065e+12 1.61212186e+12 1.59753140e+12\n",
      " 1.59470709e+12 1.59619393e+12 1.59884865e+12 1.60145207e+12\n",
      " 1.60361361e+12 1.60527763e+12 1.60650716e+12 1.60739376e+12\n",
      " 1.60802338e+12 1.60846611e+12 1.60877539e+12 1.60899050e+12\n",
      " 1.60913967e+12 1.60924290e+12 1.60931423e+12 1.60936348e+12\n",
      " 1.60939745e+12 1.60942087e+12 1.60943701e+12 1.60944812e+12\n",
      " 1.60945577e+12 1.60946103e+12 1.60946464e+12 1.60946712e+12\n",
      " 1.60946881e+12 1.60946997e+12 1.60947075e+12 1.60947128e+12\n",
      " 1.60947163e+12 1.60947186e+12 1.60947201e+12 1.60947210e+12\n",
      " 1.60947215e+12 1.60947217e+12 1.60947217e+12 1.60947216e+12\n",
      " 1.60947214e+12 1.60947212e+12 1.60947209e+12 1.60947205e+12\n",
      " 1.60947202e+12 1.60947198e+12 1.60947194e+12 1.60947191e+12\n",
      " 1.60947187e+12 1.60947183e+12 1.60947179e+12 1.60947175e+12\n",
      " 1.60947171e+12 1.60947167e+12 1.60947163e+12 1.60947159e+12\n",
      " 1.60947155e+12 1.60947152e+12 1.60947148e+12 1.60947144e+12\n",
      " 1.60947140e+12 1.60947136e+12 1.60947132e+12 1.60947128e+12\n",
      " 1.60947124e+12 1.60947120e+12 1.60947116e+12 1.60947112e+12\n",
      " 1.60947108e+12 1.60947104e+12 1.60947100e+12 1.60947096e+12\n",
      " 1.60947092e+12 1.60947089e+12 1.60947085e+12 1.60947081e+12\n",
      " 1.60947077e+12 1.60947073e+12 1.60947069e+12 1.60947065e+12\n",
      " 1.60947061e+12 1.60947057e+12 1.60947053e+12 1.60947049e+12\n",
      " 1.60947045e+12 1.60947041e+12 1.60947037e+12 1.60947033e+12\n",
      " 1.60947029e+12 1.60947025e+12 1.60947022e+12 1.60947018e+12\n",
      " 1.60947014e+12 1.60947010e+12 1.60947006e+12 1.60947002e+12]\n"
     ]
    }
   ],
   "source": [
    "# Computing final theta values and cost/losses for training and validation set\n",
    "\n",
    "theta_, cost_history_, cost_test_ = gradient_descent(X, y, theta_000000001, alpha_000000001, iterations)\n",
    "print('Final value of theta=', theta_)\n",
    "print('cost_history =', cost_history_)\n",
    "print('cost_test =', cost_test_)"
   ]
  },
  {
   "cell_type": "code",
   "execution_count": 127,
   "id": "2ab778d0",
   "metadata": {},
   "outputs": [
    {
     "data": {
      "text/plain": [
       "Text(0.5, 1.0, 'Convergence of Gradient Descent')"
      ]
     },
     "execution_count": 127,
     "metadata": {},
     "output_type": "execute_result"
    },
    {
     "data": {
      "image/png": "[encoded data removed]",
      "text/plain": [
       "<Figure size 1000x600 with 1 Axes>"
      ]
     },
     "metadata": {},
     "output_type": "display_data"
    }
   ],
   "source": [
    "plt.plot(range(1, iterations + 1),cost_history_, color='green', label= 'Loss for Training Set')\n",
    "plt.plot(range(1, iterations + 1),cost_test_, color='red', label= 'Loss for Validation Set')\n",
    "plt.rcParams[\"figure.figsize\"] = (10,6)\n",
    "plt.grid()\n",
    "plt.legend()\n",
    "plt.xlabel('Number of Iterations')\n",
    "plt.ylabel('Cost (J)')\n",
    "plt.title('Convergence of Gradient Descent')"
   ]
  },
  {
   "cell_type": "markdown",
   "id": "e675edeb",
   "metadata": {},
   "source": [
    "### In this work, we built a linear regression model with a gradient descent algorithm to predict house prices based on four input variables. Initially, we tried various learning rates between 0.1 and 0.01, but the model diverges after few iterations. We then reduced the learning rate to smaller values, and finally settled on 0.00000001, which resulted in the model converging, i.e., the cost decreased with each iteration.\n",
    " "
   ]
  }
 ],
 "metadata": {
  "kernelspec": {
   "display_name": "Python 3 (ipykernel)",
   "language": "python",
   "name": "python3"
  },
  "language_info": {
   "codemirror_mode": {
    "name": "ipython",
    "version": 3
   },
   "file_extension": ".py",
   "mimetype": "text/x-python",
   "name": "python",
   "nbconvert_exporter": "python",
   "pygments_lexer": "ipython3",
   "version": "3.9.13"
  }
 },
 "nbformat": 4,
 "nbformat_minor": 5
}
