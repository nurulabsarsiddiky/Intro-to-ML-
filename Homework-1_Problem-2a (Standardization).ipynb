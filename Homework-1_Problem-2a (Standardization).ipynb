{
 "cells": [
  {
   "cell_type": "markdown",
   "id": "84e852c1",
   "metadata": {},
   "source": [
    "# Homework-1_Problem-2a (Standardization)\n"
   ]
  },
  {
   "cell_type": "markdown",
   "id": "e121c697",
   "metadata": {},
   "source": [
    "### Objective: Repeat problem 1 a, this time with input standardization as part of your pre-processing logic. You need to perform training for standardization. \n",
    "\n",
    "### Plot the training and validation losses for both training and validation set based on input standardization and input normalization. Compare your training accuracy between both scaling approaches as well as the baseline training in problem 1 a. Which input scaling achieves the best training? Explain your results."
   ]
  },
  {
   "cell_type": "code",
   "execution_count": 1,
   "id": "99b24d93-9804-4782-8d0d-d66b42660668",
   "metadata": {},
   "outputs": [],
   "source": [
    "import numpy as np\n",
    "import pandas as pd\n",
    "import matplotlib.pyplot as plt     # Data Visualisation\n",
    "import seaborn as sns\n",
    "import sklearn\n",
    "\n",
    "import warnings\n",
    "warnings.filterwarnings('ignore')"
   ]
  },
  {
   "cell_type": "code",
   "execution_count": 2,
   "id": "1de77920-984d-49c6-8f4b-4abdfe19fd22",
   "metadata": {},
   "outputs": [
    {
     "data": {
      "text/html": [
       "<div>\n",
       "<style scoped>\n",
       "    .dataframe tbody tr th:only-of-type {\n",
       "        vertical-align: middle;\n",
       "    }\n",
       "\n",
       "    .dataframe tbody tr th {\n",
       "        vertical-align: top;\n",
       "    }\n",
       "\n",
       "    .dataframe thead th {\n",
       "        text-align: right;\n",
       "    }\n",
       "</style>\n",
       "<table border=\"1\" class=\"dataframe\">\n",
       "  <thead>\n",
       "    <tr style=\"text-align: right;\">\n",
       "      <th></th>\n",
       "      <th>price</th>\n",
       "      <th>area</th>\n",
       "      <th>bedrooms</th>\n",
       "      <th>bathrooms</th>\n",
       "      <th>stories</th>\n",
       "      <th>mainroad</th>\n",
       "      <th>guestroom</th>\n",
       "      <th>basement</th>\n",
       "      <th>hotwaterheating</th>\n",
       "      <th>airconditioning</th>\n",
       "      <th>parking</th>\n",
       "      <th>prefarea</th>\n",
       "      <th>furnishingstatus</th>\n",
       "    </tr>\n",
       "  </thead>\n",
       "  <tbody>\n",
       "    <tr>\n",
       "      <th>0</th>\n",
       "      <td>13300000</td>\n",
       "      <td>7420</td>\n",
       "      <td>4</td>\n",
       "      <td>2</td>\n",
       "      <td>3</td>\n",
       "      <td>yes</td>\n",
       "      <td>no</td>\n",
       "      <td>no</td>\n",
       "      <td>no</td>\n",
       "      <td>yes</td>\n",
       "      <td>2</td>\n",
       "      <td>yes</td>\n",
       "      <td>furnished</td>\n",
       "    </tr>\n",
       "    <tr>\n",
       "      <th>1</th>\n",
       "      <td>12250000</td>\n",
       "      <td>8960</td>\n",
       "      <td>4</td>\n",
       "      <td>4</td>\n",
       "      <td>4</td>\n",
       "      <td>yes</td>\n",
       "      <td>no</td>\n",
       "      <td>no</td>\n",
       "      <td>no</td>\n",
       "      <td>yes</td>\n",
       "      <td>3</td>\n",
       "      <td>no</td>\n",
       "      <td>furnished</td>\n",
       "    </tr>\n",
       "    <tr>\n",
       "      <th>2</th>\n",
       "      <td>12250000</td>\n",
       "      <td>9960</td>\n",
       "      <td>3</td>\n",
       "      <td>2</td>\n",
       "      <td>2</td>\n",
       "      <td>yes</td>\n",
       "      <td>no</td>\n",
       "      <td>yes</td>\n",
       "      <td>no</td>\n",
       "      <td>no</td>\n",
       "      <td>2</td>\n",
       "      <td>yes</td>\n",
       "      <td>semi-furnished</td>\n",
       "    </tr>\n",
       "    <tr>\n",
       "      <th>3</th>\n",
       "      <td>12215000</td>\n",
       "      <td>7500</td>\n",
       "      <td>4</td>\n",
       "      <td>2</td>\n",
       "      <td>2</td>\n",
       "      <td>yes</td>\n",
       "      <td>no</td>\n",
       "      <td>yes</td>\n",
       "      <td>no</td>\n",
       "      <td>yes</td>\n",
       "      <td>3</td>\n",
       "      <td>yes</td>\n",
       "      <td>furnished</td>\n",
       "    </tr>\n",
       "    <tr>\n",
       "      <th>4</th>\n",
       "      <td>11410000</td>\n",
       "      <td>7420</td>\n",
       "      <td>4</td>\n",
       "      <td>1</td>\n",
       "      <td>2</td>\n",
       "      <td>yes</td>\n",
       "      <td>yes</td>\n",
       "      <td>yes</td>\n",
       "      <td>no</td>\n",
       "      <td>yes</td>\n",
       "      <td>2</td>\n",
       "      <td>no</td>\n",
       "      <td>furnished</td>\n",
       "    </tr>\n",
       "  </tbody>\n",
       "</table>\n",
       "</div>"
      ],
      "text/plain": [
       "      price  area  bedrooms  bathrooms  stories mainroad guestroom basement  \\\n",
       "0  13300000  7420         4          2        3      yes        no       no   \n",
       "1  12250000  8960         4          4        4      yes        no       no   \n",
       "2  12250000  9960         3          2        2      yes        no      yes   \n",
       "3  12215000  7500         4          2        2      yes        no      yes   \n",
       "4  11410000  7420         4          1        2      yes       yes      yes   \n",
       "\n",
       "  hotwaterheating airconditioning  parking prefarea furnishingstatus  \n",
       "0              no             yes        2      yes        furnished  \n",
       "1              no             yes        3       no        furnished  \n",
       "2              no              no        2      yes   semi-furnished  \n",
       "3              no             yes        3      yes        furnished  \n",
       "4              no             yes        2       no        furnished  "
      ]
     },
     "execution_count": 2,
     "metadata": {},
     "output_type": "execute_result"
    }
   ],
   "source": [
    "#import data from .csv file of guithub repository\n",
    "housing = pd.DataFrame(pd.read_csv(\"https://raw.githubusercontent.com/Tareq-BD/ECGR-5105/main/Housing.csv\"))\n",
    "housing.head()"
   ]
  },
  {
   "cell_type": "code",
   "execution_count": 3,
   "id": "230b2b5f-2aaa-43be-88b2-f0575238bf37",
   "metadata": {},
   "outputs": [
    {
     "data": {
      "text/plain": [
       "545"
      ]
     },
     "execution_count": 3,
     "metadata": {},
     "output_type": "execute_result"
    }
   ],
   "source": [
    "m = len(housing)\n",
    "m"
   ]
  },
  {
   "cell_type": "code",
   "execution_count": 4,
   "id": "570a681b-d457-4f46-846a-30b777e4b075",
   "metadata": {},
   "outputs": [
    {
     "data": {
      "text/plain": [
       "(545, 13)"
      ]
     },
     "execution_count": 4,
     "metadata": {},
     "output_type": "execute_result"
    }
   ],
   "source": [
    "housing.shape"
   ]
  },
  {
   "cell_type": "code",
   "execution_count": 5,
   "id": "7cbf386e-fe67-4568-870c-2575f4ddb822",
   "metadata": {},
   "outputs": [
    {
     "data": {
      "text/html": [
       "<div>\n",
       "<style scoped>\n",
       "    .dataframe tbody tr th:only-of-type {\n",
       "        vertical-align: middle;\n",
       "    }\n",
       "\n",
       "    .dataframe tbody tr th {\n",
       "        vertical-align: top;\n",
       "    }\n",
       "\n",
       "    .dataframe thead th {\n",
       "        text-align: right;\n",
       "    }\n",
       "</style>\n",
       "<table border=\"1\" class=\"dataframe\">\n",
       "  <thead>\n",
       "    <tr style=\"text-align: right;\">\n",
       "      <th></th>\n",
       "      <th>price</th>\n",
       "      <th>area</th>\n",
       "      <th>bedrooms</th>\n",
       "      <th>bathrooms</th>\n",
       "      <th>stories</th>\n",
       "      <th>mainroad</th>\n",
       "      <th>guestroom</th>\n",
       "      <th>basement</th>\n",
       "      <th>hotwaterheating</th>\n",
       "      <th>airconditioning</th>\n",
       "      <th>parking</th>\n",
       "      <th>prefarea</th>\n",
       "      <th>furnishingstatus</th>\n",
       "    </tr>\n",
       "  </thead>\n",
       "  <tbody>\n",
       "    <tr>\n",
       "      <th>0</th>\n",
       "      <td>13300000</td>\n",
       "      <td>7420</td>\n",
       "      <td>4</td>\n",
       "      <td>2</td>\n",
       "      <td>3</td>\n",
       "      <td>1</td>\n",
       "      <td>0</td>\n",
       "      <td>0</td>\n",
       "      <td>0</td>\n",
       "      <td>1</td>\n",
       "      <td>2</td>\n",
       "      <td>1</td>\n",
       "      <td>furnished</td>\n",
       "    </tr>\n",
       "    <tr>\n",
       "      <th>1</th>\n",
       "      <td>12250000</td>\n",
       "      <td>8960</td>\n",
       "      <td>4</td>\n",
       "      <td>4</td>\n",
       "      <td>4</td>\n",
       "      <td>1</td>\n",
       "      <td>0</td>\n",
       "      <td>0</td>\n",
       "      <td>0</td>\n",
       "      <td>1</td>\n",
       "      <td>3</td>\n",
       "      <td>0</td>\n",
       "      <td>furnished</td>\n",
       "    </tr>\n",
       "    <tr>\n",
       "      <th>2</th>\n",
       "      <td>12250000</td>\n",
       "      <td>9960</td>\n",
       "      <td>3</td>\n",
       "      <td>2</td>\n",
       "      <td>2</td>\n",
       "      <td>1</td>\n",
       "      <td>0</td>\n",
       "      <td>1</td>\n",
       "      <td>0</td>\n",
       "      <td>0</td>\n",
       "      <td>2</td>\n",
       "      <td>1</td>\n",
       "      <td>semi-furnished</td>\n",
       "    </tr>\n",
       "    <tr>\n",
       "      <th>3</th>\n",
       "      <td>12215000</td>\n",
       "      <td>7500</td>\n",
       "      <td>4</td>\n",
       "      <td>2</td>\n",
       "      <td>2</td>\n",
       "      <td>1</td>\n",
       "      <td>0</td>\n",
       "      <td>1</td>\n",
       "      <td>0</td>\n",
       "      <td>1</td>\n",
       "      <td>3</td>\n",
       "      <td>1</td>\n",
       "      <td>furnished</td>\n",
       "    </tr>\n",
       "    <tr>\n",
       "      <th>4</th>\n",
       "      <td>11410000</td>\n",
       "      <td>7420</td>\n",
       "      <td>4</td>\n",
       "      <td>1</td>\n",
       "      <td>2</td>\n",
       "      <td>1</td>\n",
       "      <td>1</td>\n",
       "      <td>1</td>\n",
       "      <td>0</td>\n",
       "      <td>1</td>\n",
       "      <td>2</td>\n",
       "      <td>0</td>\n",
       "      <td>furnished</td>\n",
       "    </tr>\n",
       "  </tbody>\n",
       "</table>\n",
       "</div>"
      ],
      "text/plain": [
       "      price  area  bedrooms  bathrooms  stories  mainroad  guestroom  \\\n",
       "0  13300000  7420         4          2        3         1          0   \n",
       "1  12250000  8960         4          4        4         1          0   \n",
       "2  12250000  9960         3          2        2         1          0   \n",
       "3  12215000  7500         4          2        2         1          0   \n",
       "4  11410000  7420         4          1        2         1          1   \n",
       "\n",
       "   basement  hotwaterheating  airconditioning  parking  prefarea  \\\n",
       "0         0                0                1        2         1   \n",
       "1         0                0                1        3         0   \n",
       "2         1                0                0        2         1   \n",
       "3         1                0                1        3         1   \n",
       "4         1                0                1        2         0   \n",
       "\n",
       "  furnishingstatus  \n",
       "0        furnished  \n",
       "1        furnished  \n",
       "2   semi-furnished  \n",
       "3        furnished  \n",
       "4        furnished  "
      ]
     },
     "execution_count": 5,
     "metadata": {},
     "output_type": "execute_result"
    }
   ],
   "source": [
    "# List of variables to map (string to numerical values)\n",
    "varlist = ['mainroad', 'guestroom', 'basement', 'hotwaterheating', 'airconditioning', 'prefarea']\n",
    "\n",
    "# Defining the map function\n",
    "def binary_map(x):\n",
    "    return x.map({'yes': 1, \"no\": 0})\n",
    "\n",
    "# Applying the function to the housing list\n",
    "housing[varlist] = housing[varlist].apply(binary_map)\n",
    "           \n",
    "# Check the housing dataframe now\n",
    "housing.head()"
   ]
  },
  {
   "cell_type": "code",
   "execution_count": 6,
   "id": "1abf074b-8948-4fcd-a31e-8d1259748f7e",
   "metadata": {},
   "outputs": [
    {
     "data": {
      "text/plain": [
       "(436, 13)"
      ]
     },
     "execution_count": 6,
     "metadata": {},
     "output_type": "execute_result"
    }
   ],
   "source": [
    "#Splitting the Data into Training and Testing Sets\n",
    "from sklearn.model_selection import train_test_split\n",
    "\n",
    "# We specify random seed so that the train and test data set always have the same rows, respectively\n",
    "np.random.seed(0)\n",
    "# split 80% as training set and 20% as testing set\n",
    "df_train, df_test = train_test_split(housing, train_size = 0.8, test_size = 0.2, random_state = 100)\n",
    "\n",
    "df_train.shape"
   ]
  },
  {
   "cell_type": "code",
   "execution_count": 7,
   "id": "90a7bfe2-37fb-4b03-bdaa-f5c2218a82b5",
   "metadata": {},
   "outputs": [
    {
     "data": {
      "text/plain": [
       "(109, 13)"
      ]
     },
     "execution_count": 7,
     "metadata": {},
     "output_type": "execute_result"
    }
   ],
   "source": [
    "df_test.shape"
   ]
  },
  {
   "cell_type": "code",
   "execution_count": 8,
   "id": "a1777175-a2a0-495d-b048-b64c68fc54fb",
   "metadata": {},
   "outputs": [
    {
     "data": {
      "text/html": [
       "<div>\n",
       "<style scoped>\n",
       "    .dataframe tbody tr th:only-of-type {\n",
       "        vertical-align: middle;\n",
       "    }\n",
       "\n",
       "    .dataframe tbody tr th {\n",
       "        vertical-align: top;\n",
       "    }\n",
       "\n",
       "    .dataframe thead th {\n",
       "        text-align: right;\n",
       "    }\n",
       "</style>\n",
       "<table border=\"1\" class=\"dataframe\">\n",
       "  <thead>\n",
       "    <tr style=\"text-align: right;\">\n",
       "      <th></th>\n",
       "      <th>area</th>\n",
       "      <th>bedrooms</th>\n",
       "      <th>bathrooms</th>\n",
       "      <th>stories</th>\n",
       "      <th>parking</th>\n",
       "      <th>price</th>\n",
       "    </tr>\n",
       "  </thead>\n",
       "  <tbody>\n",
       "    <tr>\n",
       "      <th>22</th>\n",
       "      <td>8050</td>\n",
       "      <td>3</td>\n",
       "      <td>1</td>\n",
       "      <td>1</td>\n",
       "      <td>1</td>\n",
       "      <td>8645000</td>\n",
       "    </tr>\n",
       "    <tr>\n",
       "      <th>41</th>\n",
       "      <td>6360</td>\n",
       "      <td>3</td>\n",
       "      <td>2</td>\n",
       "      <td>4</td>\n",
       "      <td>0</td>\n",
       "      <td>7840000</td>\n",
       "    </tr>\n",
       "    <tr>\n",
       "      <th>91</th>\n",
       "      <td>6750</td>\n",
       "      <td>2</td>\n",
       "      <td>1</td>\n",
       "      <td>1</td>\n",
       "      <td>2</td>\n",
       "      <td>6419000</td>\n",
       "    </tr>\n",
       "    <tr>\n",
       "      <th>118</th>\n",
       "      <td>6420</td>\n",
       "      <td>3</td>\n",
       "      <td>1</td>\n",
       "      <td>1</td>\n",
       "      <td>0</td>\n",
       "      <td>5950000</td>\n",
       "    </tr>\n",
       "    <tr>\n",
       "      <th>472</th>\n",
       "      <td>3630</td>\n",
       "      <td>4</td>\n",
       "      <td>1</td>\n",
       "      <td>2</td>\n",
       "      <td>3</td>\n",
       "      <td>3010000</td>\n",
       "    </tr>\n",
       "  </tbody>\n",
       "</table>\n",
       "</div>"
      ],
      "text/plain": [
       "     area  bedrooms  bathrooms  stories  parking    price\n",
       "22   8050         3          1        1        1  8645000\n",
       "41   6360         3          2        4        0  7840000\n",
       "91   6750         2          1        1        2  6419000\n",
       "118  6420         3          1        1        0  5950000\n",
       "472  3630         4          1        2        3  3010000"
      ]
     },
     "execution_count": 8,
     "metadata": {},
     "output_type": "execute_result"
    }
   ],
   "source": [
    "num_vars = ['area', 'bedrooms', 'bathrooms', 'stories', 'parking','price']\n",
    "df_Newtrain = df_train[num_vars]\n",
    "df_Newtest = df_test[num_vars]\n",
    "df_Newtrain.head()"
   ]
  },
  {
   "cell_type": "code",
   "execution_count": 9,
   "id": "42569f40-a14e-4e0f-aa52-121c5a05cbc1",
   "metadata": {},
   "outputs": [
    {
     "data": {
      "text/plain": [
       "(436, 6)"
      ]
     },
     "execution_count": 9,
     "metadata": {},
     "output_type": "execute_result"
    }
   ],
   "source": [
    "df_Newtrain.shape"
   ]
  },
  {
   "cell_type": "code",
   "execution_count": 10,
   "id": "46122167-d086-4cce-98da-360a36abfc85",
   "metadata": {},
   "outputs": [
    {
     "data": {
      "text/html": [
       "<div>\n",
       "<style scoped>\n",
       "    .dataframe tbody tr th:only-of-type {\n",
       "        vertical-align: middle;\n",
       "    }\n",
       "\n",
       "    .dataframe tbody tr th {\n",
       "        vertical-align: top;\n",
       "    }\n",
       "\n",
       "    .dataframe thead th {\n",
       "        text-align: right;\n",
       "    }\n",
       "</style>\n",
       "<table border=\"1\" class=\"dataframe\">\n",
       "  <thead>\n",
       "    <tr style=\"text-align: right;\">\n",
       "      <th></th>\n",
       "      <th>area</th>\n",
       "      <th>bedrooms</th>\n",
       "      <th>bathrooms</th>\n",
       "      <th>stories</th>\n",
       "      <th>parking</th>\n",
       "      <th>price</th>\n",
       "    </tr>\n",
       "  </thead>\n",
       "  <tbody>\n",
       "    <tr>\n",
       "      <th>22</th>\n",
       "      <td>1.351873</td>\n",
       "      <td>0.078679</td>\n",
       "      <td>-0.579897</td>\n",
       "      <td>-0.929023</td>\n",
       "      <td>0.311484</td>\n",
       "      <td>2.063847</td>\n",
       "    </tr>\n",
       "    <tr>\n",
       "      <th>41</th>\n",
       "      <td>0.565326</td>\n",
       "      <td>0.078679</td>\n",
       "      <td>1.410929</td>\n",
       "      <td>2.474792</td>\n",
       "      <td>-0.849261</td>\n",
       "      <td>1.632233</td>\n",
       "    </tr>\n",
       "    <tr>\n",
       "      <th>91</th>\n",
       "      <td>0.746837</td>\n",
       "      <td>-1.293483</td>\n",
       "      <td>-0.579897</td>\n",
       "      <td>-0.929023</td>\n",
       "      <td>1.472229</td>\n",
       "      <td>0.870342</td>\n",
       "    </tr>\n",
       "    <tr>\n",
       "      <th>118</th>\n",
       "      <td>0.593251</td>\n",
       "      <td>0.078679</td>\n",
       "      <td>-0.579897</td>\n",
       "      <td>-0.929023</td>\n",
       "      <td>-0.849261</td>\n",
       "      <td>0.618880</td>\n",
       "    </tr>\n",
       "    <tr>\n",
       "      <th>472</th>\n",
       "      <td>-0.705249</td>\n",
       "      <td>1.450841</td>\n",
       "      <td>-0.579897</td>\n",
       "      <td>0.205582</td>\n",
       "      <td>2.632974</td>\n",
       "      <td>-0.957447</td>\n",
       "    </tr>\n",
       "    <tr>\n",
       "      <th>344</th>\n",
       "      <td>-0.602858</td>\n",
       "      <td>-1.293483</td>\n",
       "      <td>-0.579897</td>\n",
       "      <td>-0.929023</td>\n",
       "      <td>-0.849261</td>\n",
       "      <td>-0.507067</td>\n",
       "    </tr>\n",
       "    <tr>\n",
       "      <th>1</th>\n",
       "      <td>1.775398</td>\n",
       "      <td>1.450841</td>\n",
       "      <td>5.392582</td>\n",
       "      <td>2.474792</td>\n",
       "      <td>2.632974</td>\n",
       "      <td>3.996723</td>\n",
       "    </tr>\n",
       "    <tr>\n",
       "      <th>257</th>\n",
       "      <td>1.444955</td>\n",
       "      <td>0.078679</td>\n",
       "      <td>-0.579897</td>\n",
       "      <td>-0.929023</td>\n",
       "      <td>-0.849261</td>\n",
       "      <td>-0.169283</td>\n",
       "    </tr>\n",
       "    <tr>\n",
       "      <th>184</th>\n",
       "      <td>-0.998458</td>\n",
       "      <td>0.078679</td>\n",
       "      <td>1.410929</td>\n",
       "      <td>0.205582</td>\n",
       "      <td>-0.849261</td>\n",
       "      <td>0.168501</td>\n",
       "    </tr>\n",
       "    <tr>\n",
       "      <th>275</th>\n",
       "      <td>-0.518153</td>\n",
       "      <td>-1.293483</td>\n",
       "      <td>-0.579897</td>\n",
       "      <td>-0.929023</td>\n",
       "      <td>-0.849261</td>\n",
       "      <td>-0.255606</td>\n",
       "    </tr>\n",
       "  </tbody>\n",
       "</table>\n",
       "</div>"
      ],
      "text/plain": [
       "         area  bedrooms  bathrooms   stories   parking     price\n",
       "22   1.351873  0.078679  -0.579897 -0.929023  0.311484  2.063847\n",
       "41   0.565326  0.078679   1.410929  2.474792 -0.849261  1.632233\n",
       "91   0.746837 -1.293483  -0.579897 -0.929023  1.472229  0.870342\n",
       "118  0.593251  0.078679  -0.579897 -0.929023 -0.849261  0.618880\n",
       "472 -0.705249  1.450841  -0.579897  0.205582  2.632974 -0.957447\n",
       "344 -0.602858 -1.293483  -0.579897 -0.929023 -0.849261 -0.507067\n",
       "1    1.775398  1.450841   5.392582  2.474792  2.632974  3.996723\n",
       "257  1.444955  0.078679  -0.579897 -0.929023 -0.849261 -0.169283\n",
       "184 -0.998458  0.078679   1.410929  0.205582 -0.849261  0.168501\n",
       "275 -0.518153 -1.293483  -0.579897 -0.929023 -0.849261 -0.255606"
      ]
     },
     "execution_count": 10,
     "metadata": {},
     "output_type": "execute_result"
    }
   ],
   "source": [
    "from sklearn.preprocessing import MinMaxScaler, StandardScaler\n",
    "\n",
    "scaler = StandardScaler()  # input Standardization\n",
    "# scaler = MinMaxScaler()   \n",
    "df_Newtrain[num_vars] = scaler.fit_transform(df_Newtrain[num_vars])\n",
    "df_Newtrain.head(10)"
   ]
  },
  {
   "cell_type": "code",
   "execution_count": 11,
   "id": "f2ce218f-b1d0-45f3-8752-2b28cea73b6b",
   "metadata": {},
   "outputs": [
    {
     "data": {
      "text/html": [
       "<div>\n",
       "<style scoped>\n",
       "    .dataframe tbody tr th:only-of-type {\n",
       "        vertical-align: middle;\n",
       "    }\n",
       "\n",
       "    .dataframe tbody tr th {\n",
       "        vertical-align: top;\n",
       "    }\n",
       "\n",
       "    .dataframe thead th {\n",
       "        text-align: right;\n",
       "    }\n",
       "</style>\n",
       "<table border=\"1\" class=\"dataframe\">\n",
       "  <thead>\n",
       "    <tr style=\"text-align: right;\">\n",
       "      <th></th>\n",
       "      <th>area</th>\n",
       "      <th>bedrooms</th>\n",
       "      <th>bathrooms</th>\n",
       "      <th>stories</th>\n",
       "      <th>parking</th>\n",
       "      <th>price</th>\n",
       "    </tr>\n",
       "  </thead>\n",
       "  <tbody>\n",
       "    <tr>\n",
       "      <th>265</th>\n",
       "      <td>-1.020953</td>\n",
       "      <td>-0.072023</td>\n",
       "      <td>-0.531775</td>\n",
       "      <td>0.308415</td>\n",
       "      <td>-0.643743</td>\n",
       "      <td>-0.131863</td>\n",
       "    </tr>\n",
       "    <tr>\n",
       "      <th>54</th>\n",
       "      <td>0.369177</td>\n",
       "      <td>-0.072023</td>\n",
       "      <td>1.466964</td>\n",
       "      <td>0.308415</td>\n",
       "      <td>0.545545</td>\n",
       "      <td>1.436782</td>\n",
       "    </tr>\n",
       "    <tr>\n",
       "      <th>171</th>\n",
       "      <td>2.271249</td>\n",
       "      <td>-0.072023</td>\n",
       "      <td>-0.531775</td>\n",
       "      <td>-0.936669</td>\n",
       "      <td>0.545545</td>\n",
       "      <td>0.318983</td>\n",
       "    </tr>\n",
       "    <tr>\n",
       "      <th>244</th>\n",
       "      <td>0.066200</td>\n",
       "      <td>-0.072023</td>\n",
       "      <td>-0.531775</td>\n",
       "      <td>0.308415</td>\n",
       "      <td>-0.643743</td>\n",
       "      <td>-0.053617</td>\n",
       "    </tr>\n",
       "    <tr>\n",
       "      <th>268</th>\n",
       "      <td>-0.098656</td>\n",
       "      <td>1.236396</td>\n",
       "      <td>-0.531775</td>\n",
       "      <td>0.308415</td>\n",
       "      <td>-0.643743</td>\n",
       "      <td>-0.143041</td>\n",
       "    </tr>\n",
       "    <tr>\n",
       "      <th>231</th>\n",
       "      <td>-0.379355</td>\n",
       "      <td>-0.072023</td>\n",
       "      <td>-0.531775</td>\n",
       "      <td>-0.936669</td>\n",
       "      <td>-0.643743</td>\n",
       "      <td>0.020903</td>\n",
       "    </tr>\n",
       "    <tr>\n",
       "      <th>25</th>\n",
       "      <td>0.609776</td>\n",
       "      <td>1.236396</td>\n",
       "      <td>1.466964</td>\n",
       "      <td>0.308415</td>\n",
       "      <td>1.734832</td>\n",
       "      <td>2.070202</td>\n",
       "    </tr>\n",
       "    <tr>\n",
       "      <th>169</th>\n",
       "      <td>0.609776</td>\n",
       "      <td>1.236396</td>\n",
       "      <td>1.466964</td>\n",
       "      <td>0.308415</td>\n",
       "      <td>-0.643743</td>\n",
       "      <td>0.318983</td>\n",
       "    </tr>\n",
       "    <tr>\n",
       "      <th>494</th>\n",
       "      <td>0.725620</td>\n",
       "      <td>-1.380442</td>\n",
       "      <td>-0.531775</td>\n",
       "      <td>-0.936669</td>\n",
       "      <td>-0.643743</td>\n",
       "      <td>-1.022376</td>\n",
       "    </tr>\n",
       "    <tr>\n",
       "      <th>120</th>\n",
       "      <td>0.609776</td>\n",
       "      <td>-0.072023</td>\n",
       "      <td>-0.531775</td>\n",
       "      <td>-0.936669</td>\n",
       "      <td>1.734832</td>\n",
       "      <td>0.691583</td>\n",
       "    </tr>\n",
       "  </tbody>\n",
       "</table>\n",
       "</div>"
      ],
      "text/plain": [
       "         area  bedrooms  bathrooms   stories   parking     price\n",
       "265 -1.020953 -0.072023  -0.531775  0.308415 -0.643743 -0.131863\n",
       "54   0.369177 -0.072023   1.466964  0.308415  0.545545  1.436782\n",
       "171  2.271249 -0.072023  -0.531775 -0.936669  0.545545  0.318983\n",
       "244  0.066200 -0.072023  -0.531775  0.308415 -0.643743 -0.053617\n",
       "268 -0.098656  1.236396  -0.531775  0.308415 -0.643743 -0.143041\n",
       "231 -0.379355 -0.072023  -0.531775 -0.936669 -0.643743  0.020903\n",
       "25   0.609776  1.236396   1.466964  0.308415  1.734832  2.070202\n",
       "169  0.609776  1.236396   1.466964  0.308415 -0.643743  0.318983\n",
       "494  0.725620 -1.380442  -0.531775 -0.936669 -0.643743 -1.022376\n",
       "120  0.609776 -0.072023  -0.531775 -0.936669  1.734832  0.691583"
      ]
     },
     "execution_count": 11,
     "metadata": {},
     "output_type": "execute_result"
    }
   ],
   "source": [
    "df_Newtest[num_vars] = scaler.fit_transform(df_Newtest[num_vars])\n",
    "df_Newtest.head(10)"
   ]
  },
  {
   "cell_type": "code",
   "execution_count": 12,
   "id": "cb646182-2a64-4734-8c6a-48fb33224fb1",
   "metadata": {},
   "outputs": [],
   "source": [
    "y_Newtrain = df_Newtrain.pop('price')\n",
    "X_Newtrain = df_Newtrain"
   ]
  },
  {
   "cell_type": "code",
   "execution_count": 13,
   "id": "bf7af074-c955-4a4d-ae7d-c87701cbc8a5",
   "metadata": {},
   "outputs": [
    {
     "data": {
      "text/html": [
       "<div>\n",
       "<style scoped>\n",
       "    .dataframe tbody tr th:only-of-type {\n",
       "        vertical-align: middle;\n",
       "    }\n",
       "\n",
       "    .dataframe tbody tr th {\n",
       "        vertical-align: top;\n",
       "    }\n",
       "\n",
       "    .dataframe thead th {\n",
       "        text-align: right;\n",
       "    }\n",
       "</style>\n",
       "<table border=\"1\" class=\"dataframe\">\n",
       "  <thead>\n",
       "    <tr style=\"text-align: right;\">\n",
       "      <th></th>\n",
       "      <th>area</th>\n",
       "      <th>bedrooms</th>\n",
       "      <th>bathrooms</th>\n",
       "      <th>stories</th>\n",
       "      <th>parking</th>\n",
       "    </tr>\n",
       "  </thead>\n",
       "  <tbody>\n",
       "    <tr>\n",
       "      <th>22</th>\n",
       "      <td>1.351873</td>\n",
       "      <td>0.078679</td>\n",
       "      <td>-0.579897</td>\n",
       "      <td>-0.929023</td>\n",
       "      <td>0.311484</td>\n",
       "    </tr>\n",
       "    <tr>\n",
       "      <th>41</th>\n",
       "      <td>0.565326</td>\n",
       "      <td>0.078679</td>\n",
       "      <td>1.410929</td>\n",
       "      <td>2.474792</td>\n",
       "      <td>-0.849261</td>\n",
       "    </tr>\n",
       "    <tr>\n",
       "      <th>91</th>\n",
       "      <td>0.746837</td>\n",
       "      <td>-1.293483</td>\n",
       "      <td>-0.579897</td>\n",
       "      <td>-0.929023</td>\n",
       "      <td>1.472229</td>\n",
       "    </tr>\n",
       "    <tr>\n",
       "      <th>118</th>\n",
       "      <td>0.593251</td>\n",
       "      <td>0.078679</td>\n",
       "      <td>-0.579897</td>\n",
       "      <td>-0.929023</td>\n",
       "      <td>-0.849261</td>\n",
       "    </tr>\n",
       "    <tr>\n",
       "      <th>472</th>\n",
       "      <td>-0.705249</td>\n",
       "      <td>1.450841</td>\n",
       "      <td>-0.579897</td>\n",
       "      <td>0.205582</td>\n",
       "      <td>2.632974</td>\n",
       "    </tr>\n",
       "  </tbody>\n",
       "</table>\n",
       "</div>"
      ],
      "text/plain": [
       "         area  bedrooms  bathrooms   stories   parking\n",
       "22   1.351873  0.078679  -0.579897 -0.929023  0.311484\n",
       "41   0.565326  0.078679   1.410929  2.474792 -0.849261\n",
       "91   0.746837 -1.293483  -0.579897 -0.929023  1.472229\n",
       "118  0.593251  0.078679  -0.579897 -0.929023 -0.849261\n",
       "472 -0.705249  1.450841  -0.579897  0.205582  2.632974"
      ]
     },
     "execution_count": 13,
     "metadata": {},
     "output_type": "execute_result"
    }
   ],
   "source": [
    "X_Newtrain.head()"
   ]
  },
  {
   "cell_type": "code",
   "execution_count": 14,
   "id": "90a476ae-376c-40a7-8959-aeb6a7a0221a",
   "metadata": {},
   "outputs": [
    {
     "data": {
      "text/plain": [
       "22     2.063847\n",
       "41     1.632233\n",
       "91     0.870342\n",
       "118    0.618880\n",
       "472   -0.957447\n",
       "Name: price, dtype: float64"
      ]
     },
     "execution_count": 14,
     "metadata": {},
     "output_type": "execute_result"
    }
   ],
   "source": [
    "y_Newtrain.head()"
   ]
  },
  {
   "cell_type": "code",
   "execution_count": 15,
   "id": "65d1ffb6-dc11-496a-b11f-5d128f2bcc3a",
   "metadata": {},
   "outputs": [
    {
     "name": "stdout",
     "output_type": "stream",
     "text": [
      "y =  [ 2.06384653  1.63223323  0.87034193  0.61888027 -0.95744656 -0.50706746\n",
      "  3.99672347 -0.16928314  0.16850118 -0.2556058 ]\n"
     ]
    }
   ],
   "source": [
    "y = y_Newtrain.values\n",
    "print('y = ', y[: 10])"
   ]
  },
  {
   "cell_type": "code",
   "execution_count": 16,
   "id": "9cb8f8ae-83e3-4349-8b43-d6bbce8f6ce0",
   "metadata": {},
   "outputs": [
    {
     "name": "stdout",
     "output_type": "stream",
     "text": [
      "X1 =  [ 1.35187274  0.56532627  0.746837    0.593251   -0.7052488  -0.60285813\n",
      "  1.77539777  1.44495517 -0.99845843 -0.51815313]\n",
      "X2 =  [ 0.07867901  0.07867901 -1.29348292  0.07867901  1.45084094 -1.29348292\n",
      "  1.45084094  0.07867901  0.07867901 -1.29348292]\n",
      "X3 =  [-0.57989658  1.41092949 -0.57989658 -0.57989658 -0.57989658 -0.57989658\n",
      "  5.39258163 -0.57989658  1.41092949 -0.57989658]\n",
      "X4 =  [-0.92902305  2.4747925  -0.92902305 -0.92902305  0.20558213 -0.92902305\n",
      "  2.4747925  -0.92902305  0.20558213 -0.92902305]\n",
      "X5 =  [ 0.31148433 -0.8492607   1.47222936 -0.8492607   2.6329744  -0.8492607\n",
      "  2.6329744  -0.8492607  -0.8492607  -0.8492607 ]\n"
     ]
    }
   ],
   "source": [
    "# preparing the training set\n",
    "\n",
    "X1 = df_Newtrain.values[:, 0]     # getting input value from first column and putting in Variable-1 (X1)   \n",
    "X2 = df_Newtrain.values[:, 1]     # getting input value from first column and putting in Variable-2 (X2)          \n",
    "X3 = df_Newtrain.values[:, 2]     # getting input value from first column and putting in Variable-3 (X3)           \n",
    "X4 = df_Newtrain.values[:, 3]     # getting input value from first column and putting in Variable-4 (X4)          \n",
    "X5 = df_Newtrain.values[:, 4]     # getting input value from first column and putting in Variable-5 (X5)\n",
    "\n",
    "# print first 10 values from each variable\n",
    "\n",
    "print('X1 = ', X1[: 10]) \n",
    "print('X2 = ', X2[: 10])\n",
    "print('X3 = ', X3[: 10])\n",
    "print('X4 = ', X4[: 10])\n",
    "print('X5 = ', X5[: 10])"
   ]
  },
  {
   "cell_type": "code",
   "execution_count": 17,
   "id": "0b0b9861-e83b-4265-bf6c-77e1bee1b194",
   "metadata": {},
   "outputs": [
    {
     "data": {
      "text/plain": [
       "array([[1.],\n",
       "       [1.],\n",
       "       [1.],\n",
       "       [1.],\n",
       "       [1.]])"
      ]
     },
     "execution_count": 17,
     "metadata": {},
     "output_type": "execute_result"
    }
   ],
   "source": [
    "m = len(X_Newtrain)         # size of training set\n",
    "X_0 = np.ones((m, 1))       # Creating a single column matrix (X_0) of training set size, contains all ones \n",
    "X_0 [: 5]"
   ]
  },
  {
   "cell_type": "code",
   "execution_count": 18,
   "id": "9a9c90fd-407e-45ba-a125-922950175ceb",
   "metadata": {},
   "outputs": [
    {
     "name": "stdout",
     "output_type": "stream",
     "text": [
      "X_1 =  [[ 1.35187274]\n",
      " [ 0.56532627]\n",
      " [ 0.746837  ]\n",
      " [ 0.593251  ]\n",
      " [-0.7052488 ]]\n",
      "X_2 =  [[ 0.07867901]\n",
      " [ 0.07867901]\n",
      " [-1.29348292]\n",
      " [ 0.07867901]\n",
      " [ 1.45084094]]\n",
      "X_3 =  [[-0.57989658]\n",
      " [ 1.41092949]\n",
      " [-0.57989658]\n",
      " [-0.57989658]\n",
      " [-0.57989658]]\n",
      "X_4 =  [[-0.92902305]\n",
      " [ 2.4747925 ]\n",
      " [-0.92902305]\n",
      " [-0.92902305]\n",
      " [ 0.20558213]]\n",
      "X_5 =  [[ 0.31148433]\n",
      " [-0.8492607 ]\n",
      " [ 1.47222936]\n",
      " [-0.8492607 ]\n",
      " [ 2.6329744 ]]\n"
     ]
    }
   ],
   "source": [
    "# Converting 1D arrays of X1, X2, X3, X4 and X5 to 2D arrays\n",
    "X_1 = X1.reshape(m, 1)\n",
    "X_2 = X2.reshape(m, 1)\n",
    "X_3 = X3.reshape(m, 1)\n",
    "X_4 = X4.reshape(m, 1)\n",
    "X_5 = X5.reshape(m, 1)\n",
    "\n",
    "# print first 5 values from each 2D array\n",
    "print('X_1 = ', X_1[: 5])\n",
    "print('X_2 = ', X_2[: 5])\n",
    "print('X_3 = ', X_3[: 5])\n",
    "print('X_4 = ', X_4[: 5])\n",
    "print('X_5 = ', X_5[: 5])"
   ]
  },
  {
   "cell_type": "code",
   "execution_count": 19,
   "id": "04d99a4e-5305-462b-b3df-6e91408bee11",
   "metadata": {},
   "outputs": [
    {
     "data": {
      "text/plain": [
       "array([[ 1.        ,  1.35187274,  0.07867901, -0.57989658, -0.92902305,\n",
       "         0.31148433],\n",
       "       [ 1.        ,  0.56532627,  0.07867901,  1.41092949,  2.4747925 ,\n",
       "        -0.8492607 ],\n",
       "       [ 1.        ,  0.746837  , -1.29348292, -0.57989658, -0.92902305,\n",
       "         1.47222936],\n",
       "       [ 1.        ,  0.593251  ,  0.07867901, -0.57989658, -0.92902305,\n",
       "        -0.8492607 ],\n",
       "       [ 1.        , -0.7052488 ,  1.45084094, -0.57989658,  0.20558213,\n",
       "         2.6329744 ]])"
      ]
     },
     "execution_count": 19,
     "metadata": {},
     "output_type": "execute_result"
    }
   ],
   "source": [
    "# Stacking X_0, X_1, X_2, X_3, X-4 and X_5 horizotally\n",
    "# This is the final X Matrix for training\n",
    "\n",
    "X = np.hstack((X_0, X_1, X_2, X_3, X_4, X_5))\n",
    "X [: 5]"
   ]
  },
  {
   "cell_type": "code",
   "execution_count": 20,
   "id": "cf4ebf7f-a239-4a8b-85cf-a82f299385ca",
   "metadata": {},
   "outputs": [
    {
     "data": {
      "text/plain": [
       "array([0., 0., 0., 0., 0., 0.])"
      ]
     },
     "execution_count": 20,
     "metadata": {},
     "output_type": "execute_result"
    }
   ],
   "source": [
    "theta = np.zeros(6)\n",
    "theta"
   ]
  },
  {
   "cell_type": "code",
   "execution_count": 21,
   "id": "09ee7a84-da91-4dff-9103-873690e8ddcb",
   "metadata": {},
   "outputs": [],
   "source": [
    "y_Newtest = df_Newtest.pop('price')\n",
    "X_Newtest = df_Newtest"
   ]
  },
  {
   "cell_type": "code",
   "execution_count": 22,
   "id": "ebf8bc12-d510-4f93-abfe-b111713449f8",
   "metadata": {},
   "outputs": [
    {
     "data": {
      "text/html": [
       "<div>\n",
       "<style scoped>\n",
       "    .dataframe tbody tr th:only-of-type {\n",
       "        vertical-align: middle;\n",
       "    }\n",
       "\n",
       "    .dataframe tbody tr th {\n",
       "        vertical-align: top;\n",
       "    }\n",
       "\n",
       "    .dataframe thead th {\n",
       "        text-align: right;\n",
       "    }\n",
       "</style>\n",
       "<table border=\"1\" class=\"dataframe\">\n",
       "  <thead>\n",
       "    <tr style=\"text-align: right;\">\n",
       "      <th></th>\n",
       "      <th>area</th>\n",
       "      <th>bedrooms</th>\n",
       "      <th>bathrooms</th>\n",
       "      <th>stories</th>\n",
       "      <th>parking</th>\n",
       "    </tr>\n",
       "  </thead>\n",
       "  <tbody>\n",
       "    <tr>\n",
       "      <th>265</th>\n",
       "      <td>-1.020953</td>\n",
       "      <td>-0.072023</td>\n",
       "      <td>-0.531775</td>\n",
       "      <td>0.308415</td>\n",
       "      <td>-0.643743</td>\n",
       "    </tr>\n",
       "    <tr>\n",
       "      <th>54</th>\n",
       "      <td>0.369177</td>\n",
       "      <td>-0.072023</td>\n",
       "      <td>1.466964</td>\n",
       "      <td>0.308415</td>\n",
       "      <td>0.545545</td>\n",
       "    </tr>\n",
       "    <tr>\n",
       "      <th>171</th>\n",
       "      <td>2.271249</td>\n",
       "      <td>-0.072023</td>\n",
       "      <td>-0.531775</td>\n",
       "      <td>-0.936669</td>\n",
       "      <td>0.545545</td>\n",
       "    </tr>\n",
       "    <tr>\n",
       "      <th>244</th>\n",
       "      <td>0.066200</td>\n",
       "      <td>-0.072023</td>\n",
       "      <td>-0.531775</td>\n",
       "      <td>0.308415</td>\n",
       "      <td>-0.643743</td>\n",
       "    </tr>\n",
       "    <tr>\n",
       "      <th>268</th>\n",
       "      <td>-0.098656</td>\n",
       "      <td>1.236396</td>\n",
       "      <td>-0.531775</td>\n",
       "      <td>0.308415</td>\n",
       "      <td>-0.643743</td>\n",
       "    </tr>\n",
       "  </tbody>\n",
       "</table>\n",
       "</div>"
      ],
      "text/plain": [
       "         area  bedrooms  bathrooms   stories   parking\n",
       "265 -1.020953 -0.072023  -0.531775  0.308415 -0.643743\n",
       "54   0.369177 -0.072023   1.466964  0.308415  0.545545\n",
       "171  2.271249 -0.072023  -0.531775 -0.936669  0.545545\n",
       "244  0.066200 -0.072023  -0.531775  0.308415 -0.643743\n",
       "268 -0.098656  1.236396  -0.531775  0.308415 -0.643743"
      ]
     },
     "execution_count": 22,
     "metadata": {},
     "output_type": "execute_result"
    }
   ],
   "source": [
    "X_Newtest.head()"
   ]
  },
  {
   "cell_type": "code",
   "execution_count": 23,
   "id": "128838da-15e7-4c9c-8ce0-d6e3f3cbe67a",
   "metadata": {},
   "outputs": [
    {
     "data": {
      "text/plain": [
       "265   -0.131863\n",
       "54     1.436782\n",
       "171    0.318983\n",
       "244   -0.053617\n",
       "268   -0.143041\n",
       "Name: price, dtype: float64"
      ]
     },
     "execution_count": 23,
     "metadata": {},
     "output_type": "execute_result"
    }
   ],
   "source": [
    "y_Newtest.head()"
   ]
  },
  {
   "cell_type": "code",
   "execution_count": 24,
   "id": "d6fb8819-d830-4c97-b19a-a114e38202e4",
   "metadata": {},
   "outputs": [
    {
     "name": "stdout",
     "output_type": "stream",
     "text": [
      "y_test =  [-0.13186273  1.43678245  0.31898304 -0.05361677 -0.14304072  0.02090319\n",
      "  2.07020212  0.31898304 -1.02237626  0.69158284]\n"
     ]
    }
   ],
   "source": [
    "y_test = y_Newtest.values\n",
    "print('y_test = ', y_test[: 10])"
   ]
  },
  {
   "cell_type": "code",
   "execution_count": 25,
   "id": "7b5a788d-a572-4b9b-b209-5279e7b33b99",
   "metadata": {},
   "outputs": [
    {
     "name": "stdout",
     "output_type": "stream",
     "text": [
      "X1_test =  [-1.02095327  0.3691766   2.27124853  0.06619958 -0.09865556 -0.37935486\n",
      "  0.609776    0.609776    0.72562016  0.609776  ]\n",
      "X2_test =  [-0.07202305 -0.07202305 -0.07202305 -0.07202305  1.23639571 -0.07202305\n",
      "  1.23639571  1.23639571 -1.38044181 -0.07202305]\n",
      "X3_test =  [-0.53177451  1.46696416 -0.53177451 -0.53177451 -0.53177451 -0.53177451\n",
      "  1.46696416  1.46696416 -0.53177451 -0.53177451]\n",
      "X4_test =  [ 0.30841537  0.30841537 -0.93666891  0.30841537  0.30841537 -0.93666891\n",
      "  0.30841537  0.30841537 -0.93666891 -0.93666891]\n",
      "X5_test =  [-0.64374278  0.54554473  0.54554473 -0.64374278 -0.64374278 -0.64374278\n",
      "  1.73483223 -0.64374278 -0.64374278  1.73483223]\n"
     ]
    }
   ],
   "source": [
    "# preparing the testing/validarion set\n",
    "X1_test = df_Newtest.values[:, 0]     # getting input value from first column and putting in Variable-1 (X1_test)            \n",
    "X2_test = df_Newtest.values[:, 1]     # getting input value from first column and putting in Variable-2 (X2_test)            \n",
    "X3_test = df_Newtest.values[:, 2]     # getting input value from first column and putting in Variable-3 (X3_test)           \n",
    "X4_test = df_Newtest.values[:, 3]     # getting input value from first column and putting in Variable-4 (X4_test)           \n",
    "X5_test = df_Newtest.values[:, 4]     # getting input value from first column and putting in Variable-5 (X5_test)\n",
    "\n",
    "# print first 10 values from each variable\n",
    "\n",
    "print('X1_test = ', X1_test[: 10]) \n",
    "print('X2_test = ', X2_test[: 10])\n",
    "print('X3_test = ', X3_test[: 10])\n",
    "print('X4_test = ', X4_test[: 10])\n",
    "print('X5_test = ', X5_test[: 10])"
   ]
  },
  {
   "cell_type": "code",
   "execution_count": 26,
   "id": "b62e1f73-a718-4518-a35e-2cfb894fb3f4",
   "metadata": {},
   "outputs": [
    {
     "data": {
      "text/plain": [
       "array([[1.],\n",
       "       [1.],\n",
       "       [1.],\n",
       "       [1.],\n",
       "       [1.]])"
      ]
     },
     "execution_count": 26,
     "metadata": {},
     "output_type": "execute_result"
    }
   ],
   "source": [
    "m_test = len(X_Newtest)             # size of validation set\n",
    "X_0_test = np.ones((m_test, 1))     # Creating a single column matrix (X_0_test) of validation set size, contains all ones\n",
    "X_0_test [: 5]"
   ]
  },
  {
   "cell_type": "code",
   "execution_count": 27,
   "id": "845feda8-725e-4f60-bb01-06a5feb24484",
   "metadata": {},
   "outputs": [
    {
     "name": "stdout",
     "output_type": "stream",
     "text": [
      "X_1_test =  [[-1.02095327]\n",
      " [ 0.3691766 ]\n",
      " [ 2.27124853]\n",
      " [ 0.06619958]\n",
      " [-0.09865556]]\n",
      "X_2_test =  [[-0.07202305]\n",
      " [-0.07202305]\n",
      " [-0.07202305]\n",
      " [-0.07202305]\n",
      " [ 1.23639571]]\n",
      "X_3_test =  [[-0.53177451]\n",
      " [ 1.46696416]\n",
      " [-0.53177451]\n",
      " [-0.53177451]\n",
      " [-0.53177451]]\n",
      "X_4_test =  [[ 0.30841537]\n",
      " [ 0.30841537]\n",
      " [-0.93666891]\n",
      " [ 0.30841537]\n",
      " [ 0.30841537]]\n",
      "X_5_test =  [[-0.64374278]\n",
      " [ 0.54554473]\n",
      " [ 0.54554473]\n",
      " [-0.64374278]\n",
      " [-0.64374278]]\n"
     ]
    }
   ],
   "source": [
    "# Converting 1D arrays of validation X's to 2D arrays\n",
    "\n",
    "X_1_test = X1_test.reshape(m_test, 1)\n",
    "X_2_test = X2_test.reshape(m_test, 1)\n",
    "X_3_test = X3_test.reshape(m_test, 1)\n",
    "X_4_test = X4_test.reshape(m_test, 1)\n",
    "X_5_test = X5_test.reshape(m_test, 1)\n",
    "\n",
    "# print first 5 values from each 2D array\n",
    "print('X_1_test = ', X_1_test[: 5])\n",
    "print('X_2_test = ', X_2_test[: 5])\n",
    "print('X_3_test = ', X_3_test[: 5])\n",
    "print('X_4_test = ', X_4_test[: 5])\n",
    "print('X_5_test = ', X_5_test[: 5])"
   ]
  },
  {
   "cell_type": "code",
   "execution_count": 28,
   "id": "29984c79-e225-4d71-bda2-3ee06e01c670",
   "metadata": {},
   "outputs": [
    {
     "data": {
      "text/plain": [
       "array([[ 1.        , -1.02095327, -0.07202305, -0.53177451,  0.30841537,\n",
       "        -0.64374278],\n",
       "       [ 1.        ,  0.3691766 , -0.07202305,  1.46696416,  0.30841537,\n",
       "         0.54554473],\n",
       "       [ 1.        ,  2.27124853, -0.07202305, -0.53177451, -0.93666891,\n",
       "         0.54554473],\n",
       "       [ 1.        ,  0.06619958, -0.07202305, -0.53177451,  0.30841537,\n",
       "        -0.64374278],\n",
       "       [ 1.        , -0.09865556,  1.23639571, -0.53177451,  0.30841537,\n",
       "        -0.64374278]])"
      ]
     },
     "execution_count": 28,
     "metadata": {},
     "output_type": "execute_result"
    }
   ],
   "source": [
    "# Stacking X_0_test through X_5_test horizotally\n",
    "# This is the final X Matrix for validation\n",
    "\n",
    "X_test = np.hstack((X_0_test, X_1_test, X_2_test, X_3_test, X_4_test, X_5_test))\n",
    "X_test [: 5]"
   ]
  },
  {
   "cell_type": "code",
   "execution_count": 29,
   "id": "e993a31f-70fa-4d16-ab5d-85247f055d82",
   "metadata": {},
   "outputs": [],
   "source": [
    "# defining function for computing the cost for linear regression\n",
    "\n",
    "def compute_cost(X, y, theta, m):\n",
    "    predictions = X.dot(theta)\n",
    "    errors = np.subtract(predictions, y)\n",
    "    sqrErrors = np.square(errors)\n",
    "    J = 1 / (2 * m) * np.sum(sqrErrors)\n",
    "    return J"
   ]
  },
  {
   "cell_type": "code",
   "execution_count": 30,
   "id": "c3bee626-ec44-4010-afe7-6a0adf799a10",
   "metadata": {},
   "outputs": [
    {
     "name": "stdout",
     "output_type": "stream",
     "text": [
      "The initial cost for given values of theta_0 to theta_5 =  0.5000000000000002\n"
     ]
    }
   ],
   "source": [
    "# computing the cost for initial theta values\n",
    "\n",
    "cost = compute_cost(X, y, theta, m)\n",
    "print('The initial cost for given values of theta_0 to theta_5 = ', cost)"
   ]
  },
  {
   "cell_type": "code",
   "execution_count": 31,
   "id": "46905e19-6b78-4ad7-b30f-643d3656c0e7",
   "metadata": {},
   "outputs": [],
   "source": [
    "# defining function for gradient descent algorithm\n",
    "# gradient descent algorithm is applied on the training set\n",
    "# for each iteration loss for both training and validation set is calculated\n",
    "\n",
    "def gradient_descent(X, y, theta, alpha, iterations):\n",
    "    cost_history = np.zeros(iterations)\n",
    "    cost_test = np.zeros(iterations)\n",
    "    for i in range(iterations):\n",
    "        predictions = X.dot(theta)\n",
    "        errors = np.subtract(predictions, y)\n",
    "        sum_delta = (alpha / m) * X.transpose().dot(errors);\n",
    "        theta = theta - sum_delta;\n",
    "        cost_history[i] = compute_cost(X, y, theta, m)                     # loss for training set\n",
    "        cost_test[i] = compute_cost(X_test, y_test, theta, m_test)         # loss for validation set\n",
    "    \n",
    "    return theta, cost_history, cost_test"
   ]
  },
  {
   "cell_type": "markdown",
   "id": "1fe1637a",
   "metadata": {},
   "source": [
    "#### For learning rate 0.099 (learning rate is chosen between 0.1 and 0.01 as question asked)"
   ]
  },
  {
   "cell_type": "code",
   "execution_count": 35,
   "id": "93269e8c",
   "metadata": {},
   "outputs": [],
   "source": [
    "# We need theta parameter for every input variable. since we have six input variables\n",
    "\n",
    "theta_0099 = [0., 0., 0., 0., 0., 0.]\n",
    "iterations = 500;\n",
    "alpha_0099 = 0.099"
   ]
  },
  {
   "cell_type": "code",
   "execution_count": 36,
   "id": "d03f70cd",
   "metadata": {},
   "outputs": [
    {
     "name": "stdout",
     "output_type": "stream",
     "text": [
      "Final value of theta= [6.07037356e-17 3.91364611e-01 4.25365587e-02 3.43824085e-01\n",
      " 2.48703553e-01 1.54057108e-01]\n",
      "cost_history = [0.41175144 0.35239925 0.3123003  0.285058   0.26642446 0.25357475\n",
      " 0.24462706 0.23832516 0.23382834 0.23057218 0.2281763  0.22638316\n",
      " 0.22501739 0.22395879 0.22312429 0.22245593 0.22191285 0.22146585\n",
      " 0.2210938  0.22078115 0.22051629 0.22029041 0.2200967  0.21992981\n",
      " 0.2197855  0.21966033 0.21955148 0.21945663 0.21937383 0.21930145\n",
      " 0.21923811 0.21918262 0.21913396 0.21909126 0.21905377 0.21902083\n",
      " 0.21899188 0.21896642 0.21894402 0.21892431 0.21890696 0.21889168\n",
      " 0.21887822 0.21886637 0.21885592 0.21884671 0.21883859 0.21883143\n",
      " 0.21882511 0.21881954 0.21881462 0.21881029 0.21880646 0.21880308\n",
      " 0.2188001  0.21879746 0.21879513 0.21879308 0.21879126 0.21878966\n",
      " 0.21878824 0.21878699 0.21878588 0.2187849  0.21878404 0.21878327\n",
      " 0.2187826  0.218782   0.21878147 0.218781   0.21878059 0.21878022\n",
      " 0.2187799  0.21877961 0.21877935 0.21877913 0.21877893 0.21877875\n",
      " 0.2187786  0.21877846 0.21877834 0.21877823 0.21877813 0.21877805\n",
      " 0.21877797 0.2187779  0.21877784 0.21877779 0.21877775 0.2187777\n",
      " 0.21877767 0.21877763 0.21877761 0.21877758 0.21877756 0.21877754\n",
      " 0.21877752 0.2187775  0.21877749 0.21877748 0.21877747 0.21877746\n",
      " 0.21877745 0.21877744 0.21877743 0.21877743 0.21877742 0.21877742\n",
      " 0.21877741 0.21877741 0.2187774  0.2187774  0.2187774  0.2187774\n",
      " 0.21877739 0.21877739 0.21877739 0.21877739 0.21877739 0.21877739\n",
      " 0.21877739 0.21877739 0.21877738 0.21877738 0.21877738 0.21877738\n",
      " 0.21877738 0.21877738 0.21877738 0.21877738 0.21877738 0.21877738\n",
      " 0.21877738 0.21877738 0.21877738 0.21877738 0.21877738 0.21877738\n",
      " 0.21877738 0.21877738 0.21877738 0.21877738 0.21877738 0.21877738\n",
      " 0.21877738 0.21877738 0.21877738 0.21877738 0.21877738 0.21877738\n",
      " 0.21877738 0.21877738 0.21877738 0.21877738 0.21877738 0.21877738\n",
      " 0.21877738 0.21877738 0.21877738 0.21877738 0.21877738 0.21877738\n",
      " 0.21877738 0.21877738 0.21877738 0.21877738 0.21877738 0.21877738\n",
      " 0.21877738 0.21877738 0.21877738 0.21877738 0.21877738 0.21877738\n",
      " 0.21877738 0.21877738 0.21877738 0.21877738 0.21877738 0.21877738\n",
      " 0.21877738 0.21877738 0.21877738 0.21877738 0.21877738 0.21877738\n",
      " 0.21877738 0.21877738 0.21877738 0.21877738 0.21877738 0.21877738\n",
      " 0.21877738 0.21877738 0.21877738 0.21877738 0.21877738 0.21877738\n",
      " 0.21877738 0.21877738 0.21877738 0.21877738 0.21877738 0.21877738\n",
      " 0.21877738 0.21877738 0.21877738 0.21877738 0.21877738 0.21877738\n",
      " 0.21877738 0.21877738 0.21877738 0.21877738 0.21877738 0.21877738\n",
      " 0.21877738 0.21877738 0.21877738 0.21877738 0.21877738 0.21877738\n",
      " 0.21877738 0.21877738 0.21877738 0.21877738 0.21877738 0.21877738\n",
      " 0.21877738 0.21877738 0.21877738 0.21877738 0.21877738 0.21877738\n",
      " 0.21877738 0.21877738 0.21877738 0.21877738 0.21877738 0.21877738\n",
      " 0.21877738 0.21877738 0.21877738 0.21877738 0.21877738 0.21877738\n",
      " 0.21877738 0.21877738 0.21877738 0.21877738 0.21877738 0.21877738\n",
      " 0.21877738 0.21877738 0.21877738 0.21877738 0.21877738 0.21877738\n",
      " 0.21877738 0.21877738 0.21877738 0.21877738 0.21877738 0.21877738\n",
      " 0.21877738 0.21877738 0.21877738 0.21877738 0.21877738 0.21877738\n",
      " 0.21877738 0.21877738 0.21877738 0.21877738 0.21877738 0.21877738\n",
      " 0.21877738 0.21877738 0.21877738 0.21877738 0.21877738 0.21877738\n",
      " 0.21877738 0.21877738 0.21877738 0.21877738 0.21877738 0.21877738\n",
      " 0.21877738 0.21877738 0.21877738 0.21877738 0.21877738 0.21877738\n",
      " 0.21877738 0.21877738 0.21877738 0.21877738 0.21877738 0.21877738\n",
      " 0.21877738 0.21877738 0.21877738 0.21877738 0.21877738 0.21877738\n",
      " 0.21877738 0.21877738 0.21877738 0.21877738 0.21877738 0.21877738\n",
      " 0.21877738 0.21877738 0.21877738 0.21877738 0.21877738 0.21877738\n",
      " 0.21877738 0.21877738 0.21877738 0.21877738 0.21877738 0.21877738\n",
      " 0.21877738 0.21877738 0.21877738 0.21877738 0.21877738 0.21877738\n",
      " 0.21877738 0.21877738 0.21877738 0.21877738 0.21877738 0.21877738\n",
      " 0.21877738 0.21877738 0.21877738 0.21877738 0.21877738 0.21877738\n",
      " 0.21877738 0.21877738 0.21877738 0.21877738 0.21877738 0.21877738\n",
      " 0.21877738 0.21877738 0.21877738 0.21877738 0.21877738 0.21877738\n",
      " 0.21877738 0.21877738 0.21877738 0.21877738 0.21877738 0.21877738\n",
      " 0.21877738 0.21877738 0.21877738 0.21877738 0.21877738 0.21877738\n",
      " 0.21877738 0.21877738 0.21877738 0.21877738 0.21877738 0.21877738\n",
      " 0.21877738 0.21877738 0.21877738 0.21877738 0.21877738 0.21877738\n",
      " 0.21877738 0.21877738 0.21877738 0.21877738 0.21877738 0.21877738\n",
      " 0.21877738 0.21877738 0.21877738 0.21877738 0.21877738 0.21877738\n",
      " 0.21877738 0.21877738 0.21877738 0.21877738 0.21877738 0.21877738\n",
      " 0.21877738 0.21877738 0.21877738 0.21877738 0.21877738 0.21877738\n",
      " 0.21877738 0.21877738 0.21877738 0.21877738 0.21877738 0.21877738\n",
      " 0.21877738 0.21877738 0.21877738 0.21877738 0.21877738 0.21877738\n",
      " 0.21877738 0.21877738 0.21877738 0.21877738 0.21877738 0.21877738\n",
      " 0.21877738 0.21877738 0.21877738 0.21877738 0.21877738 0.21877738\n",
      " 0.21877738 0.21877738 0.21877738 0.21877738 0.21877738 0.21877738\n",
      " 0.21877738 0.21877738 0.21877738 0.21877738 0.21877738 0.21877738\n",
      " 0.21877738 0.21877738 0.21877738 0.21877738 0.21877738 0.21877738\n",
      " 0.21877738 0.21877738 0.21877738 0.21877738 0.21877738 0.21877738\n",
      " 0.21877738 0.21877738 0.21877738 0.21877738 0.21877738 0.21877738\n",
      " 0.21877738 0.21877738 0.21877738 0.21877738 0.21877738 0.21877738\n",
      " 0.21877738 0.21877738 0.21877738 0.21877738 0.21877738 0.21877738\n",
      " 0.21877738 0.21877738 0.21877738 0.21877738 0.21877738 0.21877738\n",
      " 0.21877738 0.21877738 0.21877738 0.21877738 0.21877738 0.21877738\n",
      " 0.21877738 0.21877738 0.21877738 0.21877738 0.21877738 0.21877738\n",
      " 0.21877738 0.21877738 0.21877738 0.21877738 0.21877738 0.21877738\n",
      " 0.21877738 0.21877738 0.21877738 0.21877738 0.21877738 0.21877738\n",
      " 0.21877738 0.21877738]\n",
      "cost_test = [0.40448929 0.34093845 0.29864134 0.27049349 0.25177668 0.23935459\n",
      " 0.23114014 0.22574274 0.2222345  0.21999518 0.21860939 0.2177983\n",
      " 0.21737419 0.21721036 0.21722096 0.21734762 0.21755047 0.21780219\n",
      " 0.21808394 0.21838272 0.21868949 0.21899796 0.2193038  0.21960396\n",
      " 0.21989638 0.22017966 0.2204529  0.22071554 0.22096728 0.22120802\n",
      " 0.22143778 0.22165669 0.22186498 0.2220629  0.22225076 0.22242889\n",
      " 0.22259766 0.22275742 0.22290854 0.22305141 0.22318638 0.22331383\n",
      " 0.22343411 0.22354758 0.22365457 0.22375542 0.22385045 0.22393996\n",
      " 0.22402424 0.22410358 0.22417826 0.22424852 0.22431461 0.22437677\n",
      " 0.22443522 0.22449017 0.22454183 0.22459038 0.22463601 0.22467888\n",
      " 0.22471916 0.22475699 0.22479253 0.22482592 0.22485727 0.22488671\n",
      " 0.22491435 0.22494031 0.22496468 0.22498757 0.22500905 0.22502922\n",
      " 0.22504815 0.22506592 0.22508261 0.22509827 0.22511297 0.22512677\n",
      " 0.22513972 0.22515187 0.22516328 0.22517399 0.22518404 0.22519348\n",
      " 0.22520233 0.22521064 0.22521844 0.22522576 0.22523264 0.22523909\n",
      " 0.22524514 0.22525083 0.22525616 0.22526117 0.22526587 0.22527028\n",
      " 0.22527443 0.22527831 0.22528196 0.22528539 0.22528861 0.22529163\n",
      " 0.22529446 0.22529713 0.22529963 0.22530197 0.22530418 0.22530625\n",
      " 0.22530819 0.22531001 0.22531173 0.22531334 0.22531485 0.22531627\n",
      " 0.2253176  0.22531885 0.22532002 0.22532113 0.22532217 0.22532314\n",
      " 0.22532405 0.22532491 0.22532572 0.22532648 0.22532719 0.22532786\n",
      " 0.22532849 0.22532908 0.22532964 0.22533016 0.22533065 0.22533111\n",
      " 0.22533154 0.22533195 0.22533233 0.22533269 0.22533303 0.22533334\n",
      " 0.22533364 0.22533392 0.22533418 0.22533443 0.22533466 0.22533488\n",
      " 0.22533509 0.22533528 0.22533546 0.22533563 0.22533579 0.22533595\n",
      " 0.22533609 0.22533622 0.22533635 0.22533646 0.22533658 0.22533668\n",
      " 0.22533678 0.22533687 0.22533696 0.22533704 0.22533712 0.22533719\n",
      " 0.22533726 0.22533732 0.22533738 0.22533744 0.22533749 0.22533754\n",
      " 0.22533759 0.22533763 0.22533767 0.22533771 0.22533775 0.22533778\n",
      " 0.22533782 0.22533785 0.22533787 0.2253379  0.22533793 0.22533795\n",
      " 0.22533797 0.225338   0.22533802 0.22533803 0.22533805 0.22533807\n",
      " 0.22533808 0.2253381  0.22533811 0.22533813 0.22533814 0.22533815\n",
      " 0.22533816 0.22533817 0.22533818 0.22533819 0.2253382  0.22533821\n",
      " 0.22533822 0.22533822 0.22533823 0.22533824 0.22533824 0.22533825\n",
      " 0.22533825 0.22533826 0.22533826 0.22533827 0.22533827 0.22533827\n",
      " 0.22533828 0.22533828 0.22533829 0.22533829 0.22533829 0.22533829\n",
      " 0.2253383  0.2253383  0.2253383  0.2253383  0.22533831 0.22533831\n",
      " 0.22533831 0.22533831 0.22533831 0.22533831 0.22533832 0.22533832\n",
      " 0.22533832 0.22533832 0.22533832 0.22533832 0.22533832 0.22533832\n",
      " 0.22533832 0.22533833 0.22533833 0.22533833 0.22533833 0.22533833\n",
      " 0.22533833 0.22533833 0.22533833 0.22533833 0.22533833 0.22533833\n",
      " 0.22533833 0.22533833 0.22533833 0.22533833 0.22533833 0.22533833\n",
      " 0.22533833 0.22533833 0.22533833 0.22533833 0.22533834 0.22533834\n",
      " 0.22533834 0.22533834 0.22533834 0.22533834 0.22533834 0.22533834\n",
      " 0.22533834 0.22533834 0.22533834 0.22533834 0.22533834 0.22533834\n",
      " 0.22533834 0.22533834 0.22533834 0.22533834 0.22533834 0.22533834\n",
      " 0.22533834 0.22533834 0.22533834 0.22533834 0.22533834 0.22533834\n",
      " 0.22533834 0.22533834 0.22533834 0.22533834 0.22533834 0.22533834\n",
      " 0.22533834 0.22533834 0.22533834 0.22533834 0.22533834 0.22533834\n",
      " 0.22533834 0.22533834 0.22533834 0.22533834 0.22533834 0.22533834\n",
      " 0.22533834 0.22533834 0.22533834 0.22533834 0.22533834 0.22533834\n",
      " 0.22533834 0.22533834 0.22533834 0.22533834 0.22533834 0.22533834\n",
      " 0.22533834 0.22533834 0.22533834 0.22533834 0.22533834 0.22533834\n",
      " 0.22533834 0.22533834 0.22533834 0.22533834 0.22533834 0.22533834\n",
      " 0.22533834 0.22533834 0.22533834 0.22533834 0.22533834 0.22533834\n",
      " 0.22533834 0.22533834 0.22533834 0.22533834 0.22533834 0.22533834\n",
      " 0.22533834 0.22533834 0.22533834 0.22533834 0.22533834 0.22533834\n",
      " 0.22533834 0.22533834 0.22533834 0.22533834 0.22533834 0.22533834\n",
      " 0.22533834 0.22533834 0.22533834 0.22533834 0.22533834 0.22533834\n",
      " 0.22533834 0.22533834 0.22533834 0.22533834 0.22533834 0.22533834\n",
      " 0.22533834 0.22533834 0.22533834 0.22533834 0.22533834 0.22533834\n",
      " 0.22533834 0.22533834 0.22533834 0.22533834 0.22533834 0.22533834\n",
      " 0.22533834 0.22533834 0.22533834 0.22533834 0.22533834 0.22533834\n",
      " 0.22533834 0.22533834 0.22533834 0.22533834 0.22533834 0.22533834\n",
      " 0.22533834 0.22533834 0.22533834 0.22533834 0.22533834 0.22533834\n",
      " 0.22533834 0.22533834 0.22533834 0.22533834 0.22533834 0.22533834\n",
      " 0.22533834 0.22533834 0.22533834 0.22533834 0.22533834 0.22533834\n",
      " 0.22533834 0.22533834 0.22533834 0.22533834 0.22533834 0.22533834\n",
      " 0.22533834 0.22533834 0.22533834 0.22533834 0.22533834 0.22533834\n",
      " 0.22533834 0.22533834 0.22533834 0.22533834 0.22533834 0.22533834\n",
      " 0.22533834 0.22533834 0.22533834 0.22533834 0.22533834 0.22533834\n",
      " 0.22533834 0.22533834 0.22533834 0.22533834 0.22533834 0.22533834\n",
      " 0.22533834 0.22533834 0.22533834 0.22533834 0.22533834 0.22533834\n",
      " 0.22533834 0.22533834 0.22533834 0.22533834 0.22533834 0.22533834\n",
      " 0.22533834 0.22533834 0.22533834 0.22533834 0.22533834 0.22533834\n",
      " 0.22533834 0.22533834 0.22533834 0.22533834 0.22533834 0.22533834\n",
      " 0.22533834 0.22533834 0.22533834 0.22533834 0.22533834 0.22533834\n",
      " 0.22533834 0.22533834 0.22533834 0.22533834 0.22533834 0.22533834\n",
      " 0.22533834 0.22533834 0.22533834 0.22533834 0.22533834 0.22533834\n",
      " 0.22533834 0.22533834 0.22533834 0.22533834 0.22533834 0.22533834\n",
      " 0.22533834 0.22533834 0.22533834 0.22533834 0.22533834 0.22533834\n",
      " 0.22533834 0.22533834 0.22533834 0.22533834 0.22533834 0.22533834\n",
      " 0.22533834 0.22533834 0.22533834 0.22533834 0.22533834 0.22533834\n",
      " 0.22533834 0.22533834]\n"
     ]
    }
   ],
   "source": [
    "# Computing final theta values and cost/losses for training and validation set\n",
    "\n",
    "theta_0099, cost_history_0099, cost_test_0099 = gradient_descent(X, y, theta_0099, alpha_0099, iterations)\n",
    "print('Final value of theta=', theta_0099)\n",
    "print('cost_history =', cost_history_0099)\n",
    "print('cost_test =', cost_test_0099)"
   ]
  },
  {
   "cell_type": "code",
   "execution_count": 37,
   "id": "a8766d7c",
   "metadata": {},
   "outputs": [
    {
     "data": {
      "text/plain": [
       "Text(0.5, 1.0, 'Convergence of Gradient Descent')"
      ]
     },
     "execution_count": 37,
     "metadata": {},
     "output_type": "execute_result"
    },
    {
     "data": {
      "image/png": "[encoded data removed]",
      "text/plain": [
       "<Figure size 1000x600 with 1 Axes>"
      ]
     },
     "metadata": {},
     "output_type": "display_data"
    }
   ],
   "source": [
    "plt.plot(range(1, iterations + 1),cost_history_0099, color='green', label= 'Loss for Training Set')\n",
    "plt.plot(range(1, iterations + 1),cost_test_0099, color='red', label= 'Loss for Validation Set')\n",
    "plt.rcParams[\"figure.figsize\"] = (10,6)\n",
    "plt.grid()\n",
    "plt.legend()\n",
    "plt.xlabel('Number of Iterations')\n",
    "plt.ylabel('Cost (J)')\n",
    "plt.title('Convergence of Gradient Descent')"
   ]
  },
  {
   "cell_type": "markdown",
   "id": "2c04b4d8",
   "metadata": {},
   "source": [
    "#### For learning rate 0.03 (learning rate is chosen between 0.1 and 0.01 as question asked)"
   ]
  },
  {
   "cell_type": "code",
   "execution_count": 38,
   "id": "0690f562",
   "metadata": {},
   "outputs": [],
   "source": [
    "theta_003 = [0., 0., 0., 0., 0., 0.]\n",
    "iterations = 500;\n",
    "alpha_003 = 0.03"
   ]
  },
  {
   "cell_type": "code",
   "execution_count": 39,
   "id": "03fbc942",
   "metadata": {},
   "outputs": [
    {
     "name": "stdout",
     "output_type": "stream",
     "text": [
      "Final value of theta= [6.38021746e-17 3.91363572e-01 4.25639363e-02 3.43814556e-01\n",
      " 2.48685085e-01 1.54055139e-01]\n",
      "cost_history = [0.47140702 0.44585593 0.42301673 0.40259556 0.38433066 0.36798894\n",
      " 0.35336273 0.34026706 0.32853715 0.31802616 0.30860328 0.30015192\n",
      " 0.29256819 0.28575948 0.27964324 0.27414588 0.26920176 0.26475239\n",
      " 0.26074556 0.25713473 0.25387836 0.25093938 0.24828473 0.24588488\n",
      " 0.24371347 0.24174695 0.23996432 0.23834678 0.23687754 0.2355416\n",
      " 0.23432556 0.2332174  0.23220639 0.23128294 0.23043843 0.22966516\n",
      " 0.22895624 0.22830549 0.22770734 0.22715683 0.2266495  0.22618133\n",
      " 0.22574873 0.22534845 0.22497758 0.2246335  0.22431386 0.22401652\n",
      " 0.22373956 0.22348126 0.22324006 0.22301453 0.2228034  0.22260552\n",
      " 0.22241983 0.22224539 0.22208133 0.22192687 0.22178129 0.22164395\n",
      " 0.22151425 0.22139165 0.22127566 0.22116582 0.22106173 0.220963\n",
      " 0.22086928 0.22078026 0.22069564 0.22061515 0.22053854 0.22046558\n",
      " 0.22039605 0.22032976 0.22026652 0.22020617 0.22014854 0.22009348\n",
      " 0.22004087 0.21999057 0.21994245 0.21989642 0.21985237 0.21981019\n",
      " 0.21976979 0.21973109 0.21969401 0.21965847 0.2196244  0.21959172\n",
      " 0.21956038 0.21953032 0.21950147 0.21947378 0.21944721 0.2194217\n",
      " 0.2193972  0.21937367 0.21935108 0.21932937 0.21930852 0.21928849\n",
      " 0.21926923 0.21925073 0.21923295 0.21921585 0.21919942 0.21918362\n",
      " 0.21916843 0.21915382 0.21913977 0.21912626 0.21911327 0.21910077\n",
      " 0.21908875 0.21907718 0.21906605 0.21905535 0.21904505 0.21903514\n",
      " 0.2190256  0.21901642 0.21900759 0.21899909 0.21899091 0.21898304\n",
      " 0.21897546 0.21896817 0.21896115 0.21895439 0.21894788 0.21894162\n",
      " 0.21893559 0.21892978 0.21892419 0.21891881 0.21891363 0.21890864\n",
      " 0.21890383 0.21889921 0.21889475 0.21889046 0.21888633 0.21888235\n",
      " 0.21887852 0.21887483 0.21887128 0.21886785 0.21886456 0.21886138\n",
      " 0.21885832 0.21885538 0.21885254 0.21884981 0.21884717 0.21884464\n",
      " 0.2188422  0.21883984 0.21883758 0.21883539 0.21883329 0.21883126\n",
      " 0.21882931 0.21882743 0.21882561 0.21882387 0.21882219 0.21882057\n",
      " 0.218819   0.2188175  0.21881605 0.21881465 0.21881331 0.21881201\n",
      " 0.21881076 0.21880956 0.21880839 0.21880728 0.2188062  0.21880516\n",
      " 0.21880416 0.2188032  0.21880227 0.21880137 0.21880051 0.21879968\n",
      " 0.21879887 0.2187981  0.21879736 0.21879664 0.21879595 0.21879528\n",
      " 0.21879464 0.21879402 0.21879342 0.21879285 0.21879229 0.21879176\n",
      " 0.21879124 0.21879075 0.21879027 0.21878981 0.21878936 0.21878893\n",
      " 0.21878852 0.21878812 0.21878774 0.21878737 0.21878701 0.21878667\n",
      " 0.21878634 0.21878602 0.21878571 0.21878541 0.21878513 0.21878485\n",
      " 0.21878458 0.21878433 0.21878408 0.21878384 0.21878361 0.21878339\n",
      " 0.21878317 0.21878297 0.21878277 0.21878258 0.21878239 0.21878222\n",
      " 0.21878204 0.21878188 0.21878172 0.21878156 0.21878142 0.21878127\n",
      " 0.21878113 0.218781   0.21878087 0.21878075 0.21878063 0.21878051\n",
      " 0.2187804  0.2187803  0.21878019 0.21878009 0.21878    0.2187799\n",
      " 0.21877982 0.21877973 0.21877965 0.21877957 0.21877949 0.21877941\n",
      " 0.21877934 0.21877927 0.21877921 0.21877914 0.21877908 0.21877902\n",
      " 0.21877896 0.21877891 0.21877885 0.2187788  0.21877875 0.2187787\n",
      " 0.21877866 0.21877861 0.21877857 0.21877852 0.21877848 0.21877845\n",
      " 0.21877841 0.21877837 0.21877834 0.2187783  0.21877827 0.21877824\n",
      " 0.21877821 0.21877818 0.21877815 0.21877812 0.2187781  0.21877807\n",
      " 0.21877805 0.21877803 0.218778   0.21877798 0.21877796 0.21877794\n",
      " 0.21877792 0.2187779  0.21877788 0.21877786 0.21877785 0.21877783\n",
      " 0.21877782 0.2187778  0.21877779 0.21877777 0.21877776 0.21877774\n",
      " 0.21877773 0.21877772 0.21877771 0.2187777  0.21877768 0.21877767\n",
      " 0.21877766 0.21877765 0.21877764 0.21877763 0.21877763 0.21877762\n",
      " 0.21877761 0.2187776  0.21877759 0.21877759 0.21877758 0.21877757\n",
      " 0.21877756 0.21877756 0.21877755 0.21877755 0.21877754 0.21877753\n",
      " 0.21877753 0.21877752 0.21877752 0.21877751 0.21877751 0.2187775\n",
      " 0.2187775  0.2187775  0.21877749 0.21877749 0.21877748 0.21877748\n",
      " 0.21877748 0.21877747 0.21877747 0.21877747 0.21877746 0.21877746\n",
      " 0.21877746 0.21877746 0.21877745 0.21877745 0.21877745 0.21877745\n",
      " 0.21877744 0.21877744 0.21877744 0.21877744 0.21877743 0.21877743\n",
      " 0.21877743 0.21877743 0.21877743 0.21877743 0.21877742 0.21877742\n",
      " 0.21877742 0.21877742 0.21877742 0.21877742 0.21877741 0.21877741\n",
      " 0.21877741 0.21877741 0.21877741 0.21877741 0.21877741 0.21877741\n",
      " 0.21877741 0.2187774  0.2187774  0.2187774  0.2187774  0.2187774\n",
      " 0.2187774  0.2187774  0.2187774  0.2187774  0.2187774  0.2187774\n",
      " 0.2187774  0.2187774  0.2187774  0.21877739 0.21877739 0.21877739\n",
      " 0.21877739 0.21877739 0.21877739 0.21877739 0.21877739 0.21877739\n",
      " 0.21877739 0.21877739 0.21877739 0.21877739 0.21877739 0.21877739\n",
      " 0.21877739 0.21877739 0.21877739 0.21877739 0.21877739 0.21877739\n",
      " 0.21877739 0.21877739 0.21877739 0.21877739 0.21877738 0.21877738\n",
      " 0.21877738 0.21877738 0.21877738 0.21877738 0.21877738 0.21877738\n",
      " 0.21877738 0.21877738 0.21877738 0.21877738 0.21877738 0.21877738\n",
      " 0.21877738 0.21877738 0.21877738 0.21877738 0.21877738 0.21877738\n",
      " 0.21877738 0.21877738 0.21877738 0.21877738 0.21877738 0.21877738\n",
      " 0.21877738 0.21877738 0.21877738 0.21877738 0.21877738 0.21877738\n",
      " 0.21877738 0.21877738 0.21877738 0.21877738 0.21877738 0.21877738\n",
      " 0.21877738 0.21877738 0.21877738 0.21877738 0.21877738 0.21877738\n",
      " 0.21877738 0.21877738 0.21877738 0.21877738 0.21877738 0.21877738\n",
      " 0.21877738 0.21877738 0.21877738 0.21877738 0.21877738 0.21877738\n",
      " 0.21877738 0.21877738 0.21877738 0.21877738 0.21877738 0.21877738\n",
      " 0.21877738 0.21877738 0.21877738 0.21877738 0.21877738 0.21877738\n",
      " 0.21877738 0.21877738 0.21877738 0.21877738 0.21877738 0.21877738\n",
      " 0.21877738 0.21877738 0.21877738 0.21877738 0.21877738 0.21877738\n",
      " 0.21877738 0.21877738 0.21877738 0.21877738 0.21877738 0.21877738\n",
      " 0.21877738 0.21877738]\n",
      "cost_test = [0.46899223 0.4413516  0.41671176 0.39474642 0.37516493 0.35770838\n",
      " 0.34214612 0.32827268 0.31590499 0.30487992 0.29505214 0.28629214\n",
      " 0.27848449 0.27152633 0.26532597 0.2598017  0.25488066 0.25049792\n",
      " 0.24659556 0.24312196 0.24003107 0.23728184 0.23483764 0.2326658\n",
      " 0.23073719 0.22902579 0.22750841 0.22616434 0.22497509 0.22392418\n",
      " 0.22299687 0.22218002 0.22146186 0.22083193 0.22028083 0.21980021\n",
      " 0.21938257 0.21902123 0.2187102  0.21844415 0.21821829 0.21802834\n",
      " 0.21787048 0.21774127 0.21763767 0.21755691 0.21749655 0.21745438\n",
      " 0.21742842 0.21741692 0.21741829 0.2174311  0.21745408 0.21748608\n",
      " 0.21752609 0.21757318 0.21762652 0.21768537 0.21774906 0.21781699\n",
      " 0.21788863 0.21796349 0.21804114 0.21812118 0.21820326 0.21828706\n",
      " 0.2183723  0.21845872 0.2185461  0.21863421 0.21872289 0.21881195\n",
      " 0.21890125 0.21899066 0.21908004 0.21916929 0.21925831 0.21934701\n",
      " 0.21943531 0.21952315 0.21961045 0.21969717 0.21978324 0.21986863\n",
      " 0.2199533  0.2200372  0.22012031 0.2202026  0.22028405 0.22036464\n",
      " 0.22044434 0.22052314 0.22060103 0.22067799 0.22075403 0.22082912\n",
      " 0.22090327 0.22097647 0.22104871 0.22112    0.22119034 0.22125972\n",
      " 0.22132815 0.22139563 0.22146216 0.22152775 0.22159239 0.2216561\n",
      " 0.22171889 0.22178075 0.22184169 0.22190172 0.22196085 0.22201909\n",
      " 0.22207644 0.2221329  0.2221885  0.22224324 0.22229712 0.22235016\n",
      " 0.22240236 0.22245373 0.22250429 0.22255404 0.22260299 0.22265115\n",
      " 0.22269854 0.22274515 0.222791   0.22283611 0.22288047 0.2229241\n",
      " 0.22296701 0.22300921 0.2230507  0.22309151 0.22313163 0.22317108\n",
      " 0.22320986 0.22324799 0.22328547 0.22332232 0.22335854 0.22339415\n",
      " 0.22342914 0.22346354 0.22349734 0.22353057 0.22356322 0.22359531\n",
      " 0.22362684 0.22365783 0.22368828 0.2237182  0.2237476  0.22377648\n",
      " 0.22380486 0.22383274 0.22386013 0.22388704 0.22391348 0.22393945\n",
      " 0.22396497 0.22399003 0.22401465 0.22403883 0.22406258 0.22408591\n",
      " 0.22410883 0.22413133 0.22415344 0.22417515 0.22419647 0.22421741\n",
      " 0.22423798 0.22425818 0.22427801 0.22429749 0.22431662 0.2243354\n",
      " 0.22435385 0.22437196 0.22438974 0.22440721 0.22442435 0.22444119\n",
      " 0.22445772 0.22447396 0.2244899  0.22450554 0.22452091 0.22453599\n",
      " 0.2245508  0.22456534 0.22457962 0.22459364 0.22460739 0.2246209\n",
      " 0.22463416 0.22464718 0.22465997 0.22467251 0.22468483 0.22469692\n",
      " 0.22470879 0.22472045 0.22473188 0.22474311 0.22475414 0.22476496\n",
      " 0.22477558 0.224786   0.22479624 0.22480628 0.22481614 0.22482582\n",
      " 0.22483533 0.22484465 0.2248538  0.22486279 0.22487161 0.22488027\n",
      " 0.22488876 0.2248971  0.22490529 0.22491332 0.22492121 0.22492895\n",
      " 0.22493654 0.224944   0.22495132 0.2249585  0.22496555 0.22497247\n",
      " 0.22497926 0.22498593 0.22499247 0.22499889 0.22500519 0.22501138\n",
      " 0.22501745 0.2250234  0.22502925 0.22503499 0.22504062 0.22504615\n",
      " 0.22505157 0.2250569  0.22506212 0.22506725 0.22507228 0.22507722\n",
      " 0.22508207 0.22508683 0.2250915  0.22509608 0.22510058 0.22510499\n",
      " 0.22510932 0.22511357 0.22511774 0.22512184 0.22512586 0.2251298\n",
      " 0.22513367 0.22513747 0.2251412  0.22514485 0.22514844 0.22515197\n",
      " 0.22515542 0.22515882 0.22516215 0.22516542 0.22516862 0.22517177\n",
      " 0.22517486 0.22517789 0.22518087 0.22518379 0.22518665 0.22518947\n",
      " 0.22519222 0.22519493 0.22519759 0.2252002  0.22520276 0.22520527\n",
      " 0.22520774 0.22521016 0.22521253 0.22521486 0.22521715 0.2252194\n",
      " 0.2252216  0.22522376 0.22522588 0.22522796 0.22523001 0.22523201\n",
      " 0.22523398 0.22523591 0.22523781 0.22523967 0.22524149 0.22524329\n",
      " 0.22524504 0.22524677 0.22524846 0.22525012 0.22525176 0.22525336\n",
      " 0.22525493 0.22525647 0.22525798 0.22525947 0.22526093 0.22526236\n",
      " 0.22526376 0.22526514 0.22526649 0.22526782 0.22526912 0.2252704\n",
      " 0.22527165 0.22527288 0.22527409 0.22527528 0.22527644 0.22527758\n",
      " 0.2252787  0.2252798  0.22528088 0.22528194 0.22528298 0.225284\n",
      " 0.225285   0.22528599 0.22528695 0.2252879  0.22528883 0.22528974\n",
      " 0.22529064 0.22529152 0.22529238 0.22529322 0.22529405 0.22529487\n",
      " 0.22529567 0.22529646 0.22529723 0.22529798 0.22529873 0.22529945\n",
      " 0.22530017 0.22530087 0.22530156 0.22530224 0.2253029  0.22530355\n",
      " 0.22530419 0.22530482 0.22530543 0.22530604 0.22530663 0.22530721\n",
      " 0.22530779 0.22530835 0.2253089  0.22530944 0.22530997 0.22531049\n",
      " 0.225311   0.2253115  0.22531199 0.22531248 0.22531295 0.22531342\n",
      " 0.22531387 0.22531432 0.22531476 0.22531519 0.22531562 0.22531603\n",
      " 0.22531644 0.22531684 0.22531724 0.22531762 0.225318   0.22531838\n",
      " 0.22531874 0.2253191  0.22531945 0.2253198  0.22532014 0.22532047\n",
      " 0.2253208  0.22532112 0.22532143 0.22532174 0.22532204 0.22532234\n",
      " 0.22532263 0.22532292 0.2253232  0.22532348 0.22532375 0.22532402\n",
      " 0.22532428 0.22532454 0.22532479 0.22532503 0.22532528 0.22532552\n",
      " 0.22532575 0.22532598 0.2253262  0.22532643 0.22532664 0.22532686\n",
      " 0.22532707 0.22532727 0.22532747 0.22532767 0.22532786 0.22532806\n",
      " 0.22532824 0.22532843 0.22532861 0.22532878 0.22532896 0.22532913\n",
      " 0.2253293  0.22532946 0.22532962 0.22532978 0.22532994 0.22533009\n",
      " 0.22533024 0.22533039 0.22533053 0.22533067 0.22533081 0.22533095\n",
      " 0.22533108 0.22533121 0.22533134 0.22533147 0.2253316  0.22533172\n",
      " 0.22533184 0.22533196 0.22533207 0.22533219 0.2253323  0.22533241\n",
      " 0.22533251 0.22533262 0.22533272 0.22533283 0.22533293 0.22533302\n",
      " 0.22533312 0.22533321 0.22533331 0.2253334  0.22533349 0.22533358\n",
      " 0.22533366 0.22533375 0.22533383 0.22533391 0.22533399 0.22533407\n",
      " 0.22533415 0.22533422 0.2253343  0.22533437 0.22533444 0.22533451\n",
      " 0.22533458 0.22533465 0.22533472 0.22533478 0.22533485 0.22533491\n",
      " 0.22533497 0.22533503 0.22533509 0.22533515 0.22533521 0.22533526\n",
      " 0.22533532 0.22533537 0.22533543 0.22533548 0.22533553 0.22533558\n",
      " 0.22533563 0.22533568]\n"
     ]
    }
   ],
   "source": [
    "# Computing final theta values and cost/losses for training and validation set\n",
    "\n",
    "theta_003, cost_history_003, cost_test_003 = gradient_descent(X, y, theta_003, alpha_003, iterations)\n",
    "print('Final value of theta=', theta_003)\n",
    "print('cost_history =', cost_history_003)\n",
    "print('cost_test =', cost_test_003)"
   ]
  },
  {
   "cell_type": "code",
   "execution_count": 40,
   "id": "41efb852",
   "metadata": {},
   "outputs": [
    {
     "data": {
      "text/plain": [
       "Text(0.5, 1.0, 'Convergence of Gradient Descent')"
      ]
     },
     "execution_count": 40,
     "metadata": {},
     "output_type": "execute_result"
    },
    {
     "data": {
      "image/png": "[encoded data removed]",
      "text/plain": [
       "<Figure size 1000x600 with 1 Axes>"
      ]
     },
     "metadata": {},
     "output_type": "display_data"
    }
   ],
   "source": [
    "plt.plot(range(1, iterations + 1),cost_history_003, color='green', label= 'Loss for Training Set')\n",
    "plt.plot(range(1, iterations + 1),cost_test_003, color='red', label= 'Loss for Validation Set')\n",
    "plt.rcParams[\"figure.figsize\"] = (10,6)\n",
    "plt.grid()\n",
    "plt.legend()\n",
    "plt.xlabel('Number of Iterations')\n",
    "plt.ylabel('Cost (J)')\n",
    "plt.title('Convergence of Gradient Descent')"
   ]
  },
  {
   "cell_type": "markdown",
   "id": "b49c23fe",
   "metadata": {},
   "source": [
    "## Like previous,we see that for learning rate 0.099, convergence is a little bit faster. Also compared to nomalization ( code is in Homework-1_Problem-2a (Normalization)), cost is higher at the same iteration for standardization. So, normalization shows better performance than standardization."
   ]
  }
 ],
 "metadata": {
  "kernelspec": {
   "display_name": "Python 3 (ipykernel)",
   "language": "python",
   "name": "python3"
  },
  "language_info": {
   "codemirror_mode": {
    "name": "ipython",
    "version": 3
   },
   "file_extension": ".py",
   "mimetype": "text/x-python",
   "name": "python",
   "nbconvert_exporter": "python",
   "pygments_lexer": "ipython3",
   "version": "3.9.13"
  }
 },
 "nbformat": 4,
 "nbformat_minor": 5
}
