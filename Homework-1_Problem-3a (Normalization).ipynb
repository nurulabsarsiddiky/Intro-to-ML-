{
 "cells": [
  {
   "cell_type": "markdown",
   "id": "f9f04155",
   "metadata": {},
   "source": [
    "# Homework-1_Problem-3a (Normalization)\n"
   ]
  },
  {
   "cell_type": "markdown",
   "id": "14f91e63",
   "metadata": {},
   "source": [
    "### Objective: Repeat problem 2a(Normalization), this time by adding parameters penalty to your loss function. Note that in this case, you need to modify the gradient decent logic for your training set, but you don’t need to change your loss for the evaluation set.\n",
    "\n",
    "### Plot your results (both training and evaluation losses) for the best input scaling approach (standardization or normalization). Explain your results and compare them against problem 2 a."
   ]
  },
  {
   "cell_type": "code",
   "execution_count": 38,
   "id": "99b24d93-9804-4782-8d0d-d66b42660668",
   "metadata": {},
   "outputs": [],
   "source": [
    "import numpy as np\n",
    "import pandas as pd\n",
    "import matplotlib.pyplot as plt     # Data Visualisation\n",
    "import seaborn as sns\n",
    "import sklearn\n",
    "\n",
    "import warnings\n",
    "warnings.filterwarnings('ignore')"
   ]
  },
  {
   "cell_type": "code",
   "execution_count": 39,
   "id": "1de77920-984d-49c6-8f4b-4abdfe19fd22",
   "metadata": {},
   "outputs": [
    {
     "data": {
      "text/html": [
       "<div>\n",
       "<style scoped>\n",
       "    .dataframe tbody tr th:only-of-type {\n",
       "        vertical-align: middle;\n",
       "    }\n",
       "\n",
       "    .dataframe tbody tr th {\n",
       "        vertical-align: top;\n",
       "    }\n",
       "\n",
       "    .dataframe thead th {\n",
       "        text-align: right;\n",
       "    }\n",
       "</style>\n",
       "<table border=\"1\" class=\"dataframe\">\n",
       "  <thead>\n",
       "    <tr style=\"text-align: right;\">\n",
       "      <th></th>\n",
       "      <th>price</th>\n",
       "      <th>area</th>\n",
       "      <th>bedrooms</th>\n",
       "      <th>bathrooms</th>\n",
       "      <th>stories</th>\n",
       "      <th>mainroad</th>\n",
       "      <th>guestroom</th>\n",
       "      <th>basement</th>\n",
       "      <th>hotwaterheating</th>\n",
       "      <th>airconditioning</th>\n",
       "      <th>parking</th>\n",
       "      <th>prefarea</th>\n",
       "      <th>furnishingstatus</th>\n",
       "    </tr>\n",
       "  </thead>\n",
       "  <tbody>\n",
       "    <tr>\n",
       "      <th>0</th>\n",
       "      <td>13300000</td>\n",
       "      <td>7420</td>\n",
       "      <td>4</td>\n",
       "      <td>2</td>\n",
       "      <td>3</td>\n",
       "      <td>yes</td>\n",
       "      <td>no</td>\n",
       "      <td>no</td>\n",
       "      <td>no</td>\n",
       "      <td>yes</td>\n",
       "      <td>2</td>\n",
       "      <td>yes</td>\n",
       "      <td>furnished</td>\n",
       "    </tr>\n",
       "    <tr>\n",
       "      <th>1</th>\n",
       "      <td>12250000</td>\n",
       "      <td>8960</td>\n",
       "      <td>4</td>\n",
       "      <td>4</td>\n",
       "      <td>4</td>\n",
       "      <td>yes</td>\n",
       "      <td>no</td>\n",
       "      <td>no</td>\n",
       "      <td>no</td>\n",
       "      <td>yes</td>\n",
       "      <td>3</td>\n",
       "      <td>no</td>\n",
       "      <td>furnished</td>\n",
       "    </tr>\n",
       "    <tr>\n",
       "      <th>2</th>\n",
       "      <td>12250000</td>\n",
       "      <td>9960</td>\n",
       "      <td>3</td>\n",
       "      <td>2</td>\n",
       "      <td>2</td>\n",
       "      <td>yes</td>\n",
       "      <td>no</td>\n",
       "      <td>yes</td>\n",
       "      <td>no</td>\n",
       "      <td>no</td>\n",
       "      <td>2</td>\n",
       "      <td>yes</td>\n",
       "      <td>semi-furnished</td>\n",
       "    </tr>\n",
       "    <tr>\n",
       "      <th>3</th>\n",
       "      <td>12215000</td>\n",
       "      <td>7500</td>\n",
       "      <td>4</td>\n",
       "      <td>2</td>\n",
       "      <td>2</td>\n",
       "      <td>yes</td>\n",
       "      <td>no</td>\n",
       "      <td>yes</td>\n",
       "      <td>no</td>\n",
       "      <td>yes</td>\n",
       "      <td>3</td>\n",
       "      <td>yes</td>\n",
       "      <td>furnished</td>\n",
       "    </tr>\n",
       "    <tr>\n",
       "      <th>4</th>\n",
       "      <td>11410000</td>\n",
       "      <td>7420</td>\n",
       "      <td>4</td>\n",
       "      <td>1</td>\n",
       "      <td>2</td>\n",
       "      <td>yes</td>\n",
       "      <td>yes</td>\n",
       "      <td>yes</td>\n",
       "      <td>no</td>\n",
       "      <td>yes</td>\n",
       "      <td>2</td>\n",
       "      <td>no</td>\n",
       "      <td>furnished</td>\n",
       "    </tr>\n",
       "  </tbody>\n",
       "</table>\n",
       "</div>"
      ],
      "text/plain": [
       "      price  area  bedrooms  bathrooms  stories mainroad guestroom basement  \\\n",
       "0  13300000  7420         4          2        3      yes        no       no   \n",
       "1  12250000  8960         4          4        4      yes        no       no   \n",
       "2  12250000  9960         3          2        2      yes        no      yes   \n",
       "3  12215000  7500         4          2        2      yes        no      yes   \n",
       "4  11410000  7420         4          1        2      yes       yes      yes   \n",
       "\n",
       "  hotwaterheating airconditioning  parking prefarea furnishingstatus  \n",
       "0              no             yes        2      yes        furnished  \n",
       "1              no             yes        3       no        furnished  \n",
       "2              no              no        2      yes   semi-furnished  \n",
       "3              no             yes        3      yes        furnished  \n",
       "4              no             yes        2       no        furnished  "
      ]
     },
     "execution_count": 39,
     "metadata": {},
     "output_type": "execute_result"
    }
   ],
   "source": [
    "#import data from .csv file of guithub repository\n",
    "housing = pd.DataFrame(pd.read_csv(\"https://raw.githubusercontent.com/Tareq-BD/ECGR-5105/main/Housing.csv\"))\n",
    "housing.head()"
   ]
  },
  {
   "cell_type": "code",
   "execution_count": 40,
   "id": "230b2b5f-2aaa-43be-88b2-f0575238bf37",
   "metadata": {},
   "outputs": [
    {
     "data": {
      "text/plain": [
       "545"
      ]
     },
     "execution_count": 40,
     "metadata": {},
     "output_type": "execute_result"
    }
   ],
   "source": [
    "m = len(housing)\n",
    "m"
   ]
  },
  {
   "cell_type": "code",
   "execution_count": 41,
   "id": "570a681b-d457-4f46-846a-30b777e4b075",
   "metadata": {},
   "outputs": [
    {
     "data": {
      "text/plain": [
       "(545, 13)"
      ]
     },
     "execution_count": 41,
     "metadata": {},
     "output_type": "execute_result"
    }
   ],
   "source": [
    "housing.shape"
   ]
  },
  {
   "cell_type": "code",
   "execution_count": 42,
   "id": "7cbf386e-fe67-4568-870c-2575f4ddb822",
   "metadata": {},
   "outputs": [
    {
     "data": {
      "text/html": [
       "<div>\n",
       "<style scoped>\n",
       "    .dataframe tbody tr th:only-of-type {\n",
       "        vertical-align: middle;\n",
       "    }\n",
       "\n",
       "    .dataframe tbody tr th {\n",
       "        vertical-align: top;\n",
       "    }\n",
       "\n",
       "    .dataframe thead th {\n",
       "        text-align: right;\n",
       "    }\n",
       "</style>\n",
       "<table border=\"1\" class=\"dataframe\">\n",
       "  <thead>\n",
       "    <tr style=\"text-align: right;\">\n",
       "      <th></th>\n",
       "      <th>price</th>\n",
       "      <th>area</th>\n",
       "      <th>bedrooms</th>\n",
       "      <th>bathrooms</th>\n",
       "      <th>stories</th>\n",
       "      <th>mainroad</th>\n",
       "      <th>guestroom</th>\n",
       "      <th>basement</th>\n",
       "      <th>hotwaterheating</th>\n",
       "      <th>airconditioning</th>\n",
       "      <th>parking</th>\n",
       "      <th>prefarea</th>\n",
       "      <th>furnishingstatus</th>\n",
       "    </tr>\n",
       "  </thead>\n",
       "  <tbody>\n",
       "    <tr>\n",
       "      <th>0</th>\n",
       "      <td>13300000</td>\n",
       "      <td>7420</td>\n",
       "      <td>4</td>\n",
       "      <td>2</td>\n",
       "      <td>3</td>\n",
       "      <td>1</td>\n",
       "      <td>0</td>\n",
       "      <td>0</td>\n",
       "      <td>0</td>\n",
       "      <td>1</td>\n",
       "      <td>2</td>\n",
       "      <td>1</td>\n",
       "      <td>furnished</td>\n",
       "    </tr>\n",
       "    <tr>\n",
       "      <th>1</th>\n",
       "      <td>12250000</td>\n",
       "      <td>8960</td>\n",
       "      <td>4</td>\n",
       "      <td>4</td>\n",
       "      <td>4</td>\n",
       "      <td>1</td>\n",
       "      <td>0</td>\n",
       "      <td>0</td>\n",
       "      <td>0</td>\n",
       "      <td>1</td>\n",
       "      <td>3</td>\n",
       "      <td>0</td>\n",
       "      <td>furnished</td>\n",
       "    </tr>\n",
       "    <tr>\n",
       "      <th>2</th>\n",
       "      <td>12250000</td>\n",
       "      <td>9960</td>\n",
       "      <td>3</td>\n",
       "      <td>2</td>\n",
       "      <td>2</td>\n",
       "      <td>1</td>\n",
       "      <td>0</td>\n",
       "      <td>1</td>\n",
       "      <td>0</td>\n",
       "      <td>0</td>\n",
       "      <td>2</td>\n",
       "      <td>1</td>\n",
       "      <td>semi-furnished</td>\n",
       "    </tr>\n",
       "    <tr>\n",
       "      <th>3</th>\n",
       "      <td>12215000</td>\n",
       "      <td>7500</td>\n",
       "      <td>4</td>\n",
       "      <td>2</td>\n",
       "      <td>2</td>\n",
       "      <td>1</td>\n",
       "      <td>0</td>\n",
       "      <td>1</td>\n",
       "      <td>0</td>\n",
       "      <td>1</td>\n",
       "      <td>3</td>\n",
       "      <td>1</td>\n",
       "      <td>furnished</td>\n",
       "    </tr>\n",
       "    <tr>\n",
       "      <th>4</th>\n",
       "      <td>11410000</td>\n",
       "      <td>7420</td>\n",
       "      <td>4</td>\n",
       "      <td>1</td>\n",
       "      <td>2</td>\n",
       "      <td>1</td>\n",
       "      <td>1</td>\n",
       "      <td>1</td>\n",
       "      <td>0</td>\n",
       "      <td>1</td>\n",
       "      <td>2</td>\n",
       "      <td>0</td>\n",
       "      <td>furnished</td>\n",
       "    </tr>\n",
       "  </tbody>\n",
       "</table>\n",
       "</div>"
      ],
      "text/plain": [
       "      price  area  bedrooms  bathrooms  stories  mainroad  guestroom  \\\n",
       "0  13300000  7420         4          2        3         1          0   \n",
       "1  12250000  8960         4          4        4         1          0   \n",
       "2  12250000  9960         3          2        2         1          0   \n",
       "3  12215000  7500         4          2        2         1          0   \n",
       "4  11410000  7420         4          1        2         1          1   \n",
       "\n",
       "   basement  hotwaterheating  airconditioning  parking  prefarea  \\\n",
       "0         0                0                1        2         1   \n",
       "1         0                0                1        3         0   \n",
       "2         1                0                0        2         1   \n",
       "3         1                0                1        3         1   \n",
       "4         1                0                1        2         0   \n",
       "\n",
       "  furnishingstatus  \n",
       "0        furnished  \n",
       "1        furnished  \n",
       "2   semi-furnished  \n",
       "3        furnished  \n",
       "4        furnished  "
      ]
     },
     "execution_count": 42,
     "metadata": {},
     "output_type": "execute_result"
    }
   ],
   "source": [
    "# List of variables to map (string to numerical values)\n",
    "varlist = ['mainroad', 'guestroom', 'basement', 'hotwaterheating', 'airconditioning', 'prefarea']\n",
    "\n",
    "# Defining the map function\n",
    "def binary_map(x):\n",
    "    return x.map({'yes': 1, \"no\": 0})\n",
    "\n",
    "# Applying the function to the housing list\n",
    "housing[varlist] = housing[varlist].apply(binary_map)\n",
    "           \n",
    "# Check the housing dataframe now\n",
    "housing.head()"
   ]
  },
  {
   "cell_type": "code",
   "execution_count": 43,
   "id": "1abf074b-8948-4fcd-a31e-8d1259748f7e",
   "metadata": {},
   "outputs": [
    {
     "data": {
      "text/plain": [
       "(436, 13)"
      ]
     },
     "execution_count": 43,
     "metadata": {},
     "output_type": "execute_result"
    }
   ],
   "source": [
    "#Splitting the Data into Training and Testing Sets\n",
    "from sklearn.model_selection import train_test_split\n",
    "\n",
    "# We specify random seed so that the train and test data set always have the same rows, respectively\n",
    "np.random.seed(0)\n",
    "# split 80% as training set and 20% as testing set\n",
    "df_train, df_test = train_test_split(housing, train_size = 0.8, test_size = 0.2, random_state = 100)\n",
    "\n",
    "df_train.shape"
   ]
  },
  {
   "cell_type": "code",
   "execution_count": 44,
   "id": "90a7bfe2-37fb-4b03-bdaa-f5c2218a82b5",
   "metadata": {},
   "outputs": [
    {
     "data": {
      "text/plain": [
       "(109, 13)"
      ]
     },
     "execution_count": 44,
     "metadata": {},
     "output_type": "execute_result"
    }
   ],
   "source": [
    "df_test.shape"
   ]
  },
  {
   "cell_type": "code",
   "execution_count": 45,
   "id": "a1777175-a2a0-495d-b048-b64c68fc54fb",
   "metadata": {},
   "outputs": [
    {
     "data": {
      "text/html": [
       "<div>\n",
       "<style scoped>\n",
       "    .dataframe tbody tr th:only-of-type {\n",
       "        vertical-align: middle;\n",
       "    }\n",
       "\n",
       "    .dataframe tbody tr th {\n",
       "        vertical-align: top;\n",
       "    }\n",
       "\n",
       "    .dataframe thead th {\n",
       "        text-align: right;\n",
       "    }\n",
       "</style>\n",
       "<table border=\"1\" class=\"dataframe\">\n",
       "  <thead>\n",
       "    <tr style=\"text-align: right;\">\n",
       "      <th></th>\n",
       "      <th>area</th>\n",
       "      <th>bedrooms</th>\n",
       "      <th>bathrooms</th>\n",
       "      <th>stories</th>\n",
       "      <th>parking</th>\n",
       "      <th>price</th>\n",
       "    </tr>\n",
       "  </thead>\n",
       "  <tbody>\n",
       "    <tr>\n",
       "      <th>22</th>\n",
       "      <td>8050</td>\n",
       "      <td>3</td>\n",
       "      <td>1</td>\n",
       "      <td>1</td>\n",
       "      <td>1</td>\n",
       "      <td>8645000</td>\n",
       "    </tr>\n",
       "    <tr>\n",
       "      <th>41</th>\n",
       "      <td>6360</td>\n",
       "      <td>3</td>\n",
       "      <td>2</td>\n",
       "      <td>4</td>\n",
       "      <td>0</td>\n",
       "      <td>7840000</td>\n",
       "    </tr>\n",
       "    <tr>\n",
       "      <th>91</th>\n",
       "      <td>6750</td>\n",
       "      <td>2</td>\n",
       "      <td>1</td>\n",
       "      <td>1</td>\n",
       "      <td>2</td>\n",
       "      <td>6419000</td>\n",
       "    </tr>\n",
       "    <tr>\n",
       "      <th>118</th>\n",
       "      <td>6420</td>\n",
       "      <td>3</td>\n",
       "      <td>1</td>\n",
       "      <td>1</td>\n",
       "      <td>0</td>\n",
       "      <td>5950000</td>\n",
       "    </tr>\n",
       "    <tr>\n",
       "      <th>472</th>\n",
       "      <td>3630</td>\n",
       "      <td>4</td>\n",
       "      <td>1</td>\n",
       "      <td>2</td>\n",
       "      <td>3</td>\n",
       "      <td>3010000</td>\n",
       "    </tr>\n",
       "  </tbody>\n",
       "</table>\n",
       "</div>"
      ],
      "text/plain": [
       "     area  bedrooms  bathrooms  stories  parking    price\n",
       "22   8050         3          1        1        1  8645000\n",
       "41   6360         3          2        4        0  7840000\n",
       "91   6750         2          1        1        2  6419000\n",
       "118  6420         3          1        1        0  5950000\n",
       "472  3630         4          1        2        3  3010000"
      ]
     },
     "execution_count": 45,
     "metadata": {},
     "output_type": "execute_result"
    }
   ],
   "source": [
    "num_vars = ['area', 'bedrooms', 'bathrooms', 'stories', 'parking','price']\n",
    "df_Newtrain = df_train[num_vars]\n",
    "df_Newtest = df_test[num_vars]\n",
    "df_Newtrain.head()"
   ]
  },
  {
   "cell_type": "code",
   "execution_count": 46,
   "id": "42569f40-a14e-4e0f-aa52-121c5a05cbc1",
   "metadata": {},
   "outputs": [
    {
     "data": {
      "text/plain": [
       "(436, 6)"
      ]
     },
     "execution_count": 46,
     "metadata": {},
     "output_type": "execute_result"
    }
   ],
   "source": [
    "df_Newtrain.shape"
   ]
  },
  {
   "cell_type": "code",
   "execution_count": 47,
   "id": "46122167-d086-4cce-98da-360a36abfc85",
   "metadata": {},
   "outputs": [
    {
     "data": {
      "text/html": [
       "<div>\n",
       "<style scoped>\n",
       "    .dataframe tbody tr th:only-of-type {\n",
       "        vertical-align: middle;\n",
       "    }\n",
       "\n",
       "    .dataframe tbody tr th {\n",
       "        vertical-align: top;\n",
       "    }\n",
       "\n",
       "    .dataframe thead th {\n",
       "        text-align: right;\n",
       "    }\n",
       "</style>\n",
       "<table border=\"1\" class=\"dataframe\">\n",
       "  <thead>\n",
       "    <tr style=\"text-align: right;\">\n",
       "      <th></th>\n",
       "      <th>area</th>\n",
       "      <th>bedrooms</th>\n",
       "      <th>bathrooms</th>\n",
       "      <th>stories</th>\n",
       "      <th>parking</th>\n",
       "      <th>price</th>\n",
       "    </tr>\n",
       "  </thead>\n",
       "  <tbody>\n",
       "    <tr>\n",
       "      <th>22</th>\n",
       "      <td>0.432609</td>\n",
       "      <td>0.4</td>\n",
       "      <td>0.000000</td>\n",
       "      <td>0.000000</td>\n",
       "      <td>0.333333</td>\n",
       "      <td>0.596970</td>\n",
       "    </tr>\n",
       "    <tr>\n",
       "      <th>41</th>\n",
       "      <td>0.314954</td>\n",
       "      <td>0.4</td>\n",
       "      <td>0.333333</td>\n",
       "      <td>1.000000</td>\n",
       "      <td>0.000000</td>\n",
       "      <td>0.527273</td>\n",
       "    </tr>\n",
       "    <tr>\n",
       "      <th>91</th>\n",
       "      <td>0.342105</td>\n",
       "      <td>0.2</td>\n",
       "      <td>0.000000</td>\n",
       "      <td>0.000000</td>\n",
       "      <td>0.666667</td>\n",
       "      <td>0.404242</td>\n",
       "    </tr>\n",
       "    <tr>\n",
       "      <th>118</th>\n",
       "      <td>0.319131</td>\n",
       "      <td>0.4</td>\n",
       "      <td>0.000000</td>\n",
       "      <td>0.000000</td>\n",
       "      <td>0.000000</td>\n",
       "      <td>0.363636</td>\n",
       "    </tr>\n",
       "    <tr>\n",
       "      <th>472</th>\n",
       "      <td>0.124896</td>\n",
       "      <td>0.6</td>\n",
       "      <td>0.000000</td>\n",
       "      <td>0.333333</td>\n",
       "      <td>1.000000</td>\n",
       "      <td>0.109091</td>\n",
       "    </tr>\n",
       "    <tr>\n",
       "      <th>344</th>\n",
       "      <td>0.140212</td>\n",
       "      <td>0.2</td>\n",
       "      <td>0.000000</td>\n",
       "      <td>0.000000</td>\n",
       "      <td>0.000000</td>\n",
       "      <td>0.181818</td>\n",
       "    </tr>\n",
       "    <tr>\n",
       "      <th>1</th>\n",
       "      <td>0.495962</td>\n",
       "      <td>0.6</td>\n",
       "      <td>1.000000</td>\n",
       "      <td>1.000000</td>\n",
       "      <td>1.000000</td>\n",
       "      <td>0.909091</td>\n",
       "    </tr>\n",
       "    <tr>\n",
       "      <th>257</th>\n",
       "      <td>0.446533</td>\n",
       "      <td>0.4</td>\n",
       "      <td>0.000000</td>\n",
       "      <td>0.000000</td>\n",
       "      <td>0.000000</td>\n",
       "      <td>0.236364</td>\n",
       "    </tr>\n",
       "    <tr>\n",
       "      <th>184</th>\n",
       "      <td>0.081036</td>\n",
       "      <td>0.4</td>\n",
       "      <td>0.333333</td>\n",
       "      <td>0.333333</td>\n",
       "      <td>0.000000</td>\n",
       "      <td>0.290909</td>\n",
       "    </tr>\n",
       "    <tr>\n",
       "      <th>275</th>\n",
       "      <td>0.152882</td>\n",
       "      <td>0.2</td>\n",
       "      <td>0.000000</td>\n",
       "      <td>0.000000</td>\n",
       "      <td>0.000000</td>\n",
       "      <td>0.222424</td>\n",
       "    </tr>\n",
       "  </tbody>\n",
       "</table>\n",
       "</div>"
      ],
      "text/plain": [
       "         area  bedrooms  bathrooms   stories   parking     price\n",
       "22   0.432609       0.4   0.000000  0.000000  0.333333  0.596970\n",
       "41   0.314954       0.4   0.333333  1.000000  0.000000  0.527273\n",
       "91   0.342105       0.2   0.000000  0.000000  0.666667  0.404242\n",
       "118  0.319131       0.4   0.000000  0.000000  0.000000  0.363636\n",
       "472  0.124896       0.6   0.000000  0.333333  1.000000  0.109091\n",
       "344  0.140212       0.2   0.000000  0.000000  0.000000  0.181818\n",
       "1    0.495962       0.6   1.000000  1.000000  1.000000  0.909091\n",
       "257  0.446533       0.4   0.000000  0.000000  0.000000  0.236364\n",
       "184  0.081036       0.4   0.333333  0.333333  0.000000  0.290909\n",
       "275  0.152882       0.2   0.000000  0.000000  0.000000  0.222424"
      ]
     },
     "execution_count": 47,
     "metadata": {},
     "output_type": "execute_result"
    }
   ],
   "source": [
    "from sklearn.preprocessing import MinMaxScaler, StandardScaler\n",
    "\n",
    "#scaler = StandardScaler()\n",
    "scaler = MinMaxScaler()   # input Normalization\n",
    "df_Newtrain[num_vars] = scaler.fit_transform(df_Newtrain[num_vars])\n",
    "df_Newtrain.head(10)"
   ]
  },
  {
   "cell_type": "code",
   "execution_count": 48,
   "id": "f2ce218f-b1d0-45f3-8752-2b28cea73b6b",
   "metadata": {},
   "outputs": [
    {
     "data": {
      "text/html": [
       "<div>\n",
       "<style scoped>\n",
       "    .dataframe tbody tr th:only-of-type {\n",
       "        vertical-align: middle;\n",
       "    }\n",
       "\n",
       "    .dataframe tbody tr th {\n",
       "        vertical-align: top;\n",
       "    }\n",
       "\n",
       "    .dataframe thead th {\n",
       "        text-align: right;\n",
       "    }\n",
       "</style>\n",
       "<table border=\"1\" class=\"dataframe\">\n",
       "  <thead>\n",
       "    <tr style=\"text-align: right;\">\n",
       "      <th></th>\n",
       "      <th>area</th>\n",
       "      <th>bedrooms</th>\n",
       "      <th>bathrooms</th>\n",
       "      <th>stories</th>\n",
       "      <th>parking</th>\n",
       "      <th>price</th>\n",
       "    </tr>\n",
       "  </thead>\n",
       "  <tbody>\n",
       "    <tr>\n",
       "      <th>265</th>\n",
       "      <td>0.088172</td>\n",
       "      <td>0.333333</td>\n",
       "      <td>0.0</td>\n",
       "      <td>0.333333</td>\n",
       "      <td>0.000000</td>\n",
       "      <td>0.248485</td>\n",
       "    </tr>\n",
       "    <tr>\n",
       "      <th>54</th>\n",
       "      <td>0.311828</td>\n",
       "      <td>0.333333</td>\n",
       "      <td>0.5</td>\n",
       "      <td>0.333333</td>\n",
       "      <td>0.333333</td>\n",
       "      <td>0.531987</td>\n",
       "    </tr>\n",
       "    <tr>\n",
       "      <th>171</th>\n",
       "      <td>0.617849</td>\n",
       "      <td>0.333333</td>\n",
       "      <td>0.0</td>\n",
       "      <td>0.000000</td>\n",
       "      <td>0.333333</td>\n",
       "      <td>0.329966</td>\n",
       "    </tr>\n",
       "    <tr>\n",
       "      <th>244</th>\n",
       "      <td>0.263082</td>\n",
       "      <td>0.333333</td>\n",
       "      <td>0.0</td>\n",
       "      <td>0.333333</td>\n",
       "      <td>0.000000</td>\n",
       "      <td>0.262626</td>\n",
       "    </tr>\n",
       "    <tr>\n",
       "      <th>268</th>\n",
       "      <td>0.236559</td>\n",
       "      <td>0.666667</td>\n",
       "      <td>0.0</td>\n",
       "      <td>0.333333</td>\n",
       "      <td>0.000000</td>\n",
       "      <td>0.246465</td>\n",
       "    </tr>\n",
       "    <tr>\n",
       "      <th>231</th>\n",
       "      <td>0.191398</td>\n",
       "      <td>0.333333</td>\n",
       "      <td>0.0</td>\n",
       "      <td>0.000000</td>\n",
       "      <td>0.000000</td>\n",
       "      <td>0.276094</td>\n",
       "    </tr>\n",
       "    <tr>\n",
       "      <th>25</th>\n",
       "      <td>0.350538</td>\n",
       "      <td>0.666667</td>\n",
       "      <td>0.5</td>\n",
       "      <td>0.333333</td>\n",
       "      <td>0.666667</td>\n",
       "      <td>0.646465</td>\n",
       "    </tr>\n",
       "    <tr>\n",
       "      <th>169</th>\n",
       "      <td>0.350538</td>\n",
       "      <td>0.666667</td>\n",
       "      <td>0.5</td>\n",
       "      <td>0.333333</td>\n",
       "      <td>0.000000</td>\n",
       "      <td>0.329966</td>\n",
       "    </tr>\n",
       "    <tr>\n",
       "      <th>494</th>\n",
       "      <td>0.369176</td>\n",
       "      <td>0.000000</td>\n",
       "      <td>0.0</td>\n",
       "      <td>0.000000</td>\n",
       "      <td>0.000000</td>\n",
       "      <td>0.087542</td>\n",
       "    </tr>\n",
       "    <tr>\n",
       "      <th>120</th>\n",
       "      <td>0.350538</td>\n",
       "      <td>0.333333</td>\n",
       "      <td>0.0</td>\n",
       "      <td>0.000000</td>\n",
       "      <td>0.666667</td>\n",
       "      <td>0.397306</td>\n",
       "    </tr>\n",
       "  </tbody>\n",
       "</table>\n",
       "</div>"
      ],
      "text/plain": [
       "         area  bedrooms  bathrooms   stories   parking     price\n",
       "265  0.088172  0.333333        0.0  0.333333  0.000000  0.248485\n",
       "54   0.311828  0.333333        0.5  0.333333  0.333333  0.531987\n",
       "171  0.617849  0.333333        0.0  0.000000  0.333333  0.329966\n",
       "244  0.263082  0.333333        0.0  0.333333  0.000000  0.262626\n",
       "268  0.236559  0.666667        0.0  0.333333  0.000000  0.246465\n",
       "231  0.191398  0.333333        0.0  0.000000  0.000000  0.276094\n",
       "25   0.350538  0.666667        0.5  0.333333  0.666667  0.646465\n",
       "169  0.350538  0.666667        0.5  0.333333  0.000000  0.329966\n",
       "494  0.369176  0.000000        0.0  0.000000  0.000000  0.087542\n",
       "120  0.350538  0.333333        0.0  0.000000  0.666667  0.397306"
      ]
     },
     "execution_count": 48,
     "metadata": {},
     "output_type": "execute_result"
    }
   ],
   "source": [
    "df_Newtest[num_vars] = scaler.fit_transform(df_Newtest[num_vars])\n",
    "df_Newtest.head(10)"
   ]
  },
  {
   "cell_type": "code",
   "execution_count": 49,
   "id": "cb646182-2a64-4734-8c6a-48fb33224fb1",
   "metadata": {},
   "outputs": [],
   "source": [
    "y_Newtrain = df_Newtrain.pop('price')\n",
    "X_Newtrain = df_Newtrain"
   ]
  },
  {
   "cell_type": "code",
   "execution_count": 50,
   "id": "bf7af074-c955-4a4d-ae7d-c87701cbc8a5",
   "metadata": {},
   "outputs": [
    {
     "data": {
      "text/html": [
       "<div>\n",
       "<style scoped>\n",
       "    .dataframe tbody tr th:only-of-type {\n",
       "        vertical-align: middle;\n",
       "    }\n",
       "\n",
       "    .dataframe tbody tr th {\n",
       "        vertical-align: top;\n",
       "    }\n",
       "\n",
       "    .dataframe thead th {\n",
       "        text-align: right;\n",
       "    }\n",
       "</style>\n",
       "<table border=\"1\" class=\"dataframe\">\n",
       "  <thead>\n",
       "    <tr style=\"text-align: right;\">\n",
       "      <th></th>\n",
       "      <th>area</th>\n",
       "      <th>bedrooms</th>\n",
       "      <th>bathrooms</th>\n",
       "      <th>stories</th>\n",
       "      <th>parking</th>\n",
       "    </tr>\n",
       "  </thead>\n",
       "  <tbody>\n",
       "    <tr>\n",
       "      <th>22</th>\n",
       "      <td>0.432609</td>\n",
       "      <td>0.4</td>\n",
       "      <td>0.000000</td>\n",
       "      <td>0.000000</td>\n",
       "      <td>0.333333</td>\n",
       "    </tr>\n",
       "    <tr>\n",
       "      <th>41</th>\n",
       "      <td>0.314954</td>\n",
       "      <td>0.4</td>\n",
       "      <td>0.333333</td>\n",
       "      <td>1.000000</td>\n",
       "      <td>0.000000</td>\n",
       "    </tr>\n",
       "    <tr>\n",
       "      <th>91</th>\n",
       "      <td>0.342105</td>\n",
       "      <td>0.2</td>\n",
       "      <td>0.000000</td>\n",
       "      <td>0.000000</td>\n",
       "      <td>0.666667</td>\n",
       "    </tr>\n",
       "    <tr>\n",
       "      <th>118</th>\n",
       "      <td>0.319131</td>\n",
       "      <td>0.4</td>\n",
       "      <td>0.000000</td>\n",
       "      <td>0.000000</td>\n",
       "      <td>0.000000</td>\n",
       "    </tr>\n",
       "    <tr>\n",
       "      <th>472</th>\n",
       "      <td>0.124896</td>\n",
       "      <td>0.6</td>\n",
       "      <td>0.000000</td>\n",
       "      <td>0.333333</td>\n",
       "      <td>1.000000</td>\n",
       "    </tr>\n",
       "  </tbody>\n",
       "</table>\n",
       "</div>"
      ],
      "text/plain": [
       "         area  bedrooms  bathrooms   stories   parking\n",
       "22   0.432609       0.4   0.000000  0.000000  0.333333\n",
       "41   0.314954       0.4   0.333333  1.000000  0.000000\n",
       "91   0.342105       0.2   0.000000  0.000000  0.666667\n",
       "118  0.319131       0.4   0.000000  0.000000  0.000000\n",
       "472  0.124896       0.6   0.000000  0.333333  1.000000"
      ]
     },
     "execution_count": 50,
     "metadata": {},
     "output_type": "execute_result"
    }
   ],
   "source": [
    "X_Newtrain.head()"
   ]
  },
  {
   "cell_type": "code",
   "execution_count": 51,
   "id": "90a476ae-376c-40a7-8959-aeb6a7a0221a",
   "metadata": {},
   "outputs": [
    {
     "data": {
      "text/plain": [
       "22     0.596970\n",
       "41     0.527273\n",
       "91     0.404242\n",
       "118    0.363636\n",
       "472    0.109091\n",
       "Name: price, dtype: float64"
      ]
     },
     "execution_count": 51,
     "metadata": {},
     "output_type": "execute_result"
    }
   ],
   "source": [
    "y_Newtrain.head()"
   ]
  },
  {
   "cell_type": "code",
   "execution_count": 52,
   "id": "65d1ffb6-dc11-496a-b11f-5d128f2bcc3a",
   "metadata": {},
   "outputs": [
    {
     "name": "stdout",
     "output_type": "stream",
     "text": [
      "y =  [0.5969697  0.52727273 0.40424242 0.36363636 0.10909091 0.18181818\n",
      " 0.90909091 0.23636364 0.29090909 0.22242424]\n"
     ]
    }
   ],
   "source": [
    "y = y_Newtrain.values\n",
    "print('y = ', y[: 10])"
   ]
  },
  {
   "cell_type": "code",
   "execution_count": 53,
   "id": "9cb8f8ae-83e3-4349-8b43-d6bbce8f6ce0",
   "metadata": {},
   "outputs": [
    {
     "name": "stdout",
     "output_type": "stream",
     "text": [
      "X1 =  [0.4326093  0.31495405 0.34210526 0.31913116 0.12489557 0.14021164\n",
      " 0.49596213 0.446533   0.08103592 0.15288221]\n",
      "X2 =  [0.4 0.4 0.2 0.4 0.6 0.2 0.6 0.4 0.4 0.2]\n",
      "X3 =  [0.         0.33333333 0.         0.         0.         0.\n",
      " 1.         0.         0.33333333 0.        ]\n",
      "X4 =  [0.         1.         0.         0.         0.33333333 0.\n",
      " 1.         0.         0.33333333 0.        ]\n",
      "X5 =  [0.33333333 0.         0.66666667 0.         1.         0.\n",
      " 1.         0.         0.         0.        ]\n"
     ]
    }
   ],
   "source": [
    "# preparing the training set\n",
    "\n",
    "X1 = df_Newtrain.values[:, 0]     # getting input value from first column and putting in Variable-1 (X1)   \n",
    "X2 = df_Newtrain.values[:, 1]     # getting input value from first column and putting in Variable-2 (X2)          \n",
    "X3 = df_Newtrain.values[:, 2]     # getting input value from first column and putting in Variable-3 (X3)           \n",
    "X4 = df_Newtrain.values[:, 3]     # getting input value from first column and putting in Variable-4 (X4)          \n",
    "X5 = df_Newtrain.values[:, 4]     # getting input value from first column and putting in Variable-5 (X5)\n",
    "\n",
    "# print first 10 values from each variable\n",
    "\n",
    "print('X1 = ', X1[: 10]) \n",
    "print('X2 = ', X2[: 10])\n",
    "print('X3 = ', X3[: 10])\n",
    "print('X4 = ', X4[: 10])\n",
    "print('X5 = ', X5[: 10])"
   ]
  },
  {
   "cell_type": "code",
   "execution_count": 54,
   "id": "0b0b9861-e83b-4265-bf6c-77e1bee1b194",
   "metadata": {},
   "outputs": [
    {
     "data": {
      "text/plain": [
       "array([[1.],\n",
       "       [1.],\n",
       "       [1.],\n",
       "       [1.],\n",
       "       [1.]])"
      ]
     },
     "execution_count": 54,
     "metadata": {},
     "output_type": "execute_result"
    }
   ],
   "source": [
    "m = len(X_Newtrain)         # size of training set\n",
    "X_0 = np.ones((m, 1))       # Creating a single column matrix (X_0) of training set size, contains all ones \n",
    "X_0 [: 5]"
   ]
  },
  {
   "cell_type": "code",
   "execution_count": 55,
   "id": "9a9c90fd-407e-45ba-a125-922950175ceb",
   "metadata": {},
   "outputs": [
    {
     "name": "stdout",
     "output_type": "stream",
     "text": [
      "X_1 =  [[0.4326093 ]\n",
      " [0.31495405]\n",
      " [0.34210526]\n",
      " [0.31913116]\n",
      " [0.12489557]]\n",
      "X_2 =  [[0.4]\n",
      " [0.4]\n",
      " [0.2]\n",
      " [0.4]\n",
      " [0.6]]\n",
      "X_3 =  [[0.        ]\n",
      " [0.33333333]\n",
      " [0.        ]\n",
      " [0.        ]\n",
      " [0.        ]]\n",
      "X_4 =  [[0.        ]\n",
      " [1.        ]\n",
      " [0.        ]\n",
      " [0.        ]\n",
      " [0.33333333]]\n",
      "X_5 =  [[0.33333333]\n",
      " [0.        ]\n",
      " [0.66666667]\n",
      " [0.        ]\n",
      " [1.        ]]\n"
     ]
    }
   ],
   "source": [
    "# Converting 1D arrays of X1, X2, X3, X4 and X5 to 2D arrays\n",
    "X_1 = X1.reshape(m, 1)\n",
    "X_2 = X2.reshape(m, 1)\n",
    "X_3 = X3.reshape(m, 1)\n",
    "X_4 = X4.reshape(m, 1)\n",
    "X_5 = X5.reshape(m, 1)\n",
    "\n",
    "# print first 5 values from each 2D array\n",
    "print('X_1 = ', X_1[: 5])\n",
    "print('X_2 = ', X_2[: 5])\n",
    "print('X_3 = ', X_3[: 5])\n",
    "print('X_4 = ', X_4[: 5])\n",
    "print('X_5 = ', X_5[: 5])"
   ]
  },
  {
   "cell_type": "code",
   "execution_count": 56,
   "id": "04d99a4e-5305-462b-b3df-6e91408bee11",
   "metadata": {},
   "outputs": [
    {
     "data": {
      "text/plain": [
       "array([[1.        , 0.4326093 , 0.4       , 0.        , 0.        ,\n",
       "        0.33333333],\n",
       "       [1.        , 0.31495405, 0.4       , 0.33333333, 1.        ,\n",
       "        0.        ],\n",
       "       [1.        , 0.34210526, 0.2       , 0.        , 0.        ,\n",
       "        0.66666667],\n",
       "       [1.        , 0.31913116, 0.4       , 0.        , 0.        ,\n",
       "        0.        ],\n",
       "       [1.        , 0.12489557, 0.6       , 0.        , 0.33333333,\n",
       "        1.        ]])"
      ]
     },
     "execution_count": 56,
     "metadata": {},
     "output_type": "execute_result"
    }
   ],
   "source": [
    "# Stacking X_0, X_1, X_2, X_3, X-4 and X_5 horizotally\n",
    "# This is the final X Matrix for training\n",
    "\n",
    "X = np.hstack((X_0, X_1, X_2, X_3, X_4, X_5))\n",
    "X [: 5]"
   ]
  },
  {
   "cell_type": "code",
   "execution_count": 57,
   "id": "cf4ebf7f-a239-4a8b-85cf-a82f299385ca",
   "metadata": {},
   "outputs": [
    {
     "data": {
      "text/plain": [
       "array([0., 0., 0., 0., 0., 0.])"
      ]
     },
     "execution_count": 57,
     "metadata": {},
     "output_type": "execute_result"
    }
   ],
   "source": [
    "theta = np.zeros(6)\n",
    "theta"
   ]
  },
  {
   "cell_type": "code",
   "execution_count": 58,
   "id": "09ee7a84-da91-4dff-9103-873690e8ddcb",
   "metadata": {},
   "outputs": [],
   "source": [
    "y_Newtest = df_Newtest.pop('price')\n",
    "X_Newtest = df_Newtest"
   ]
  },
  {
   "cell_type": "code",
   "execution_count": 59,
   "id": "ebf8bc12-d510-4f93-abfe-b111713449f8",
   "metadata": {},
   "outputs": [
    {
     "data": {
      "text/html": [
       "<div>\n",
       "<style scoped>\n",
       "    .dataframe tbody tr th:only-of-type {\n",
       "        vertical-align: middle;\n",
       "    }\n",
       "\n",
       "    .dataframe tbody tr th {\n",
       "        vertical-align: top;\n",
       "    }\n",
       "\n",
       "    .dataframe thead th {\n",
       "        text-align: right;\n",
       "    }\n",
       "</style>\n",
       "<table border=\"1\" class=\"dataframe\">\n",
       "  <thead>\n",
       "    <tr style=\"text-align: right;\">\n",
       "      <th></th>\n",
       "      <th>area</th>\n",
       "      <th>bedrooms</th>\n",
       "      <th>bathrooms</th>\n",
       "      <th>stories</th>\n",
       "      <th>parking</th>\n",
       "    </tr>\n",
       "  </thead>\n",
       "  <tbody>\n",
       "    <tr>\n",
       "      <th>265</th>\n",
       "      <td>0.088172</td>\n",
       "      <td>0.333333</td>\n",
       "      <td>0.0</td>\n",
       "      <td>0.333333</td>\n",
       "      <td>0.000000</td>\n",
       "    </tr>\n",
       "    <tr>\n",
       "      <th>54</th>\n",
       "      <td>0.311828</td>\n",
       "      <td>0.333333</td>\n",
       "      <td>0.5</td>\n",
       "      <td>0.333333</td>\n",
       "      <td>0.333333</td>\n",
       "    </tr>\n",
       "    <tr>\n",
       "      <th>171</th>\n",
       "      <td>0.617849</td>\n",
       "      <td>0.333333</td>\n",
       "      <td>0.0</td>\n",
       "      <td>0.000000</td>\n",
       "      <td>0.333333</td>\n",
       "    </tr>\n",
       "    <tr>\n",
       "      <th>244</th>\n",
       "      <td>0.263082</td>\n",
       "      <td>0.333333</td>\n",
       "      <td>0.0</td>\n",
       "      <td>0.333333</td>\n",
       "      <td>0.000000</td>\n",
       "    </tr>\n",
       "    <tr>\n",
       "      <th>268</th>\n",
       "      <td>0.236559</td>\n",
       "      <td>0.666667</td>\n",
       "      <td>0.0</td>\n",
       "      <td>0.333333</td>\n",
       "      <td>0.000000</td>\n",
       "    </tr>\n",
       "  </tbody>\n",
       "</table>\n",
       "</div>"
      ],
      "text/plain": [
       "         area  bedrooms  bathrooms   stories   parking\n",
       "265  0.088172  0.333333        0.0  0.333333  0.000000\n",
       "54   0.311828  0.333333        0.5  0.333333  0.333333\n",
       "171  0.617849  0.333333        0.0  0.000000  0.333333\n",
       "244  0.263082  0.333333        0.0  0.333333  0.000000\n",
       "268  0.236559  0.666667        0.0  0.333333  0.000000"
      ]
     },
     "execution_count": 59,
     "metadata": {},
     "output_type": "execute_result"
    }
   ],
   "source": [
    "X_Newtest.head()"
   ]
  },
  {
   "cell_type": "code",
   "execution_count": 60,
   "id": "128838da-15e7-4c9c-8ce0-d6e3f3cbe67a",
   "metadata": {},
   "outputs": [
    {
     "data": {
      "text/plain": [
       "265    0.248485\n",
       "54     0.531987\n",
       "171    0.329966\n",
       "244    0.262626\n",
       "268    0.246465\n",
       "Name: price, dtype: float64"
      ]
     },
     "execution_count": 60,
     "metadata": {},
     "output_type": "execute_result"
    }
   ],
   "source": [
    "y_Newtest.head()"
   ]
  },
  {
   "cell_type": "code",
   "execution_count": 61,
   "id": "d6fb8819-d830-4c97-b19a-a114e38202e4",
   "metadata": {},
   "outputs": [
    {
     "name": "stdout",
     "output_type": "stream",
     "text": [
      "y_test =  [0.24848485 0.53198653 0.32996633 0.26262626 0.24646465 0.27609428\n",
      " 0.64646465 0.32996633 0.08754209 0.3973064 ]\n"
     ]
    }
   ],
   "source": [
    "y_test = y_Newtest.values\n",
    "print('y_test = ', y_test[: 10])"
   ]
  },
  {
   "cell_type": "code",
   "execution_count": 62,
   "id": "7b5a788d-a572-4b9b-b209-5279e7b33b99",
   "metadata": {},
   "outputs": [
    {
     "name": "stdout",
     "output_type": "stream",
     "text": [
      "X1_test =  [0.08817204 0.31182796 0.61784946 0.26308244 0.23655914 0.19139785\n",
      " 0.35053763 0.35053763 0.36917563 0.35053763]\n",
      "X2_test =  [0.33333333 0.33333333 0.33333333 0.33333333 0.66666667 0.33333333\n",
      " 0.66666667 0.66666667 0.         0.33333333]\n",
      "X3_test =  [0.  0.5 0.  0.  0.  0.  0.5 0.5 0.  0. ]\n",
      "X4_test =  [0.33333333 0.33333333 0.         0.33333333 0.33333333 0.\n",
      " 0.33333333 0.33333333 0.         0.        ]\n",
      "X5_test =  [0.         0.33333333 0.33333333 0.         0.         0.\n",
      " 0.66666667 0.         0.         0.66666667]\n"
     ]
    }
   ],
   "source": [
    "# preparing the testing/validarion set\n",
    "X1_test = df_Newtest.values[:, 0]     # getting input value from first column and putting in Variable-1 (X1_test)            \n",
    "X2_test = df_Newtest.values[:, 1]     # getting input value from first column and putting in Variable-2 (X2_test)            \n",
    "X3_test = df_Newtest.values[:, 2]     # getting input value from first column and putting in Variable-3 (X3_test)           \n",
    "X4_test = df_Newtest.values[:, 3]     # getting input value from first column and putting in Variable-4 (X4_test)           \n",
    "X5_test = df_Newtest.values[:, 4]     # getting input value from first column and putting in Variable-5 (X5_test)\n",
    "\n",
    "# print first 10 values from each variable\n",
    "\n",
    "print('X1_test = ', X1_test[: 10]) \n",
    "print('X2_test = ', X2_test[: 10])\n",
    "print('X3_test = ', X3_test[: 10])\n",
    "print('X4_test = ', X4_test[: 10])\n",
    "print('X5_test = ', X5_test[: 10])"
   ]
  },
  {
   "cell_type": "code",
   "execution_count": 63,
   "id": "b62e1f73-a718-4518-a35e-2cfb894fb3f4",
   "metadata": {},
   "outputs": [
    {
     "data": {
      "text/plain": [
       "array([[1.],\n",
       "       [1.],\n",
       "       [1.],\n",
       "       [1.],\n",
       "       [1.]])"
      ]
     },
     "execution_count": 63,
     "metadata": {},
     "output_type": "execute_result"
    }
   ],
   "source": [
    "m_test = len(X_Newtest)             # size of validation set\n",
    "X_0_test = np.ones((m_test, 1))     # Creating a single column matrix (X_0_test) of validation set size, contains all ones\n",
    "X_0_test [: 5]"
   ]
  },
  {
   "cell_type": "code",
   "execution_count": 64,
   "id": "845feda8-725e-4f60-bb01-06a5feb24484",
   "metadata": {},
   "outputs": [
    {
     "name": "stdout",
     "output_type": "stream",
     "text": [
      "X_1_test =  [[0.08817204]\n",
      " [0.31182796]\n",
      " [0.61784946]\n",
      " [0.26308244]\n",
      " [0.23655914]]\n",
      "X_2_test =  [[0.33333333]\n",
      " [0.33333333]\n",
      " [0.33333333]\n",
      " [0.33333333]\n",
      " [0.66666667]]\n",
      "X_3_test =  [[0. ]\n",
      " [0.5]\n",
      " [0. ]\n",
      " [0. ]\n",
      " [0. ]]\n",
      "X_4_test =  [[0.33333333]\n",
      " [0.33333333]\n",
      " [0.        ]\n",
      " [0.33333333]\n",
      " [0.33333333]]\n",
      "X_5_test =  [[0.        ]\n",
      " [0.33333333]\n",
      " [0.33333333]\n",
      " [0.        ]\n",
      " [0.        ]]\n"
     ]
    }
   ],
   "source": [
    "# Converting 1D arrays of validation X's to 2D arrays\n",
    "\n",
    "X_1_test = X1_test.reshape(m_test, 1)\n",
    "X_2_test = X2_test.reshape(m_test, 1)\n",
    "X_3_test = X3_test.reshape(m_test, 1)\n",
    "X_4_test = X4_test.reshape(m_test, 1)\n",
    "X_5_test = X5_test.reshape(m_test, 1)\n",
    "\n",
    "# print first 5 values from each 2D array\n",
    "print('X_1_test = ', X_1_test[: 5])\n",
    "print('X_2_test = ', X_2_test[: 5])\n",
    "print('X_3_test = ', X_3_test[: 5])\n",
    "print('X_4_test = ', X_4_test[: 5])\n",
    "print('X_5_test = ', X_5_test[: 5])"
   ]
  },
  {
   "cell_type": "code",
   "execution_count": 65,
   "id": "29984c79-e225-4d71-bda2-3ee06e01c670",
   "metadata": {},
   "outputs": [
    {
     "data": {
      "text/plain": [
       "array([[1.        , 0.08817204, 0.33333333, 0.        , 0.33333333,\n",
       "        0.        ],\n",
       "       [1.        , 0.31182796, 0.33333333, 0.5       , 0.33333333,\n",
       "        0.33333333],\n",
       "       [1.        , 0.61784946, 0.33333333, 0.        , 0.        ,\n",
       "        0.33333333],\n",
       "       [1.        , 0.26308244, 0.33333333, 0.        , 0.33333333,\n",
       "        0.        ],\n",
       "       [1.        , 0.23655914, 0.66666667, 0.        , 0.33333333,\n",
       "        0.        ]])"
      ]
     },
     "execution_count": 65,
     "metadata": {},
     "output_type": "execute_result"
    }
   ],
   "source": [
    "# Stacking X_0_test through X_5_test horizotally\n",
    "# This is the final X Matrix for validation\n",
    "\n",
    "X_test = np.hstack((X_0_test, X_1_test, X_2_test, X_3_test, X_4_test, X_5_test))\n",
    "X_test [: 5]"
   ]
  },
  {
   "cell_type": "code",
   "execution_count": 66,
   "id": "e993a31f-70fa-4d16-ab5d-85247f055d82",
   "metadata": {},
   "outputs": [],
   "source": [
    "# defining function for computing the cost for training set\n",
    "# parameter penalty is introduced in loss function\n",
    "# theta zero has not been penalized\n",
    "\n",
    "def compute_cost(X, y, theta, m, Lambda):\n",
    "    predictions = X.dot(theta)\n",
    "    errors = np.subtract(predictions, y)\n",
    "    sqrErrors = np.square(errors)\n",
    "    sqrTheta = np.square(theta)\n",
    "    sqrTheta_new = np.delete(sqrTheta, 0)                                  # square of theta zero is excluded\n",
    "    J = 1 / (2 * m) * (np.sum(sqrErrors) + Lambda * np.sum(sqrTheta_new)) \n",
    "    return J"
   ]
  },
  {
   "cell_type": "code",
   "execution_count": 67,
   "id": "c0b272e7-e76d-4e23-b9e2-09f6544da4e5",
   "metadata": {},
   "outputs": [],
   "source": [
    "# defining function for computing the cost for validation set\n",
    "# parameters are not penalized for validation set\n",
    "\n",
    "def compute_cost_test(X_test, y_test, theta, m_test):\n",
    "    predictions = X_test.dot(theta)\n",
    "    errors = np.subtract(predictions, y_test)\n",
    "    sqrErrors = np.square(errors)\n",
    "    J = 1 / (2 * m_test) * np.sum(sqrErrors)\n",
    "    return J"
   ]
  },
  {
   "cell_type": "code",
   "execution_count": 68,
   "id": "46905e19-6b78-4ad7-b30f-643d3656c0e7",
   "metadata": {},
   "outputs": [],
   "source": [
    "# defining function for gradient descent algorithm\n",
    "# gradient descent algorithm is applied on the training set\n",
    "# gradient descent is modified for parameter penalty\n",
    "# for each iteration loss for both training and validation set is calculated\n",
    "\n",
    "def gradient_descent(X, y, theta, alpha, iterations, Lambda):\n",
    "    cost_history = np.zeros(iterations)\n",
    "    cost_test = np.zeros(iterations)\n",
    "    for i in range(iterations):\n",
    "        predictions = X.dot(theta)\n",
    "        errors = np.subtract(predictions, y)\n",
    "        sum_delta = (alpha / m) * X.transpose().dot(errors);\n",
    "        theta = np.array(theta)*(parameter_penalty) - sum_delta;                      # theta is penalized\n",
    "        cost_history[i] = compute_cost(X, y, theta, m, Lambda)                        # loss for training set\n",
    "        cost_test[i] = compute_cost_test(X_test, y_test, theta, m_test)               # loss for validation set\n",
    "    \n",
    "    return theta, cost_history, cost_test"
   ]
  },
  {
   "cell_type": "markdown",
   "id": "d18380de",
   "metadata": {},
   "source": [
    "#### For learning rate 0.099 (learning rate is chosen between 0.1 and 0.01 as question asked)"
   ]
  },
  {
   "cell_type": "code",
   "execution_count": 73,
   "id": "324ed425",
   "metadata": {},
   "outputs": [],
   "source": [
    "# to penalize theta values in gradient descent algorithm\n",
    "# parameter_penalty has been introduced\n",
    "# to exclude theta zero from penalizing, the first element of parameter_penalty is set to 1\n",
    "\n",
    "theta = [0., 0., 0., 0., 0., 0.]\n",
    "iterations = 500;\n",
    "alpha = 0.099\n",
    "Lambda = 0.1\n",
    "p = (1 - (alpha * Lambda) / m)\n",
    "parameter_penalty = np.full(shape=5, fill_value=p)\n",
    "parameter_penalty = np.insert(parameter_penalty, 0, 1)"
   ]
  },
  {
   "cell_type": "code",
   "execution_count": 74,
   "id": "fa685cfa",
   "metadata": {},
   "outputs": [
    {
     "name": "stdout",
     "output_type": "stream",
     "text": [
      "The initial cost for given values of theta_0 to theta_5 =  0.04780662856311236\n"
     ]
    }
   ],
   "source": [
    "# computing the cost for initial theta values\n",
    "\n",
    "cost = compute_cost(X, y, theta, m, Lambda)\n",
    "print('The initial cost for given values of theta_0 to theta_5 = ', cost)"
   ]
  },
  {
   "cell_type": "code",
   "execution_count": 75,
   "id": "91c27a7d",
   "metadata": {},
   "outputs": [
    {
     "name": "stdout",
     "output_type": "stream",
     "text": [
      "Final value of theta= [0.07095266 0.28597247 0.0852415  0.25568359 0.14821777 0.11871077]\n",
      "cost_history = [0.03823944 0.03107745 0.02571357 0.02169396 0.01867937 0.0164162\n",
      " 0.01471487 0.01343365 0.0124666  0.01173453 0.01117822 0.01075342\n",
      " 0.01042705 0.01017436 0.00997686 0.00982073 0.00969563 0.00959383\n",
      " 0.00950956 0.00943848 0.00937738 0.00932383 0.00927602 0.0092326\n",
      " 0.00919256 0.00915514 0.00911977 0.00908602 0.00905358 0.00902219\n",
      " 0.00899169 0.00896194 0.00893283 0.00890428 0.00887623 0.00884864\n",
      " 0.00882147 0.0087947  0.0087683  0.00874226 0.00871655 0.00869118\n",
      " 0.00866612 0.00864138 0.00861694 0.00859279 0.00856894 0.00854538\n",
      " 0.00852209 0.00849909 0.00847635 0.00845388 0.00843168 0.00840973\n",
      " 0.00838805 0.00836661 0.00834542 0.00832448 0.00830378 0.00828332\n",
      " 0.00826309 0.0082431  0.00822333 0.00820379 0.00818447 0.00816536\n",
      " 0.00814648 0.0081278  0.00810934 0.00809108 0.00807303 0.00805518\n",
      " 0.00803752 0.00802006 0.0080028  0.00798572 0.00796883 0.00795213\n",
      " 0.00793561 0.00791927 0.0079031  0.00788711 0.0078713  0.00785565\n",
      " 0.00784017 0.00782486 0.00780971 0.00779472 0.00777989 0.00776522\n",
      " 0.0077507  0.00773634 0.00772212 0.00770805 0.00769413 0.00768036\n",
      " 0.00766673 0.00765323 0.00763988 0.00762666 0.00761358 0.00760063\n",
      " 0.00758782 0.00757513 0.00756257 0.00755014 0.00753783 0.00752565\n",
      " 0.00751359 0.00750164 0.00748982 0.00747811 0.00746652 0.00745504\n",
      " 0.00744367 0.00743241 0.00742127 0.00741023 0.00739929 0.00738847\n",
      " 0.00737774 0.00736712 0.0073566  0.00734618 0.00733586 0.00732564\n",
      " 0.00731551 0.00730548 0.00729554 0.00728569 0.00727593 0.00726627\n",
      " 0.00725669 0.0072472  0.0072378  0.00722848 0.00721925 0.0072101\n",
      " 0.00720104 0.00719205 0.00718315 0.00717433 0.00716558 0.00715691\n",
      " 0.00714832 0.00713981 0.00713137 0.007123   0.00711471 0.00710648\n",
      " 0.00709833 0.00709025 0.00708224 0.0070743  0.00706642 0.00705862\n",
      " 0.00705088 0.0070432  0.00703559 0.00702804 0.00702056 0.00701314\n",
      " 0.00700578 0.00699848 0.00699124 0.00698406 0.00697694 0.00696988\n",
      " 0.00696287 0.00695592 0.00694903 0.0069422  0.00693541 0.00692869\n",
      " 0.00692201 0.00691539 0.00690882 0.00690231 0.00689584 0.00688943\n",
      " 0.00688306 0.00687675 0.00687048 0.00686426 0.00685809 0.00685197\n",
      " 0.0068459  0.00683987 0.00683388 0.00682795 0.00682205 0.0068162\n",
      " 0.0068104  0.00680464 0.00679892 0.00679324 0.00678761 0.00678201\n",
      " 0.00677646 0.00677095 0.00676548 0.00676005 0.00675465 0.0067493\n",
      " 0.00674399 0.00673871 0.00673347 0.00672827 0.00672311 0.00671798\n",
      " 0.00671289 0.00670783 0.00670281 0.00669783 0.00669288 0.00668796\n",
      " 0.00668308 0.00667823 0.00667341 0.00666863 0.00666388 0.00665917\n",
      " 0.00665448 0.00664983 0.00664521 0.00664062 0.00663606 0.00663153\n",
      " 0.00662703 0.00662256 0.00661812 0.00661371 0.00660933 0.00660498\n",
      " 0.00660065 0.00659636 0.00659209 0.00658785 0.00658364 0.00657945\n",
      " 0.00657529 0.00657116 0.00656706 0.00656298 0.00655893 0.0065549\n",
      " 0.0065509  0.00654692 0.00654297 0.00653904 0.00653514 0.00653126\n",
      " 0.00652741 0.00652358 0.00651977 0.00651599 0.00651223 0.00650849\n",
      " 0.00650478 0.00650109 0.00649742 0.00649377 0.00649015 0.00648654\n",
      " 0.00648296 0.0064794  0.00647587 0.00647235 0.00646885 0.00646538\n",
      " 0.00646192 0.00645849 0.00645508 0.00645168 0.00644831 0.00644495\n",
      " 0.00644162 0.0064383  0.00643501 0.00643173 0.00642847 0.00642523\n",
      " 0.00642201 0.00641881 0.00641563 0.00641246 0.00640932 0.00640619\n",
      " 0.00640308 0.00639998 0.0063969  0.00639385 0.0063908  0.00638778\n",
      " 0.00638477 0.00638178 0.0063788  0.00637585 0.0063729  0.00636998\n",
      " 0.00636707 0.00636418 0.0063613  0.00635844 0.00635559 0.00635276\n",
      " 0.00634995 0.00634715 0.00634437 0.0063416  0.00633884 0.0063361\n",
      " 0.00633338 0.00633067 0.00632797 0.00632529 0.00632263 0.00631997\n",
      " 0.00631734 0.00631471 0.0063121  0.00630951 0.00630692 0.00630436\n",
      " 0.0063018  0.00629926 0.00629673 0.00629421 0.00629171 0.00628922\n",
      " 0.00628675 0.00628428 0.00628183 0.0062794  0.00627697 0.00627456\n",
      " 0.00627216 0.00626977 0.0062674  0.00626503 0.00626268 0.00626034\n",
      " 0.00625802 0.0062557  0.0062534  0.00625111 0.00624883 0.00624656\n",
      " 0.0062443  0.00624206 0.00623982 0.0062376  0.00623539 0.00623319\n",
      " 0.006231   0.00622882 0.00622666 0.0062245  0.00622235 0.00622022\n",
      " 0.00621809 0.00621598 0.00621388 0.00621178 0.0062097  0.00620763\n",
      " 0.00620557 0.00620351 0.00620147 0.00619944 0.00619742 0.00619541\n",
      " 0.00619341 0.00619141 0.00618943 0.00618746 0.0061855  0.00618354\n",
      " 0.0061816  0.00617966 0.00617774 0.00617582 0.00617392 0.00617202\n",
      " 0.00617013 0.00616825 0.00616638 0.00616452 0.00616267 0.00616083\n",
      " 0.00615899 0.00615717 0.00615535 0.00615354 0.00615174 0.00614995\n",
      " 0.00614817 0.0061464  0.00614463 0.00614288 0.00614113 0.00613939\n",
      " 0.00613766 0.00613593 0.00613422 0.00613251 0.00613081 0.00612912\n",
      " 0.00612744 0.00612576 0.00612409 0.00612244 0.00612078 0.00611914\n",
      " 0.0061175  0.00611587 0.00611425 0.00611264 0.00611103 0.00610944\n",
      " 0.00610785 0.00610626 0.00610469 0.00610312 0.00610156 0.0061\n",
      " 0.00609845 0.00609692 0.00609538 0.00609386 0.00609234 0.00609083\n",
      " 0.00608932 0.00608783 0.00608634 0.00608485 0.00608337 0.0060819\n",
      " 0.00608044 0.00607899 0.00607754 0.00607609 0.00607466 0.00607323\n",
      " 0.0060718  0.00607039 0.00606898 0.00606757 0.00606617 0.00606478\n",
      " 0.0060634  0.00606202 0.00606065 0.00605928 0.00605792 0.00605657\n",
      " 0.00605522 0.00605388 0.00605255 0.00605122 0.00604989 0.00604858\n",
      " 0.00604727 0.00604596 0.00604466 0.00604337 0.00604208 0.0060408\n",
      " 0.00603952 0.00603825 0.00603699 0.00603573 0.00603448 0.00603323\n",
      " 0.00603199 0.00603075 0.00602952 0.0060283  0.00602708 0.00602586\n",
      " 0.00602466 0.00602345 0.00602225 0.00602106 0.00601987 0.00601869\n",
      " 0.00601752 0.00601635 0.00601518 0.00601402 0.00601286 0.00601171\n",
      " 0.00601057 0.00600943 0.00600829 0.00600716 0.00600604 0.00600492\n",
      " 0.0060038  0.00600269]\n",
      "cost_test = [0.04342551 0.03586447 0.0301265  0.02576133 0.02243107 0.01988195\n",
      " 0.01792328 0.01641165 0.01523912 0.01432434 0.01360594 0.01303757\n",
      " 0.01258415 0.01221912 0.01192228 0.01167828 0.01147542 0.01130472\n",
      " 0.01115931 0.01103392 0.01092444 0.01082772 0.01074129 0.01066321\n",
      " 0.01059198 0.01052638 0.01046548 0.01040851 0.01035486 0.01030404\n",
      " 0.01025565 0.01020937 0.01016491 0.01012207 0.01008066 0.01004052\n",
      " 0.01000152 0.00996356 0.00992655 0.0098904  0.00985505 0.00982044\n",
      " 0.00978652 0.00975325 0.00972059 0.0096885  0.00965696 0.00962595\n",
      " 0.00959543 0.0095654  0.00953582 0.0095067  0.009478   0.00944973\n",
      " 0.00942186 0.00939438 0.0093673  0.00934058 0.00931424 0.00928826\n",
      " 0.00926263 0.00923735 0.0092124  0.00918779 0.00916351 0.00913954\n",
      " 0.0091159  0.00909256 0.00906953 0.0090468  0.00902437 0.00900223\n",
      " 0.00898038 0.00895881 0.00893752 0.0089165  0.00889576 0.00887528\n",
      " 0.00885507 0.00883512 0.00881542 0.00879598 0.00877679 0.00875784\n",
      " 0.00873914 0.00872067 0.00870244 0.00868445 0.00866668 0.00864914\n",
      " 0.00863182 0.00861473 0.00859785 0.00858119 0.00856474 0.0085485\n",
      " 0.00853247 0.00851663 0.00850101 0.00848557 0.00847034 0.0084553\n",
      " 0.00844045 0.00842578 0.00841131 0.00839701 0.0083829  0.00836897\n",
      " 0.00835521 0.00834163 0.00832822 0.00831497 0.0083019  0.00828899\n",
      " 0.00827624 0.00826366 0.00825123 0.00823896 0.00822685 0.00821489\n",
      " 0.00820307 0.00819141 0.0081799  0.00816853 0.0081573  0.00814622\n",
      " 0.00813527 0.00812446 0.00811379 0.00810326 0.00809285 0.00808258\n",
      " 0.00807244 0.00806242 0.00805253 0.00804277 0.00803312 0.0080236\n",
      " 0.0080142  0.00800492 0.00799576 0.00798671 0.00797777 0.00796895\n",
      " 0.00796024 0.00795163 0.00794314 0.00793475 0.00792647 0.0079183\n",
      " 0.00791022 0.00790225 0.00789438 0.00788661 0.00787894 0.00787136\n",
      " 0.00786388 0.0078565  0.00784921 0.00784201 0.0078349  0.00782788\n",
      " 0.00782095 0.00781411 0.00780735 0.00780068 0.0077941  0.0077876\n",
      " 0.00778118 0.00777485 0.00776859 0.00776241 0.00775632 0.0077503\n",
      " 0.00774435 0.00773849 0.0077327  0.00772698 0.00772133 0.00771576\n",
      " 0.00771026 0.00770483 0.00769947 0.00769418 0.00768896 0.0076838\n",
      " 0.00767871 0.00767369 0.00766873 0.00766384 0.00765901 0.00765424\n",
      " 0.00764953 0.00764489 0.00764031 0.00763578 0.00763132 0.00762691\n",
      " 0.00762256 0.00761827 0.00761403 0.00760985 0.00760573 0.00760166\n",
      " 0.00759764 0.00759368 0.00758977 0.00758591 0.0075821  0.00757835\n",
      " 0.00757464 0.00757098 0.00756738 0.00756382 0.00756031 0.00755684\n",
      " 0.00755343 0.00755006 0.00754673 0.00754345 0.00754022 0.00753703\n",
      " 0.00753388 0.00753078 0.00752772 0.0075247  0.00752172 0.00751879\n",
      " 0.00751589 0.00751304 0.00751022 0.00750745 0.00750472 0.00750202\n",
      " 0.00749936 0.00749674 0.00749416 0.00749161 0.0074891  0.00748663\n",
      " 0.00748419 0.00748179 0.00747942 0.00747708 0.00747479 0.00747252\n",
      " 0.00747029 0.00746809 0.00746592 0.00746379 0.00746169 0.00745962\n",
      " 0.00745758 0.00745557 0.00745359 0.00745165 0.00744973 0.00744784\n",
      " 0.00744598 0.00744415 0.00744235 0.00744058 0.00743884 0.00743712\n",
      " 0.00743543 0.00743377 0.00743213 0.00743053 0.00742894 0.00742739\n",
      " 0.00742586 0.00742435 0.00742287 0.00742142 0.00741999 0.00741858\n",
      " 0.0074172  0.00741584 0.0074145  0.00741319 0.00741191 0.00741064\n",
      " 0.0074094  0.00740818 0.00740698 0.0074058  0.00740465 0.00740351\n",
      " 0.0074024  0.00740131 0.00740024 0.00739919 0.00739816 0.00739715\n",
      " 0.00739616 0.00739519 0.00739424 0.00739331 0.0073924  0.00739151\n",
      " 0.00739063 0.00738978 0.00738894 0.00738812 0.00738732 0.00738654\n",
      " 0.00738577 0.00738502 0.00738429 0.00738358 0.00738288 0.0073822\n",
      " 0.00738153 0.00738089 0.00738025 0.00737964 0.00737904 0.00737845\n",
      " 0.00737788 0.00737733 0.00737679 0.00737627 0.00737576 0.00737526\n",
      " 0.00737478 0.00737432 0.00737387 0.00737343 0.00737301 0.0073726\n",
      " 0.00737221 0.00737182 0.00737146 0.0073711  0.00737076 0.00737043\n",
      " 0.00737011 0.00736981 0.00736952 0.00736924 0.00736898 0.00736872\n",
      " 0.00736848 0.00736825 0.00736803 0.00736783 0.00736763 0.00736745\n",
      " 0.00736728 0.00736712 0.00736697 0.00736683 0.0073667  0.00736659\n",
      " 0.00736648 0.00736639 0.0073663  0.00736623 0.00736616 0.00736611\n",
      " 0.00736607 0.00736603 0.00736601 0.007366   0.00736599 0.007366\n",
      " 0.00736601 0.00736603 0.00736607 0.00736611 0.00736616 0.00736622\n",
      " 0.00736629 0.00736637 0.00736646 0.00736655 0.00736666 0.00736677\n",
      " 0.00736689 0.00736702 0.00736716 0.0073673  0.00736745 0.00736762\n",
      " 0.00736779 0.00736796 0.00736815 0.00736834 0.00736854 0.00736875\n",
      " 0.00736896 0.00736918 0.00736941 0.00736965 0.00736989 0.00737014\n",
      " 0.0073704  0.00737067 0.00737094 0.00737122 0.0073715  0.00737179\n",
      " 0.00737209 0.00737239 0.0073727  0.00737302 0.00737334 0.00737367\n",
      " 0.00737401 0.00737435 0.0073747  0.00737505 0.00737541 0.00737578\n",
      " 0.00737615 0.00737653 0.00737691 0.0073773  0.00737769 0.00737809\n",
      " 0.00737849 0.0073789  0.00737932 0.00737974 0.00738016 0.00738059\n",
      " 0.00738103 0.00738147 0.00738192 0.00738237 0.00738282 0.00738328\n",
      " 0.00738375 0.00738422 0.00738469 0.00738517 0.00738565 0.00738614\n",
      " 0.00738664 0.00738713 0.00738763 0.00738814 0.00738865 0.00738916\n",
      " 0.00738968 0.0073902  0.00739073 0.00739126 0.0073918  0.00739233\n",
      " 0.00739288 0.00739342 0.00739397 0.00739453 0.00739508 0.00739565\n",
      " 0.00739621 0.00739678 0.00739735 0.00739793 0.00739851 0.00739909\n",
      " 0.00739967 0.00740026 0.00740086 0.00740145 0.00740205 0.00740265\n",
      " 0.00740326 0.00740387 0.00740448 0.0074051  0.00740571 0.00740633\n",
      " 0.00740696 0.00740759 0.00740822 0.00740885 0.00740948 0.00741012\n",
      " 0.00741076 0.00741141 0.00741205 0.0074127  0.00741335 0.00741401\n",
      " 0.00741467 0.00741532 0.00741599 0.00741665 0.00741732 0.00741799\n",
      " 0.00741866 0.00741933 0.00742001 0.00742069 0.00742137 0.00742205\n",
      " 0.00742274 0.00742343]\n"
     ]
    }
   ],
   "source": [
    "# Computing final theta values and cost/losses for training and validation set\n",
    "\n",
    "theta, cost_history, cost_test = gradient_descent(X, y, theta, alpha, iterations, Lambda)\n",
    "print('Final value of theta=', theta)\n",
    "print('cost_history =', cost_history)\n",
    "print('cost_test =', cost_test)"
   ]
  },
  {
   "cell_type": "code",
   "execution_count": 76,
   "id": "a7192b6a",
   "metadata": {},
   "outputs": [
    {
     "data": {
      "text/plain": [
       "Text(0.5, 1.0, 'Convergence of Gradient Descent')"
      ]
     },
     "execution_count": 76,
     "metadata": {},
     "output_type": "execute_result"
    },
    {
     "data": {
      "image/png": "[encoded data removed]",
      "text/plain": [
       "<Figure size 1000x600 with 1 Axes>"
      ]
     },
     "metadata": {},
     "output_type": "display_data"
    }
   ],
   "source": [
    "plt.plot(range(1, iterations + 1),cost_history, color='green', label= 'Loss for Training Set')\n",
    "plt.plot(range(1, iterations + 1),cost_test, color='red', label= 'Loss for Validation Set')\n",
    "plt.rcParams[\"figure.figsize\"] = (10,6)\n",
    "plt.grid()\n",
    "plt.legend()\n",
    "plt.xlabel('Number of Iterations')\n",
    "plt.ylabel('Cost (J)')\n",
    "plt.title('Convergence of Gradient Descent')"
   ]
  },
  {
   "cell_type": "markdown",
   "id": "02d7b1fd",
   "metadata": {},
   "source": [
    "#### For learning rate 0.03 (learning rate is chosen between 0.1 and 0.01 as question asked)"
   ]
  },
  {
   "cell_type": "code",
   "execution_count": 80,
   "id": "bc103a20-ed71-4602-8c56-93d15e574ebb",
   "metadata": {},
   "outputs": [],
   "source": [
    "# to penalize theta values in gradient descent algorithm\n",
    "# parameter_penalty has been introduced\n",
    "# to exclude theta zero from penalizing, the first element of parameter_penalty is set to 1\n",
    "\n",
    "theta003 = [0., 0., 0., 0., 0., 0.]\n",
    "iterations = 500;\n",
    "alpha003 = 0.03\n",
    "Lambda = 0.1\n",
    "p = (1 - (alpha003 * Lambda) / m)\n",
    "parameter_penalty = np.full(shape=5, fill_value=p)\n",
    "parameter_penalty = np.insert(parameter_penalty, 0, 1)"
   ]
  },
  {
   "cell_type": "code",
   "execution_count": 81,
   "id": "3e21ece0-7bb4-4706-a8f4-79fbdcf03f35",
   "metadata": {},
   "outputs": [
    {
     "name": "stdout",
     "output_type": "stream",
     "text": [
      "The initial cost for given values of theta_0 to theta_5 =  0.04780662856311236\n"
     ]
    }
   ],
   "source": [
    "# computing the cost for initial theta values\n",
    "\n",
    "cost01 = compute_cost(X, y, theta003, m, Lambda)\n",
    "print('The initial cost for given values of theta_0 to theta_5 = ', cost01)"
   ]
  },
  {
   "cell_type": "code",
   "execution_count": 82,
   "id": "f3b6b6e4-3821-4aff-b36d-9d2c62be7c7d",
   "metadata": {},
   "outputs": [
    {
     "name": "stdout",
     "output_type": "stream",
     "text": [
      "Final value of theta= [0.1172932  0.15115192 0.09029227 0.13962731 0.13724316 0.11738033]\n",
      "cost_history = [0.04476138 0.0419599  0.03938262 0.03701151 0.03483001 0.03282287\n",
      " 0.0309761  0.0292768  0.02771312 0.02627417 0.02494992 0.02373117\n",
      " 0.02260943 0.02157691 0.02062644 0.01975144 0.01894583 0.01820405\n",
      " 0.01752097 0.01689187 0.01631242 0.01577864 0.01528685 0.01483368\n",
      " 0.01441604 0.01403107 0.01367614 0.01334886 0.01304699 0.0127685\n",
      " 0.01251152 0.01227431 0.01205529 0.01185301 0.01166613 0.01149339\n",
      " 0.01133369 0.01118596 0.01104925 0.01092268 0.01080544 0.01069678\n",
      " 0.01059601 0.0105025  0.01041568 0.010335   0.01025998 0.01019017\n",
      " 0.01012514 0.01006453 0.01000797 0.00995515 0.00990576 0.00985954\n",
      " 0.00981623 0.0097756  0.00973744 0.00970155 0.00966776 0.0096359\n",
      " 0.00960581 0.00957737 0.00955043 0.00952487 0.00950061 0.00947752\n",
      " 0.00945552 0.00943452 0.00941446 0.00939524 0.00937682 0.00935913\n",
      " 0.00934211 0.00932571 0.00930988 0.00929459 0.00927978 0.00926543\n",
      " 0.00925151 0.00923797 0.00922479 0.00921195 0.00919942 0.00918717\n",
      " 0.0091752  0.00916347 0.00915198 0.0091407  0.00912962 0.00911873\n",
      " 0.00910802 0.00909747 0.00908707 0.00907681 0.00906669 0.0090567\n",
      " 0.00904682 0.00903706 0.0090274  0.00901784 0.00900837 0.00899899\n",
      " 0.0089897  0.00898049 0.00897135 0.00896229 0.00895329 0.00894436\n",
      " 0.00893549 0.00892668 0.00891793 0.00890924 0.0089006  0.00889201\n",
      " 0.00888347 0.00887498 0.00886653 0.00885813 0.00884978 0.00884147\n",
      " 0.00883319 0.00882496 0.00881677 0.00880862 0.0088005  0.00879243\n",
      " 0.00878438 0.00877638 0.00876841 0.00876047 0.00875257 0.0087447\n",
      " 0.00873686 0.00872905 0.00872128 0.00871354 0.00870583 0.00869815\n",
      " 0.0086905  0.00868288 0.00867529 0.00866773 0.0086602  0.0086527\n",
      " 0.00864522 0.00863778 0.00863036 0.00862297 0.00861561 0.00860828\n",
      " 0.00860097 0.00859369 0.00858644 0.00857922 0.00857202 0.00856484\n",
      " 0.0085577  0.00855058 0.00854349 0.00853642 0.00852938 0.00852236\n",
      " 0.00851537 0.0085084  0.00850146 0.00849455 0.00848766 0.00848079\n",
      " 0.00847395 0.00846713 0.00846034 0.00845357 0.00844683 0.00844011\n",
      " 0.00843341 0.00842674 0.00842009 0.00841347 0.00840687 0.00840029\n",
      " 0.00839374 0.0083872  0.0083807  0.00837421 0.00836775 0.00836131\n",
      " 0.00835489 0.0083485  0.00834213 0.00833578 0.00832945 0.00832315\n",
      " 0.00831686 0.0083106  0.00830436 0.00829815 0.00829195 0.00828578\n",
      " 0.00827962 0.00827349 0.00826738 0.00826129 0.00825523 0.00824918\n",
      " 0.00824316 0.00823715 0.00823117 0.00822521 0.00821926 0.00821334\n",
      " 0.00820744 0.00820156 0.0081957  0.00818986 0.00818404 0.00817824\n",
      " 0.00817246 0.00816669 0.00816095 0.00815523 0.00814953 0.00814385\n",
      " 0.00813818 0.00813254 0.00812692 0.00812131 0.00811573 0.00811016\n",
      " 0.00810461 0.00809908 0.00809357 0.00808808 0.0080826  0.00807715\n",
      " 0.00807171 0.00806629 0.0080609  0.00805551 0.00805015 0.0080448\n",
      " 0.00803948 0.00803417 0.00802888 0.0080236  0.00801835 0.00801311\n",
      " 0.00800789 0.00800268 0.0079975  0.00799233 0.00798718 0.00798204\n",
      " 0.00797692 0.00797182 0.00796674 0.00796167 0.00795662 0.00795159\n",
      " 0.00794657 0.00794157 0.00793659 0.00793162 0.00792667 0.00792174\n",
      " 0.00791682 0.00791192 0.00790704 0.00790217 0.00789731 0.00789247\n",
      " 0.00788765 0.00788285 0.00787806 0.00787328 0.00786852 0.00786378\n",
      " 0.00785905 0.00785434 0.00784964 0.00784496 0.00784029 0.00783564\n",
      " 0.00783101 0.00782639 0.00782178 0.00781719 0.00781261 0.00780805\n",
      " 0.0078035  0.00779897 0.00779445 0.00778995 0.00778546 0.00778098\n",
      " 0.00777652 0.00777208 0.00776765 0.00776323 0.00775883 0.00775444\n",
      " 0.00775006 0.0077457  0.00774135 0.00773702 0.0077327  0.00772839\n",
      " 0.0077241  0.00771982 0.00771556 0.0077113  0.00770707 0.00770284\n",
      " 0.00769863 0.00769443 0.00769025 0.00768607 0.00768192 0.00767777\n",
      " 0.00767364 0.00766952 0.00766541 0.00766132 0.00765723 0.00765317\n",
      " 0.00764911 0.00764507 0.00764104 0.00763702 0.00763301 0.00762902\n",
      " 0.00762504 0.00762107 0.00761712 0.00761317 0.00760924 0.00760532\n",
      " 0.00760141 0.00759752 0.00759363 0.00758976 0.0075859  0.00758206\n",
      " 0.00757822 0.0075744  0.00757058 0.00756678 0.00756299 0.00755922\n",
      " 0.00755545 0.0075517  0.00754795 0.00754422 0.0075405  0.00753679\n",
      " 0.00753309 0.00752941 0.00752573 0.00752207 0.00751841 0.00751477\n",
      " 0.00751114 0.00750752 0.00750391 0.00750031 0.00749673 0.00749315\n",
      " 0.00748958 0.00748603 0.00748248 0.00747895 0.00747542 0.00747191\n",
      " 0.00746841 0.00746491 0.00746143 0.00745796 0.0074545  0.00745105\n",
      " 0.00744761 0.00744418 0.00744076 0.00743735 0.00743395 0.00743056\n",
      " 0.00742718 0.00742381 0.00742044 0.00741709 0.00741375 0.00741042\n",
      " 0.0074071  0.00740379 0.00740049 0.0073972  0.00739391 0.00739064\n",
      " 0.00738738 0.00738412 0.00738088 0.00737764 0.00737442 0.0073712\n",
      " 0.00736799 0.0073648  0.00736161 0.00735843 0.00735526 0.0073521\n",
      " 0.00734894 0.0073458  0.00734267 0.00733954 0.00733643 0.00733332\n",
      " 0.00733022 0.00732713 0.00732405 0.00732098 0.00731792 0.00731486\n",
      " 0.00731182 0.00730878 0.00730575 0.00730273 0.00729972 0.00729672\n",
      " 0.00729372 0.00729074 0.00728776 0.00728479 0.00728183 0.00727888\n",
      " 0.00727593 0.007273   0.00727007 0.00726715 0.00726424 0.00726134\n",
      " 0.00725844 0.00725555 0.00725267 0.0072498  0.00724694 0.00724409\n",
      " 0.00724124 0.0072384  0.00723557 0.00723274 0.00722993 0.00722712\n",
      " 0.00722432 0.00722153 0.00721874 0.00721597 0.0072132  0.00721043\n",
      " 0.00720768 0.00720493 0.00720219 0.00719946 0.00719674 0.00719402\n",
      " 0.00719131 0.00718861 0.00718591 0.00718323 0.00718055 0.00717787\n",
      " 0.00717521 0.00717255 0.0071699  0.00716725 0.00716462 0.00716199\n",
      " 0.00715936 0.00715675 0.00715414 0.00715154 0.00714894 0.00714635\n",
      " 0.00714377 0.0071412  0.00713863 0.00713607 0.00713352 0.00713097\n",
      " 0.00712843 0.00712589 0.00712337 0.00712085 0.00711833 0.00711583\n",
      " 0.00711333 0.00711083 0.00710835 0.00710587 0.00710339 0.00710092\n",
      " 0.00709846 0.00709601]\n",
      "cost_test = [0.05024294 0.04732074 0.04462391 0.04213469 0.03983671 0.03771492\n",
      " 0.03575546 0.03394558 0.03227353 0.03072849 0.02930051 0.02798044\n",
      " 0.02675984 0.02563092 0.02458656 0.02362015 0.02272563 0.02189741\n",
      " 0.02113036 0.02041972 0.01976115 0.01915061 0.01858439 0.0180591\n",
      " 0.01757158 0.01711894 0.0166985  0.01630781 0.0159446  0.01560677\n",
      " 0.0152924  0.01499972 0.01472708 0.01447297 0.014236   0.01401489\n",
      " 0.01380844 0.01361558 0.01343528 0.01326661 0.01310872 0.01296081\n",
      " 0.01282216 0.01269208 0.01256995 0.01245519 0.01234727 0.0122457\n",
      " 0.01215002 0.01205982 0.0119747  0.0118943  0.0118183  0.01174638\n",
      " 0.01167826 0.01161368 0.01155239 0.01149417 0.01143881 0.01138611\n",
      " 0.01133591 0.01128802 0.01124229 0.01119859 0.01115678 0.01111674\n",
      " 0.01107835 0.01104151 0.01100612 0.01097208 0.01093932 0.01090776\n",
      " 0.01087731 0.01084792 0.01081951 0.01079203 0.01076543 0.01073966\n",
      " 0.01071465 0.01069038 0.0106668  0.01064386 0.01062154 0.01059981\n",
      " 0.01057862 0.01055794 0.01053776 0.01051805 0.01049878 0.01047992\n",
      " 0.01046146 0.01044338 0.01042566 0.01040828 0.01039122 0.01037448\n",
      " 0.01035803 0.01034185 0.01032595 0.01031031 0.01029491 0.01027974\n",
      " 0.0102648  0.01025007 0.01023555 0.01022122 0.01020709 0.01019314\n",
      " 0.01017936 0.01016575 0.0101523  0.01013901 0.01012586 0.01011287\n",
      " 0.01010001 0.01008728 0.01007469 0.01006222 0.01004987 0.01003764\n",
      " 0.01002553 0.01001352 0.01000162 0.00998983 0.00997813 0.00996654\n",
      " 0.00995503 0.00994363 0.00993231 0.00992107 0.00990993 0.00989886\n",
      " 0.00988788 0.00987698 0.00986615 0.0098554  0.00984472 0.00983411\n",
      " 0.00982357 0.0098131  0.0098027  0.00979237 0.0097821  0.00977189\n",
      " 0.00976174 0.00975166 0.00974163 0.00973166 0.00972175 0.0097119\n",
      " 0.0097021  0.00969236 0.00968267 0.00967303 0.00966344 0.00965391\n",
      " 0.00964442 0.00963499 0.0096256  0.00961627 0.00960698 0.00959773\n",
      " 0.00958854 0.00957939 0.00957028 0.00956122 0.0095522  0.00954323\n",
      " 0.00953429 0.00952541 0.00951656 0.00950775 0.00949899 0.00949027\n",
      " 0.00948158 0.00947294 0.00946433 0.00945577 0.00944724 0.00943875\n",
      " 0.0094303  0.00942189 0.00941352 0.00940518 0.00939688 0.00938861\n",
      " 0.00938038 0.00937219 0.00936403 0.00935591 0.00934782 0.00933977\n",
      " 0.00933175 0.00932376 0.00931581 0.00930789 0.00930001 0.00929216\n",
      " 0.00928434 0.00927656 0.00926881 0.00926109 0.0092534  0.00924574\n",
      " 0.00923812 0.00923052 0.00922296 0.00921543 0.00920793 0.00920046\n",
      " 0.00919302 0.00918562 0.00917824 0.00917089 0.00916357 0.00915629\n",
      " 0.00914903 0.0091418  0.0091346  0.00912743 0.00912029 0.00911317\n",
      " 0.00910609 0.00909903 0.009092   0.00908501 0.00907803 0.00907109\n",
      " 0.00906417 0.00905729 0.00905043 0.00904359 0.00903679 0.00903001\n",
      " 0.00902326 0.00901653 0.00900983 0.00900316 0.00899651 0.00898989\n",
      " 0.0089833  0.00897673 0.00897019 0.00896368 0.00895719 0.00895073\n",
      " 0.00894429 0.00893787 0.00893149 0.00892512 0.00891879 0.00891247\n",
      " 0.00890619 0.00889992 0.00889368 0.00888747 0.00888128 0.00887512\n",
      " 0.00886897 0.00886286 0.00885676 0.0088507  0.00884465 0.00883863\n",
      " 0.00883263 0.00882666 0.0088207  0.00881478 0.00880887 0.00880299\n",
      " 0.00879713 0.00879129 0.00878548 0.00877969 0.00877392 0.00876818\n",
      " 0.00876245 0.00875675 0.00875107 0.00874542 0.00873978 0.00873417\n",
      " 0.00872858 0.00872301 0.00871746 0.00871193 0.00870643 0.00870095\n",
      " 0.00869549 0.00869004 0.00868463 0.00867923 0.00867385 0.00866849\n",
      " 0.00866316 0.00865784 0.00865255 0.00864727 0.00864202 0.00863679\n",
      " 0.00863157 0.00862638 0.00862121 0.00861606 0.00861092 0.00860581\n",
      " 0.00860072 0.00859564 0.00859059 0.00858556 0.00858054 0.00857555\n",
      " 0.00857057 0.00856561 0.00856068 0.00855576 0.00855086 0.00854598\n",
      " 0.00854112 0.00853627 0.00853145 0.00852664 0.00852186 0.00851709\n",
      " 0.00851234 0.00850761 0.00850289 0.0084982  0.00849352 0.00848886\n",
      " 0.00848422 0.0084796  0.00847499 0.0084704  0.00846583 0.00846128\n",
      " 0.00845675 0.00845223 0.00844773 0.00844325 0.00843878 0.00843433\n",
      " 0.0084299  0.00842549 0.00842109 0.00841671 0.00841235 0.008408\n",
      " 0.00840367 0.00839936 0.00839506 0.00839078 0.00838652 0.00838227\n",
      " 0.00837804 0.00837382 0.00836962 0.00836544 0.00836128 0.00835713\n",
      " 0.00835299 0.00834887 0.00834477 0.00834068 0.00833661 0.00833256\n",
      " 0.00832852 0.00832449 0.00832049 0.00831649 0.00831251 0.00830855\n",
      " 0.0083046  0.00830067 0.00829675 0.00829285 0.00828896 0.00828509\n",
      " 0.00828123 0.00827739 0.00827356 0.00826975 0.00826595 0.00826217\n",
      " 0.0082584  0.00825464 0.0082509  0.00824717 0.00824346 0.00823976\n",
      " 0.00823608 0.00823241 0.00822875 0.00822511 0.00822148 0.00821787\n",
      " 0.00821427 0.00821068 0.00820711 0.00820355 0.00820001 0.00819648\n",
      " 0.00819296 0.00818945 0.00818596 0.00818249 0.00817902 0.00817557\n",
      " 0.00817213 0.00816871 0.0081653  0.0081619  0.00815851 0.00815514\n",
      " 0.00815178 0.00814843 0.0081451  0.00814178 0.00813847 0.00813517\n",
      " 0.00813189 0.00812862 0.00812536 0.00812212 0.00811888 0.00811566\n",
      " 0.00811245 0.00810926 0.00810607 0.0081029  0.00809974 0.00809659\n",
      " 0.00809346 0.00809033 0.00808722 0.00808412 0.00808103 0.00807796\n",
      " 0.00807489 0.00807184 0.0080688  0.00806577 0.00806275 0.00805975\n",
      " 0.00805675 0.00805377 0.0080508  0.00804784 0.00804489 0.00804195\n",
      " 0.00803902 0.00803611 0.00803321 0.00803031 0.00802743 0.00802456\n",
      " 0.0080217  0.00801885 0.00801601 0.00801318 0.00801037 0.00800756\n",
      " 0.00800477 0.00800198 0.00799921 0.00799645 0.00799369 0.00799095\n",
      " 0.00798822 0.0079855  0.00798279 0.00798009 0.0079774  0.00797472\n",
      " 0.00797205 0.00796939 0.00796674 0.00796411 0.00796148 0.00795886\n",
      " 0.00795625 0.00795365 0.00795106 0.00794848 0.00794592 0.00794336\n",
      " 0.00794081 0.00793827 0.00793574 0.00793322 0.00793071 0.00792821\n",
      " 0.00792572 0.00792324 0.00792076 0.0079183  0.00791585 0.0079134\n",
      " 0.00791097 0.00790854]\n"
     ]
    }
   ],
   "source": [
    "# Computing final theta values and cost/losses for training and validation set\n",
    "\n",
    "theta003, cost_history003, cost_test003 = gradient_descent(X, y, theta003, alpha003, iterations, Lambda)\n",
    "print('Final value of theta=', theta003)\n",
    "print('cost_history =', cost_history003)\n",
    "print('cost_test =', cost_test003)"
   ]
  },
  {
   "cell_type": "code",
   "execution_count": 83,
   "id": "cc5345a5-8a12-4fbf-9ebf-344a002993ec",
   "metadata": {},
   "outputs": [
    {
     "data": {
      "text/plain": [
       "Text(0.5, 1.0, 'Convergence of Gradient Descent')"
      ]
     },
     "execution_count": 83,
     "metadata": {},
     "output_type": "execute_result"
    },
    {
     "data": {
      "image/png": "[encoded data removed]",
      "text/plain": [
       "<Figure size 1000x600 with 1 Axes>"
      ]
     },
     "metadata": {},
     "output_type": "display_data"
    }
   ],
   "source": [
    "plt.plot(range(1, iterations + 1),cost_history003, color='green', label= 'Loss for Training Set')\n",
    "plt.plot(range(1, iterations + 1),cost_test003, color='red', label= 'Loss for Validation Set')\n",
    "plt.rcParams[\"figure.figsize\"] = (10,6)\n",
    "plt.grid()\n",
    "plt.legend()\n",
    "plt.xlabel('Number of Iterations')\n",
    "plt.ylabel('Cost (J)')\n",
    "plt.title('Convergence of Gradient Descent')"
   ]
  },
  {
   "cell_type": "markdown",
   "id": "1773527c",
   "metadata": {},
   "source": [
    "## To improve the model in Problem 2a, the code for the loss and gradient functions used for the training set were updated by adding a regularization term. This was done by including a parameter penalty in the loss function or by modifying the update logic for gradient descent.\n",
    "\n",
    "## The cost versus iteration plots, which encompass both training and evaluation losses, exhibit a similar pattern for problems 3a and 2a (with either standardization or normalization).\n",
    "\n",
    "## As previous, we see that for learning rate 0.099, convergence is faster. Also compared to standard scaler ( code is in Homework-1_Problem-3a (Standardization)), cost is lower at the same iteration for normalization. So, overall, normalization shows better performance than standardization.\n",
    "\n",
    "\n",
    "\n"
   ]
  }
 ],
 "metadata": {
  "kernelspec": {
   "display_name": "Python 3 (ipykernel)",
   "language": "python",
   "name": "python3"
  },
  "language_info": {
   "codemirror_mode": {
    "name": "ipython",
    "version": 3
   },
   "file_extension": ".py",
   "mimetype": "text/x-python",
   "name": "python",
   "nbconvert_exporter": "python",
   "pygments_lexer": "ipython3",
   "version": "3.9.13"
  }
 },
 "nbformat": 4,
 "nbformat_minor": 5
}
