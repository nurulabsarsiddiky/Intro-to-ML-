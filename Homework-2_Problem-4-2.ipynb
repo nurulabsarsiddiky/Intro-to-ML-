{
 "cells": [
  {
   "cell_type": "code",
   "execution_count": 14,
   "id": "bc40fa4d-98f9-42e6-943e-2df5ca30a4b0",
   "metadata": {},
   "outputs": [],
   "source": [
    "#importing libraries for numpy, plot and pandas\n",
    "\n",
    "import numpy as np\n",
    "import matplotlib.pyplot as plt\n",
    "import pandas as pd\n",
    "from sklearn.linear_model import LogisticRegression\n",
    "from sklearn. model_selection import KFold\n",
    "from sklearn. model_selection import cross_val_score \n",
    "from sklearn.linear_model import LogisticRegression \n",
    "from sklearn import datasets\n",
    "from sklearn.metrics import confusion_matrix\n",
    "from sklearn.metrics import classification_report"
   ]
  },
  {
   "cell_type": "code",
   "execution_count": 15,
   "id": "060c65d7-3592-4761-8ebf-00cd4d3849b8",
   "metadata": {},
   "outputs": [],
   "source": [
    "#reading the dataset\n",
    "\n",
    "dataset = datasets.load_breast_cancer()\n",
    "X = dataset.data\n",
    "Y = dataset.target"
   ]
  },
  {
   "cell_type": "code",
   "execution_count": 16,
   "id": "beecc673-7921-4f6a-bdc1-1396636c65cd",
   "metadata": {},
   "outputs": [],
   "source": [
    "#scaling the input data using standardiztion\n",
    "\n",
    "from sklearn.preprocessing import StandardScaler\n",
    "stdScale_X = StandardScaler()\n",
    "X = stdScale_X.fit_transform(X)"
   ]
  },
  {
   "cell_type": "code",
   "execution_count": 17,
   "id": "8eeb8b15-b878-4396-a04e-34de8e13bfd2",
   "metadata": {},
   "outputs": [
    {
     "name": "stdout",
     "output_type": "stream",
     "text": [
      "Accuracy: 0.966667\n"
     ]
    }
   ],
   "source": [
    "# K-fold cross-validation for your training and validation\n",
    "# defining the value of K = 5\n",
    "# C is the Inverse of regularization strength(lambda)\n",
    "# taking C = 10\n",
    "\n",
    "kfold = KFold(n_splits=5,random_state=0,shuffle=True)\n",
    "model = LogisticRegression(C=10, solver='liblinear')\n",
    "results = cross_val_score(model,X,Y,cv=kfold)\n",
    "print(\"Accuracy: %f\" % (results.mean()))"
   ]
  },
  {
   "cell_type": "code",
   "execution_count": 18,
   "id": "40c0d0c4-f743-4816-927e-f7368d57c5a9",
   "metadata": {},
   "outputs": [
    {
     "name": "stdout",
     "output_type": "stream",
     "text": [
      "Accuracy: 0.971930\n"
     ]
    }
   ],
   "source": [
    "# K-fold cross-validation for your training and validation\n",
    "# defining the value of K = 5\n",
    "# taking C = 1 (default value)\n",
    "\n",
    "kfold = KFold(n_splits=5,random_state=0,shuffle=True)\n",
    "model = LogisticRegression(C=1, solver='liblinear')\n",
    "results = cross_val_score(model,X,Y,cv=kfold)\n",
    "print(\"Accuracy: %f\" % (results.mean()))"
   ]
  },
  {
   "cell_type": "code",
   "execution_count": 19,
   "id": "85441318-96d2-4f0e-9b8f-034391e94be0",
   "metadata": {},
   "outputs": [
    {
     "name": "stdout",
     "output_type": "stream",
     "text": [
      "Accuracy: 0.978947\n"
     ]
    }
   ],
   "source": [
    "# K-fold cross-validation for your training and validation\n",
    "# defining the value of K = 5\n",
    "# taking C = .1\n",
    "\n",
    "kfold = KFold(n_splits=5,random_state=0,shuffle=True)\n",
    "model = LogisticRegression(C=.1, solver='liblinear')\n",
    "results = cross_val_score(model,X,Y,cv=kfold)\n",
    "print(\"Accuracy: %f\" % (results.mean()))"
   ]
  },
  {
   "cell_type": "code",
   "execution_count": 20,
   "id": "ef4462e7-7bee-4f98-bbd6-eb26e8c4029d",
   "metadata": {},
   "outputs": [
    {
     "name": "stdout",
     "output_type": "stream",
     "text": [
      "Accuracy: 0.968406\n"
     ]
    }
   ],
   "source": [
    "# K-fold cross-validation for your training and validation\n",
    "# defining the value of K = 5\n",
    "# taking C = .01\n",
    "\n",
    "kfold = KFold(n_splits=5,random_state=0,shuffle=True)\n",
    "model = LogisticRegression(C=.01, solver='liblinear')\n",
    "results = cross_val_score(model,X,Y,cv=kfold)\n",
    "print(\"Accuracy: %f\" % (results.mean()))"
   ]
  },
  {
   "cell_type": "code",
   "execution_count": 21,
   "id": "6f8f8914-9562-4fb7-a77d-23430a2a9de0",
   "metadata": {},
   "outputs": [
    {
     "name": "stdout",
     "output_type": "stream",
     "text": [
      "Accuracy: 0.942090\n"
     ]
    }
   ],
   "source": [
    "# K-fold cross-validation for your training and validation\n",
    "# defining the value of K = 5\n",
    "# taking C = .001\n",
    "\n",
    "kfold = KFold(n_splits=5,random_state=0,shuffle=True)\n",
    "model = LogisticRegression(C=.001, solver='liblinear')\n",
    "results = cross_val_score(model,X,Y,cv=kfold)\n",
    "print(\"Accuracy: %f\" % (results.mean()))"
   ]
  },
  {
   "cell_type": "code",
   "execution_count": 22,
   "id": "7f8232ad-451d-4bfb-bae5-863f52f6ab62",
   "metadata": {},
   "outputs": [
    {
     "name": "stdout",
     "output_type": "stream",
     "text": [
      "Accuracy: 0.971930\n"
     ]
    }
   ],
   "source": [
    "# K-fold cross-validation for your training and validation\n",
    "# defining the value of K = 10\n",
    "# taking C = 10\n",
    "\n",
    "kfold = KFold(n_splits=10,random_state=0,shuffle=True)\n",
    "model = LogisticRegression(C=10, solver='liblinear')\n",
    "results = cross_val_score(model,X,Y,cv=kfold)\n",
    "print(\"Accuracy: %f\" % (results.mean()))"
   ]
  },
  {
   "cell_type": "code",
   "execution_count": 23,
   "id": "3487a55e-207e-41ba-adbd-8b2f18a26430",
   "metadata": {},
   "outputs": [
    {
     "name": "stdout",
     "output_type": "stream",
     "text": [
      "Accuracy: 0.978947\n"
     ]
    }
   ],
   "source": [
    "# K-fold cross-validation for your training and validation\n",
    "# defining the value of K = 10\n",
    "# taking C = 1\n",
    "\n",
    "kfold = KFold(n_splits=10,random_state=0,shuffle=True)\n",
    "model = LogisticRegression(C=1, solver='liblinear')\n",
    "results = cross_val_score(model,X,Y,cv=kfold)\n",
    "print(\"Accuracy: %f\" % (results.mean()))"
   ]
  },
  {
   "cell_type": "code",
   "execution_count": 24,
   "id": "5787d8f9-39ee-41f8-998b-4b6e1defd67a",
   "metadata": {},
   "outputs": [
    {
     "name": "stdout",
     "output_type": "stream",
     "text": [
      "Accuracy: 0.978947\n"
     ]
    }
   ],
   "source": [
    "# K-fold cross-validation for your training and validation\n",
    "# defining the value of K = 10\n",
    "# taking C = .1\n",
    "\n",
    "kfold = KFold(n_splits=10,random_state=0,shuffle=True)\n",
    "model = LogisticRegression(C=.1, solver='liblinear')\n",
    "results = cross_val_score(model,X,Y,cv=kfold)\n",
    "print(\"Accuracy: %f\" % (results.mean()))"
   ]
  },
  {
   "cell_type": "code",
   "execution_count": 25,
   "id": "620e122a-2f84-426c-9cf4-7526556504e7",
   "metadata": {},
   "outputs": [
    {
     "name": "stdout",
     "output_type": "stream",
     "text": [
      "Accuracy: 0.968390\n"
     ]
    }
   ],
   "source": [
    "# K-fold cross-validation for your training and validation\n",
    "# defining the value of K = 10\n",
    "# taking C = .01\n",
    "\n",
    "kfold = KFold(n_splits=10,random_state=0,shuffle=True)\n",
    "model = LogisticRegression(C=.01, solver='liblinear')\n",
    "results = cross_val_score(model,X,Y,cv=kfold)\n",
    "print(\"Accuracy: %f\" % (results.mean()))"
   ]
  },
  {
   "cell_type": "code",
   "execution_count": 26,
   "id": "b8894ce6-2eab-453d-a46c-69e3bdb4fa2c",
   "metadata": {},
   "outputs": [
    {
     "name": "stdout",
     "output_type": "stream",
     "text": [
      "Accuracy: 0.942074\n"
     ]
    }
   ],
   "source": [
    "# K-fold cross-validation for your training and validation\n",
    "# defining the value of K = 10\n",
    "# taking C = .001\n",
    "\n",
    "kfold = KFold(n_splits=10,random_state=0,shuffle=True)\n",
    "model = LogisticRegression(C=.001, solver='liblinear')\n",
    "results = cross_val_score(model,X,Y,cv=kfold)\n",
    "print(\"Accuracy: %f\" % (results.mean()))"
   ]
  }
 ],
 "metadata": {
  "kernelspec": {
   "display_name": "Python 3 (ipykernel)",
   "language": "python",
   "name": "python3"
  },
  "language_info": {
   "codemirror_mode": {
    "name": "ipython",
    "version": 3
   },
   "file_extension": ".py",
   "mimetype": "text/x-python",
   "name": "python",
   "nbconvert_exporter": "python",
   "pygments_lexer": "ipython3",
   "version": "3.10.4"
  }
 },
 "nbformat": 4,
 "nbformat_minor": 5
}
