{
  "nbformat": 4,
  "nbformat_minor": 0,
  "metadata": {
    "colab": {
      "provenance": []
    },
    "kernelspec": {
      "name": "python3",
      "display_name": "Python 3"
    },
    "language_info": {
      "name": "python"
    }
  },
  "cells": [
    {
      "cell_type": "markdown",
      "source": [
        "In this homework, we will use a dataset provided: “D3.csv” Let the first three columns of the data set be separate explanatory variables x1, x2, x3. Let the fourth column be the dependent variable Y. (Note: We will not use the built-in function from ML libraries for gradient descent, you have to implement it yourself.)\n",
        "\n",
        "# Problem 1.\n",
        "\n",
        "Develop a code that run linear regression with gradient decent algorithm for each of the explanatory variables in isolation. In this case, we assume that in each iteration, only one explanatory variable (either X1, or X2, or X3) is explaining the output. Basically, we need to do three different training, one per each explanatory variable. For the learning rate, will explore different values between 0.1 and 0.01 . Initialize our parameters to zero (theta to zero). \n",
        "\n",
        "1. Will report the linear model we found for each explanatory variable.\n",
        "2. Will plot the final regression model and loss over the iteration per each explanatory variable.\n",
        "3. Which explanatory variable has the lower loss (cost) for explaining the output (Y)?\n",
        "4. Based on our training observations, we will describe the impact of the different learning rates on the final loss and number of training iteration."
      ],
      "metadata": {
        "id": "_cBoB7ZJ462s"
      }
    },
    {
      "cell_type": "markdown",
      "source": [
        "Mounting Google Drive"
      ],
      "metadata": {
        "id": "l2hDkv6SjzO3"
      }
    },
    {
      "cell_type": "code",
      "execution_count": 186,
      "metadata": {
        "colab": {
          "base_uri": "https://localhost:8080/",
          "height": 0
        },
        "id": "ZCDsjj07VtW_",
        "outputId": "16a90bcf-fd73-4f84-e6c7-cc0884ae9c91"
      },
      "outputs": [
        {
          "output_type": "stream",
          "name": "stdout",
          "text": [
            "Drive already mounted at /content/gdrive; to attempt to forcibly remount, call drive.mount(\"/content/gdrive\", force_remount=True).\n"
          ]
        }
      ],
      "source": [
        "from google.colab import drive\n",
        "drive.mount(\"/content/gdrive\")"
      ]
    },
    {
      "cell_type": "markdown",
      "source": [
        "Loading required python libraries"
      ],
      "metadata": {
        "id": "oZYzFMBQj8xg"
      }
    },
    {
      "cell_type": "code",
      "source": [
        "import numpy as np\n",
        "import pandas as pd\n",
        "import matplotlib.pyplot as plt"
      ],
      "metadata": {
        "id": "crYataHkV9G9"
      },
      "execution_count": 187,
      "outputs": []
    },
    {
      "cell_type": "markdown",
      "source": [
        "Reading dataset from google drive"
      ],
      "metadata": {
        "id": "yI1wj3uPkCos"
      }
    },
    {
      "cell_type": "code",
      "source": [
        "#reading from table\n",
        "df = pd.read_csv(\"/content/gdrive/MyDrive/Datasets/D3.csv\")\n",
        "X1 = df.values[:, 0]                   \n",
        "X2 = df.values[:, 1]                     \n",
        "X3 = df.values[:, 2]                     \n",
        "y = df.values[:, 3]                      \n",
        "m = len(y)\n",
        "print('X1 = ', X1[: 5]) \n",
        "print('X2 = ', X2[: 5])\n",
        "print('X3 = ', X3[: 5])\n",
        "print('y = ', y[: 5])\n",
        "print('m = ', m)"
      ],
      "metadata": {
        "colab": {
          "base_uri": "https://localhost:8080/",
          "height": 0
        },
        "id": "djVftPZ3WI7S",
        "outputId": "fd3c38e6-b667-4376-eef6-8d4f295e1f54"
      },
      "execution_count": 188,
      "outputs": [
        {
          "output_type": "stream",
          "name": "stdout",
          "text": [
            "X1 =  [0.         0.04040404 0.08080808 0.12121212 0.16161616]\n",
            "X2 =  [3.44       0.1349495  0.82989899 1.52484848 2.21979798]\n",
            "X3 =  [0.44       0.88848485 1.3369697  1.78545454 2.23393939]\n",
            "y =  [4.38754501 2.6796499  2.96848981 3.25406475 3.53637472]\n",
            "m =  100\n"
          ]
        }
      ]
    },
    {
      "cell_type": "markdown",
      "source": [
        "Plot-  Output(Y) versus Input X1 (first explanatory variable)."
      ],
      "metadata": {
        "id": "anzgjIhakSHc"
      }
    },
    {
      "cell_type": "code",
      "source": [
        "plt.scatter(X1,y, color='red',marker= '+')\n",
        "plt.grid()\n",
        "plt.rcParams[\"figure.figsize\"] = (10,6)\n",
        "plt.xlabel('Variable 1')\n",
        "plt.ylabel('Output')\n",
        "plt.title('Scatter plot of training data')"
      ],
      "metadata": {
        "colab": {
          "base_uri": "https://localhost:8080/",
          "height": 422
        },
        "id": "Wrz43VvjWRvZ",
        "outputId": "cab3a74f-bf37-4fd2-c474-9486bd600aff"
      },
      "execution_count": 189,
      "outputs": [
        {
          "output_type": "execute_result",
          "data": {
            "text/plain": [
              "Text(0.5, 1.0, 'Scatter plot of training data')"
            ]
          },
          "metadata": {},
          "execution_count": 189
        },
        {
          "output_type": "display_data",
          "data": {
            "text/plain": [
              "<Figure size 720x432 with 1 Axes>"
            ],
            "image/png": "[encoded data removed]"
          },
          "metadata": {
            "needs_background": "light"
          }
        }
      ]
    },
    {
      "cell_type": "markdown",
      "source": [
        "Plot- Output(Y) versus Input X2 (second explanatory variable)."
      ],
      "metadata": {
        "id": "MzyRphtukoJm"
      }
    },
    {
      "cell_type": "code",
      "source": [
        "plt.scatter(X2,y, color='red',marker= '+')\n",
        "plt.grid()\n",
        "plt.rcParams[\"figure.figsize\"] = (10,6)\n",
        "plt.xlabel('Variable 2')\n",
        "plt.ylabel('Output')\n",
        "plt.title('Scatter plot of training data')"
      ],
      "metadata": {
        "colab": {
          "base_uri": "https://localhost:8080/",
          "height": 422
        },
        "id": "K3mptoJ0WWZx",
        "outputId": "8d34cafc-f1d6-4ef4-9379-20f5b2fabbfb"
      },
      "execution_count": 190,
      "outputs": [
        {
          "output_type": "execute_result",
          "data": {
            "text/plain": [
              "Text(0.5, 1.0, 'Scatter plot of training data')"
            ]
          },
          "metadata": {},
          "execution_count": 190
        },
        {
          "output_type": "display_data",
          "data": {
            "text/plain": [
              "<Figure size 720x432 with 1 Axes>"
            ],
            "image/png": "[encoded data removed]"
          },
          "metadata": {
            "needs_background": "light"
          }
        }
      ]
    },
    {
      "cell_type": "markdown",
      "source": [
        "Plot- Output(Y) versus Input X3 (third explanatory variable)."
      ],
      "metadata": {
        "id": "fy1I2-yVkuOi"
      }
    },
    {
      "cell_type": "code",
      "source": [
        "plt.scatter(X3,y, color='red',marker= '+')\n",
        "plt.grid()\n",
        "plt.rcParams[\"figure.figsize\"] = (10,6)\n",
        "plt.xlabel('Variable 3')\n",
        "plt.ylabel('Output')\n",
        "plt.title('Scatter plot of training data')"
      ],
      "metadata": {
        "colab": {
          "base_uri": "https://localhost:8080/",
          "height": 422
        },
        "id": "uoqCX0WBWX6V",
        "outputId": "399a34dc-edd5-4b09-cdeb-427b937e1834"
      },
      "execution_count": 191,
      "outputs": [
        {
          "output_type": "execute_result",
          "data": {
            "text/plain": [
              "Text(0.5, 1.0, 'Scatter plot of training data')"
            ]
          },
          "metadata": {},
          "execution_count": 191
        },
        {
          "output_type": "display_data",
          "data": {
            "text/plain": [
              "<Figure size 720x432 with 1 Axes>"
            ],
            "image/png": "[encoded data removed]"
          },
          "metadata": {
            "needs_background": "light"
          }
        }
      ]
    },
    {
      "cell_type": "code",
      "source": [
        "X_0 = np.ones((m, 1))          \n",
        "X_0[:5]"
      ],
      "metadata": {
        "colab": {
          "base_uri": "https://localhost:8080/",
          "height": 0
        },
        "id": "M_xcSuYwWgcY",
        "outputId": "b187419f-8e4f-49d9-bbd8-2617c67efd5c"
      },
      "execution_count": 192,
      "outputs": [
        {
          "output_type": "execute_result",
          "data": {
            "text/plain": [
              "array([[1.],\n",
              "       [1.],\n",
              "       [1.],\n",
              "       [1.],\n",
              "       [1.]])"
            ]
          },
          "metadata": {},
          "execution_count": 192
        }
      ]
    },
    {
      "cell_type": "code",
      "source": [
        "X_1 = X1.reshape(m, 1)           \n",
        "X_2 = X2.reshape(m, 1)\n",
        "X_3 = X3.reshape(m, 1)\n",
        "print('X_1 = ', X_1[: 5])\n",
        "print('X_2 = ', X_2[: 5])\n",
        "print('X_3 = ', X_3[: 5])"
      ],
      "metadata": {
        "colab": {
          "base_uri": "https://localhost:8080/",
          "height": 0
        },
        "id": "KwvDVwJTWqDM",
        "outputId": "d956fe31-13b8-497a-ba2d-5e57b7771055"
      },
      "execution_count": 193,
      "outputs": [
        {
          "output_type": "stream",
          "name": "stdout",
          "text": [
            "X_1 =  [[0.        ]\n",
            " [0.04040404]\n",
            " [0.08080808]\n",
            " [0.12121212]\n",
            " [0.16161616]]\n",
            "X_2 =  [[3.44      ]\n",
            " [0.1349495 ]\n",
            " [0.82989899]\n",
            " [1.52484848]\n",
            " [2.21979798]]\n",
            "X_3 =  [[0.44      ]\n",
            " [0.88848485]\n",
            " [1.3369697 ]\n",
            " [1.78545454]\n",
            " [2.23393939]]\n"
          ]
        }
      ]
    },
    {
      "cell_type": "code",
      "source": [
        "X1 = np.hstack((X_0, X_1))\n",
        "X2 = np.hstack((X_0, X_2))\n",
        "X3 = np.hstack((X_0, X_3))\n",
        "print('X1 = ', X1[: 5])\n",
        "print('X2 = ', X2[: 5])\n",
        "print('X3 = ', X3[: 5])"
      ],
      "metadata": {
        "colab": {
          "base_uri": "https://localhost:8080/",
          "height": 0
        },
        "id": "VQsrAolgWvCz",
        "outputId": "7495c05f-a1ac-4e5b-d872-83a52c713486"
      },
      "execution_count": 194,
      "outputs": [
        {
          "output_type": "stream",
          "name": "stdout",
          "text": [
            "X1 =  [[1.         0.        ]\n",
            " [1.         0.04040404]\n",
            " [1.         0.08080808]\n",
            " [1.         0.12121212]\n",
            " [1.         0.16161616]]\n",
            "X2 =  [[1.         3.44      ]\n",
            " [1.         0.1349495 ]\n",
            " [1.         0.82989899]\n",
            " [1.         1.52484848]\n",
            " [1.         2.21979798]]\n",
            "X3 =  [[1.         0.44      ]\n",
            " [1.         0.88848485]\n",
            " [1.         1.3369697 ]\n",
            " [1.         1.78545454]\n",
            " [1.         2.23393939]]\n"
          ]
        }
      ]
    },
    {
      "cell_type": "code",
      "source": [
        "theta = np.zeros(2)\n",
        "theta"
      ],
      "metadata": {
        "colab": {
          "base_uri": "https://localhost:8080/",
          "height": 0
        },
        "id": "KANo6pO8Wwrv",
        "outputId": "a956c027-b1c9-4532-cbce-602a8b775be4"
      },
      "execution_count": 195,
      "outputs": [
        {
          "output_type": "execute_result",
          "data": {
            "text/plain": [
              "array([0., 0.])"
            ]
          },
          "metadata": {},
          "execution_count": 195
        }
      ]
    },
    {
      "cell_type": "markdown",
      "source": [
        "Cost Function Definition"
      ],
      "metadata": {
        "id": "KHcSQ7f8pSZb"
      }
    },
    {
      "cell_type": "code",
      "source": [
        "def compute_cost(A, y, theta):\n",
        "    predictions = A.dot(theta)\n",
        "    errors = np.subtract(predictions, y)\n",
        "    sqrErrors = np.square(errors)\n",
        "    J = 1 / (2 * m) * np.sum(sqrErrors)\n",
        "    return J"
      ],
      "metadata": {
        "id": "C6Be3S4kW6rJ"
      },
      "execution_count": 196,
      "outputs": []
    },
    {
      "cell_type": "markdown",
      "source": [
        "Gradient Descent Function Definition"
      ],
      "metadata": {
        "id": "4SOYmHlvpXhi"
      }
    },
    {
      "cell_type": "code",
      "source": [
        "def gradient_descent(A, y, theta, alpha, iterations):\n",
        "    cost_history = np.zeros(iterations)\n",
        "    for i in range(iterations):\n",
        "        predictions = A.dot(theta)\n",
        "        errors = np.subtract(predictions, y)\n",
        "        sum_delta = (alpha / m) * A.transpose().dot(errors);\n",
        "        theta = theta - sum_delta;\n",
        "        cost_history[i] = compute_cost(A, y, theta)\n",
        "    \n",
        "    return theta, cost_history"
      ],
      "metadata": {
        "id": "BG7CHQvOXFd-"
      },
      "execution_count": 197,
      "outputs": []
    },
    {
      "cell_type": "markdown",
      "source": [
        "Initial Cost Calculation for initial model parameter theta"
      ],
      "metadata": {
        "id": "vwPRKDVqphXT"
      }
    },
    {
      "cell_type": "code",
      "source": [
        "cost_1 = compute_cost(X1, y, theta)\n",
        "cost_2 = compute_cost(X2, y, theta)\n",
        "cost_3 = compute_cost(X3, y, theta)\n",
        "print('The cost for given values of theta and Variable 1 =', cost_1)\n",
        "print('The cost for given values of theta and Variable 2 =', cost_2)\n",
        "print('The cost for given values of theta and Variable 3 =', cost_3)"
      ],
      "metadata": {
        "colab": {
          "base_uri": "https://localhost:8080/",
          "height": 0
        },
        "id": "Hg-PDHsCXK4I",
        "outputId": "c7ad803f-f42a-45bb-8460-5bac071de7b9"
      },
      "execution_count": 198,
      "outputs": [
        {
          "output_type": "stream",
          "name": "stdout",
          "text": [
            "The cost for given values of theta and Variable 1 = 5.524438459196242\n",
            "The cost for given values of theta and Variable 2 = 5.524438459196242\n",
            "The cost for given values of theta and Variable 3 = 5.524438459196242\n"
          ]
        }
      ]
    },
    {
      "cell_type": "code",
      "source": [
        "theta = [0., 0.]\n",
        "iterations = 1800;\n",
        "alpha = 0.02"
      ],
      "metadata": {
        "id": "2KtRjy3JqNz9"
      },
      "execution_count": 199,
      "outputs": []
    },
    {
      "cell_type": "markdown",
      "source": [
        "### Reporting the linear model for each explanatory variable."
      ],
      "metadata": {
        "id": "58PtHO5o8lx7"
      }
    },
    {
      "cell_type": "code",
      "source": [
        "theta, cost_history = gradient_descent(X1, y, theta, alpha, iterations)"
      ],
      "metadata": {
        "id": "MIZvaAZL9X0J"
      },
      "execution_count": 200,
      "outputs": []
    },
    {
      "cell_type": "code",
      "source": [
        "print(\"y1_bar=\",theta[1],\"*(X1) +\",theta[0])"
      ],
      "metadata": {
        "colab": {
          "base_uri": "https://localhost:8080/",
          "height": 0
        },
        "id": "kH-XrZE7_nil",
        "outputId": "bd70b3a6-2a8f-4baf-d9f2-bfdd2e8959da"
      },
      "execution_count": 201,
      "outputs": [
        {
          "output_type": "stream",
          "name": "stdout",
          "text": [
            "y1_bar= -2.0375706765834307 *(X1) + 5.925980914136333\n"
          ]
        }
      ]
    },
    {
      "cell_type": "code",
      "source": [
        "theta, cost_history = gradient_descent(X2, y, theta, alpha, iterations)"
      ],
      "metadata": {
        "id": "YyZgCaswAqo-"
      },
      "execution_count": 202,
      "outputs": []
    },
    {
      "cell_type": "code",
      "source": [
        "print(\"y2_bar=\",theta[1],\"*(X2) +\",theta[0])"
      ],
      "metadata": {
        "colab": {
          "base_uri": "https://localhost:8080/",
          "height": 0
        },
        "id": "FK9Qc0XD_Y4L",
        "outputId": "8317757e-7545-447d-8470-2631301bb7c0"
      },
      "execution_count": 203,
      "outputs": [
        {
          "output_type": "stream",
          "name": "stdout",
          "text": [
            "y2_bar= 0.5569008366761438 *(X2) + 0.7378763518911728\n"
          ]
        }
      ]
    },
    {
      "cell_type": "code",
      "source": [
        "theta, cost_history = gradient_descent(X3, y, theta, alpha, iterations)"
      ],
      "metadata": {
        "id": "gQUDC9IuBBxF"
      },
      "execution_count": 204,
      "outputs": []
    },
    {
      "cell_type": "code",
      "source": [
        "print(\"y3_bar=\",theta[1],\"*(X3) +\",theta[0])"
      ],
      "metadata": {
        "colab": {
          "base_uri": "https://localhost:8080/",
          "height": 0
        },
        "id": "LPTcMV95BFr7",
        "outputId": "d59445e3-afad-42da-9601-6f01173dfe97"
      },
      "execution_count": 185,
      "outputs": [
        {
          "output_type": "stream",
          "name": "stdout",
          "text": [
            "y3_bar= -2.0375706765834307 *(X3) + 5.925980914136333\n"
          ]
        }
      ]
    },
    {
      "cell_type": "markdown",
      "source": [
        "### Plot of linear model and loss over the iteration for explanatory variable 1"
      ],
      "metadata": {
        "id": "WLPl0M2MqBTc"
      }
    },
    {
      "cell_type": "code",
      "source": [
        "theta, cost_history = gradient_descent(X1, y, theta, alpha, iterations)\n",
        "print('Final value of theta (Variable 1)=', theta)\n",
        "print('cost_history (Variable 1) =', cost_history)"
      ],
      "metadata": {
        "colab": {
          "base_uri": "https://localhost:8080/",
          "height": 0
        },
        "id": "PjpVQAJigLm1",
        "outputId": "24e20856-e369-41d7-fcb4-b569f5d97506"
      },
      "execution_count": 214,
      "outputs": [
        {
          "output_type": "stream",
          "name": "stdout",
          "text": [
            "Final value of theta (Variable 1)= [ 5.92688076 -2.0379209 ]\n",
            "cost_history (Variable 1) = [2.47518761 2.41302725 2.3627055  ... 0.98499323 0.98499323 0.98499323]\n"
          ]
        }
      ]
    },
    {
      "cell_type": "code",
      "source": [
        "plt.scatter(X1[:,1], y, color='red', marker= '+', label= 'Training Data')\n",
        "plt.plot(X1[:,1],X1.dot(theta), color='green', label='Linear Regression')\n",
        "plt.rcParams[\"figure.figsize\"] = (10,6)\n",
        "plt.grid()\n",
        "plt.xlabel('Variable 1')\n",
        "plt.ylabel('Output')\n",
        "plt.title('Linear Regression Fit')\n",
        "plt.legend()"
      ],
      "metadata": {
        "colab": {
          "base_uri": "https://localhost:8080/",
          "height": 422
        },
        "id": "zX_x4AthgZn9",
        "outputId": "c7eadfcb-c451-4514-9374-bc6557650238"
      },
      "execution_count": 215,
      "outputs": [
        {
          "output_type": "execute_result",
          "data": {
            "text/plain": [
              "<matplotlib.legend.Legend at 0x7f5ee300a580>"
            ]
          },
          "metadata": {},
          "execution_count": 215
        },
        {
          "output_type": "display_data",
          "data": {
            "text/plain": [
              "<Figure size 720x432 with 1 Axes>"
            ],
            "image/png": "[encoded data removed]"
          },
          "metadata": {
            "needs_background": "light"
          }
        }
      ]
    },
    {
      "cell_type": "code",
      "source": [
        "plt.plot(range(1, iterations + 1),cost_history, color='blue')\n",
        "plt.rcParams[\"figure.figsize\"] = (10,6)\n",
        "plt.grid()\n",
        "plt.xlabel('Number of iterations')\n",
        "plt.ylabel('Cost (J)')\n",
        "plt.title('Convergence of gradient descent')"
      ],
      "metadata": {
        "colab": {
          "base_uri": "https://localhost:8080/",
          "height": 422
        },
        "id": "sDZhjBLZglyG",
        "outputId": "e02fa6cd-4d2f-48a1-dcf8-989a80f54322"
      },
      "execution_count": 216,
      "outputs": [
        {
          "output_type": "execute_result",
          "data": {
            "text/plain": [
              "Text(0.5, 1.0, 'Convergence of gradient descent')"
            ]
          },
          "metadata": {},
          "execution_count": 216
        },
        {
          "output_type": "display_data",
          "data": {
            "text/plain": [
              "<Figure size 720x432 with 1 Axes>"
            ],
            "image/png": "[encoded data removed]"
          },
          "metadata": {
            "needs_background": "light"
          }
        }
      ]
    },
    {
      "cell_type": "markdown",
      "source": [
        "###Plot of linear model and loss over the iteration for explanatory variable 2"
      ],
      "metadata": {
        "id": "M7IIKbP6rE7D"
      }
    },
    {
      "cell_type": "code",
      "source": [
        "theta, cost_history = gradient_descent(X2, y, theta, alpha, iterations)\n",
        "print('Final value of theta (Variable 2)=', theta)\n",
        "print('cost_history (Variable 2) =', cost_history)"
      ],
      "metadata": {
        "colab": {
          "base_uri": "https://localhost:8080/",
          "height": 0
        },
        "id": "EzbKAiNZhFV8",
        "outputId": "2cf0cafe-b94c-48e4-f339-dae89649faf9"
      },
      "execution_count": 218,
      "outputs": [
        {
          "output_type": "stream",
          "name": "stdout",
          "text": [
            "Final value of theta (Variable 2)= [0.73606104 0.55760737]\n",
            "cost_history (Variable 2) = [3.59936644 3.59936643 3.59936643 ... 3.59936602 3.59936602 3.59936602]\n"
          ]
        }
      ]
    },
    {
      "cell_type": "code",
      "source": [
        "plt.scatter(X2[:,1], y, color='red', marker= '+', label= 'Training Data')\n",
        "plt.plot(X2[:,1],X2.dot(theta), color='green', label='Linear Regression')\n",
        "plt.rcParams[\"figure.figsize\"] = (10,6)\n",
        "plt.grid()\n",
        "plt.xlabel('Variable 2')\n",
        "plt.ylabel('Output')\n",
        "plt.title('Linear Regression Fit')\n",
        "plt.legend()"
      ],
      "metadata": {
        "colab": {
          "base_uri": "https://localhost:8080/",
          "height": 422
        },
        "id": "um0mnT8EhOwA",
        "outputId": "b7b0ac1a-ac2a-467e-fd8e-bb6013895053"
      },
      "execution_count": 219,
      "outputs": [
        {
          "output_type": "execute_result",
          "data": {
            "text/plain": [
              "<matplotlib.legend.Legend at 0x7f5ee312d730>"
            ]
          },
          "metadata": {},
          "execution_count": 219
        },
        {
          "output_type": "display_data",
          "data": {
            "text/plain": [
              "<Figure size 720x432 with 1 Axes>"
            ],
            "image/png": "[encoded data removed]"
          },
          "metadata": {
            "needs_background": "light"
          }
        }
      ]
    },
    {
      "cell_type": "code",
      "source": [
        "plt.plot(range(1, iterations + 1),cost_history, color='blue')\n",
        "plt.rcParams[\"figure.figsize\"] = (10,6)\n",
        "plt.grid()\n",
        "plt.xlabel('Number of iterations')\n",
        "plt.ylabel('Cost (J)')\n",
        "plt.title('Convergence of gradient descent')"
      ],
      "metadata": {
        "colab": {
          "base_uri": "https://localhost:8080/",
          "height": 422
        },
        "id": "pczPBocwhTyw",
        "outputId": "abc81a47-8161-4934-8baa-96c82234bc1e"
      },
      "execution_count": 220,
      "outputs": [
        {
          "output_type": "execute_result",
          "data": {
            "text/plain": [
              "Text(0.5, 1.0, 'Convergence of gradient descent')"
            ]
          },
          "metadata": {},
          "execution_count": 220
        },
        {
          "output_type": "display_data",
          "data": {
            "text/plain": [
              "<Figure size 720x432 with 1 Axes>"
            ],
            "image/png": "[encoded data removed]"
          },
          "metadata": {
            "needs_background": "light"
          }
        }
      ]
    },
    {
      "cell_type": "markdown",
      "source": [
        "### Plot of linear model and loss over the iteration for explanatory variable 3"
      ],
      "metadata": {
        "id": "thIUBJ5YrLLT"
      }
    },
    {
      "cell_type": "code",
      "source": [
        "theta, cost_history = gradient_descent(X3, y, theta, alpha, iterations)\n",
        "print('Final value of theta (Variable 3)=', theta)\n",
        "print('cost_history (Variable 3) =', cost_history)"
      ],
      "metadata": {
        "colab": {
          "base_uri": "https://localhost:8080/",
          "height": 0
        },
        "id": "TQd2WKyJhX2e",
        "outputId": "34f16255-6511-419c-de1b-5b3b28ebcd11"
      },
      "execution_count": 221,
      "outputs": [
        {
          "output_type": "stream",
          "name": "stdout",
          "text": [
            "Final value of theta (Variable 3)= [ 2.87075783 -0.52022017]\n",
            "cost_history (Variable 3) = [4.37067859 4.34058307 4.3160102  ... 3.62945118 3.62945118 3.62945118]\n"
          ]
        }
      ]
    },
    {
      "cell_type": "code",
      "source": [
        "plt.scatter(X3[:,1], y, color='red', marker= '+', label= 'Training Data')\n",
        "plt.plot(X3[:,1],X3.dot(theta), color='green', label='Linear Regression')\n",
        "plt.rcParams[\"figure.figsize\"] = (10,6)\n",
        "plt.grid()\n",
        "plt.xlabel('Variable 3')\n",
        "plt.ylabel('Output')\n",
        "plt.title('Linear Regression Fit')\n",
        "plt.legend()"
      ],
      "metadata": {
        "colab": {
          "base_uri": "https://localhost:8080/",
          "height": 422
        },
        "id": "ty9Hxj1BhP-p",
        "outputId": "19cb8813-23ff-4731-b501-c228fa4c42db"
      },
      "execution_count": 222,
      "outputs": [
        {
          "output_type": "execute_result",
          "data": {
            "text/plain": [
              "<matplotlib.legend.Legend at 0x7f5ee2ea8dc0>"
            ]
          },
          "metadata": {},
          "execution_count": 222
        },
        {
          "output_type": "display_data",
          "data": {
            "text/plain": [
              "<Figure size 720x432 with 1 Axes>"
            ],
            "image/png": "[encoded data removed]"
          },
          "metadata": {
            "needs_background": "light"
          }
        }
      ]
    },
    {
      "cell_type": "code",
      "source": [
        "plt.plot(range(1, iterations + 1),cost_history, color='blue')\n",
        "plt.rcParams[\"figure.figsize\"] = (10,6)\n",
        "plt.grid()\n",
        "plt.xlabel('Number of iterations')\n",
        "plt.ylabel('Cost (J)')\n",
        "plt.title('Convergence of gradient descent')"
      ],
      "metadata": {
        "colab": {
          "base_uri": "https://localhost:8080/",
          "height": 422
        },
        "id": "TzKqQT2Ihcp1",
        "outputId": "7061e519-6834-417e-9c7f-6c644c66dcc7"
      },
      "execution_count": 223,
      "outputs": [
        {
          "output_type": "execute_result",
          "data": {
            "text/plain": [
              "Text(0.5, 1.0, 'Convergence of gradient descent')"
            ]
          },
          "metadata": {},
          "execution_count": 223
        },
        {
          "output_type": "display_data",
          "data": {
            "text/plain": [
              "<Figure size 720x432 with 1 Axes>"
            ],
            "image/png": "[encoded data removed]"
          },
          "metadata": {
            "needs_background": "light"
          }
        }
      ]
    },
    {
      "cell_type": "markdown",
      "source": [
        "###Based on the training observations, description of the impact of the different learning rates (between 0.1 and 0.01) on the final loss and number of training iteration."
      ],
      "metadata": {
        "id": "Jo0ZteIBxv26"
      }
    },
    {
      "cell_type": "code",
      "source": [
        "theta = [0., 0.]\n",
        "iterations = 1800"
      ],
      "metadata": {
        "id": "qkD3W4wdzCX1"
      },
      "execution_count": 224,
      "outputs": []
    },
    {
      "cell_type": "code",
      "source": [
        "#testing for learning_rate = 0.02\n",
        "alpha=0.02\n",
        "theta1, cost_history1 = gradient_descent(X1, y, theta, alpha, iterations)\n",
        "theta2, cost_history2 = gradient_descent(X2, y, theta, alpha, iterations)\n",
        "theta3, cost_history3 = gradient_descent(X3, y, theta, alpha, iterations)\n",
        "plt.plot(range(1, iterations + 1),cost_history1, color='red')\n",
        "plt.plot(range(1, iterations + 1),cost_history2, color='blue')\n",
        "plt.plot(range(1, iterations + 1),cost_history3, color='green')\n",
        "plt.rcParams[\"figure.figsize\"] = (10,6)\n",
        "plt.grid()\n",
        "plt.xlabel('Iteration')\n",
        "plt.ylabel('Cost/Loss')\n",
        "plt.title('Loss Based On The Iteration Number for all three columns with learning_rate= 0.02')\n",
        "plt.legend([\"loss_x1\", \"loss_x2\", \"loss_x3\"])"
      ],
      "metadata": {
        "colab": {
          "base_uri": "https://localhost:8080/",
          "height": 422
        },
        "id": "2Pno62nUF5SK",
        "outputId": "296b7798-8042-4068-ee21-8da4f297d155"
      },
      "execution_count": 226,
      "outputs": [
        {
          "output_type": "execute_result",
          "data": {
            "text/plain": [
              "<matplotlib.legend.Legend at 0x7f5ee2e020d0>"
            ]
          },
          "metadata": {},
          "execution_count": 226
        },
        {
          "output_type": "display_data",
          "data": {
            "text/plain": [
              "<Figure size 720x432 with 1 Axes>"
            ],
            "image/png": "[encoded data removed]"
          },
          "metadata": {
            "needs_background": "light"
          }
        }
      ]
    },
    {
      "cell_type": "code",
      "source": [
        "#testing for learning_rate = 0.05\n",
        "alpha=0.05\n",
        "theta1, cost_history1 = gradient_descent(X1, y, theta, alpha, iterations)\n",
        "theta2, cost_history2 = gradient_descent(X2, y, theta, alpha, iterations)\n",
        "theta3, cost_history3 = gradient_descent(X3, y, theta, alpha, iterations)\n",
        "plt.plot(range(1, iterations + 1),cost_history1, color='red')\n",
        "plt.plot(range(1, iterations + 1),cost_history2, color='blue')\n",
        "plt.plot(range(1, iterations + 1),cost_history3, color='green')\n",
        "plt.rcParams[\"figure.figsize\"] = (10,6)\n",
        "plt.grid()\n",
        "plt.xlabel('Iteration')\n",
        "plt.ylabel('Cost/Loss')\n",
        "plt.title('Loss Based On The Iteration Number for all three columns with learning_rate= 0.05')\n",
        "plt.legend([\"loss_x1\", \"loss_x2\", \"loss_x3\"])"
      ],
      "metadata": {
        "colab": {
          "base_uri": "https://localhost:8080/",
          "height": 422
        },
        "id": "Lw8SR5Ge2qEb",
        "outputId": "6f16fd05-a554-41c8-bb62-2eb9dd887970"
      },
      "execution_count": 227,
      "outputs": [
        {
          "output_type": "execute_result",
          "data": {
            "text/plain": [
              "<matplotlib.legend.Legend at 0x7f5ee2cf47c0>"
            ]
          },
          "metadata": {},
          "execution_count": 227
        },
        {
          "output_type": "display_data",
          "data": {
            "text/plain": [
              "<Figure size 720x432 with 1 Axes>"
            ],
            "image/png": "[encoded data removed]"
          },
          "metadata": {
            "needs_background": "light"
          }
        }
      ]
    },
    {
      "cell_type": "code",
      "source": [
        "#testing for learning_rate = 0.07\n",
        "alpha=0.07\n",
        "theta1, cost_history1 = gradient_descent(X1, y, theta, alpha, iterations)\n",
        "theta2, cost_history2 = gradient_descent(X2, y, theta, alpha, iterations)\n",
        "theta3, cost_history3 = gradient_descent(X3, y, theta, alpha, iterations)\n",
        "plt.plot(range(1, iterations + 1),cost_history1, color='red')\n",
        "plt.plot(range(1, iterations + 1),cost_history2, color='blue')\n",
        "plt.plot(range(1, iterations + 1),cost_history3, color='green')\n",
        "plt.rcParams[\"figure.figsize\"] = (10,6)\n",
        "plt.grid()\n",
        "plt.xlabel('Iteration')\n",
        "plt.ylabel('Cost/Loss')\n",
        "plt.title('Loss Based On The Iteration Number for all three columns with learning_rate= 0.07')\n",
        "plt.legend([\"loss_x1\", \"loss_x2\", \"loss_x3\"])"
      ],
      "metadata": {
        "colab": {
          "base_uri": "https://localhost:8080/",
          "height": 422
        },
        "id": "rIOHpoV926n-",
        "outputId": "1e2f99ed-dd5c-447f-ad4f-e825d26616e7"
      },
      "execution_count": 229,
      "outputs": [
        {
          "output_type": "execute_result",
          "data": {
            "text/plain": [
              "<matplotlib.legend.Legend at 0x7f5ee3606ca0>"
            ]
          },
          "metadata": {},
          "execution_count": 229
        },
        {
          "output_type": "display_data",
          "data": {
            "text/plain": [
              "<Figure size 720x432 with 1 Axes>"
            ],
            "image/png": "[encoded data removed]"
          },
          "metadata": {
            "needs_background": "light"
          }
        }
      ]
    },
    {
      "cell_type": "code",
      "source": [
        "#testing for learning_rate = 0.09\n",
        "alpha=0.09\n",
        "theta1, cost_history1 = gradient_descent(X1, y, theta, alpha, iterations)\n",
        "theta2, cost_history2 = gradient_descent(X2, y, theta, alpha, iterations)\n",
        "theta3, cost_history3 = gradient_descent(X3, y, theta, alpha, iterations)\n",
        "plt.plot(range(1, iterations + 1),cost_history1, color='red')\n",
        "plt.plot(range(1, iterations + 1),cost_history2, color='blue')\n",
        "plt.plot(range(1, iterations + 1),cost_history3, color='green')\n",
        "plt.rcParams[\"figure.figsize\"] = (10,6)\n",
        "plt.grid()\n",
        "plt.xlabel('Iteration')\n",
        "plt.ylabel('Cost/Loss')\n",
        "plt.title('Loss Based On The Iteration Number for all three columns with learning_rate= 0.09')\n",
        "plt.legend([\"loss_x1\", \"loss_x2\", \"loss_x3\"])"
      ],
      "metadata": {
        "colab": {
          "base_uri": "https://localhost:8080/",
          "height": 422
        },
        "id": "NzPr9mar3G10",
        "outputId": "ac727466-1f9a-4401-901a-f06c2136c18a"
      },
      "execution_count": 230,
      "outputs": [
        {
          "output_type": "execute_result",
          "data": {
            "text/plain": [
              "<matplotlib.legend.Legend at 0x7f5ee2cc0160>"
            ]
          },
          "metadata": {},
          "execution_count": 230
        },
        {
          "output_type": "display_data",
          "data": {
            "text/plain": [
              "<Figure size 720x432 with 1 Axes>"
            ],
            "image/png": "[encoded data removed]"
          },
          "metadata": {
            "needs_background": "light"
          }
        }
      ]
    },
    {
      "cell_type": "markdown",
      "source": [
        "We see,when we are using a higher learning rate, our loss functions decrease faster and thus we can reach a minimum loss in fewer iterations. But,if we use a very large learning rate, we may never find the minimum value that means model will diverge. If we use smaller values for our learning rate, we can find the minimum, but it may take more iterations to find the expected result. Here, we see when learning rate is 0.09, convergence is faster (i.e least number of iterations are required). But losses are almost same for all learning rates ( between 0.01 and 0.1)."
      ],
      "metadata": {
        "id": "h3m2fNIg4VvE"
      }
    },
    {
      "cell_type": "markdown",
      "source": [
        "#Problem 2.\n",
        "\n",
        "For this problem , we need to run linear regression with gradient descent algorithm using all three explanatory variables. For the learning rate, we will explore different values between 0.1 and 0.01. We have to initialize the parameters (theta to zero).\n",
        "\n",
        "1. Will report the final linear model we found the best.\n",
        "2. Will plot loss over the iteration.\n",
        "3. Based on our training observations, we will describe the impact of the different learning rates on the final loss and number of training iteration.\n",
        "4. we will predict the value of y for new (X1, X2, X3) values (1, 1, 1), for (2, 0, 4), and for (3, 2, 1)"
      ],
      "metadata": {
        "id": "hCMosQmBBmQt"
      }
    },
    {
      "cell_type": "code",
      "source": [
        "df = pd.read_csv(\"/content/gdrive/MyDrive/Datasets/D3.csv\")\n",
        "X1 = df.values[:, 0]                   \n",
        "X2 = df.values[:, 1]                     \n",
        "X3 = df.values[:, 2]                     \n",
        "y = df.values[:, 3]                      \n",
        "m = len(y)"
      ],
      "metadata": {
        "id": "sb2phf0XCI2i"
      },
      "execution_count": 365,
      "outputs": []
    },
    {
      "cell_type": "code",
      "source": [
        "X_0 = np.ones((m, 1))            \n"
      ],
      "metadata": {
        "id": "LYkkc1XkCNrt"
      },
      "execution_count": 366,
      "outputs": []
    },
    {
      "cell_type": "code",
      "source": [
        "X_1 = X1.reshape(m, 1)\n",
        "X_2 = X2.reshape(m, 1)\n",
        "X_3 = X3.reshape(m, 1)\n"
      ],
      "metadata": {
        "id": "zBjET3MzCQq4"
      },
      "execution_count": 367,
      "outputs": []
    },
    {
      "cell_type": "code",
      "source": [
        "X = np.hstack((X_0, X_1, X_2, X_3))"
      ],
      "metadata": {
        "id": "qO0z-gBTCZhq"
      },
      "execution_count": 368,
      "outputs": []
    },
    {
      "cell_type": "code",
      "source": [
        "theta = np.zeros(4)"
      ],
      "metadata": {
        "id": "a8HxWq_hCa5M"
      },
      "execution_count": 346,
      "outputs": []
    },
    {
      "cell_type": "code",
      "source": [
        "def compute_cost(X, y, theta):\n",
        "    predictions = X.dot(theta)\n",
        "    errors = np.subtract(predictions, y)\n",
        "    sqrErrors = np.square(errors)\n",
        "    J = 1 / (2 * m) * np.sum(sqrErrors)\n",
        "    return J"
      ],
      "metadata": {
        "id": "WHkcRhNFCeeC"
      },
      "execution_count": 369,
      "outputs": []
    },
    {
      "cell_type": "code",
      "source": [
        "def gradient_descent(X, y, theta, alpha, iterations):\n",
        "    cost_history = np.zeros(iterations)\n",
        "    for i in range(iterations):\n",
        "        predictions = X.dot(theta)\n",
        "        errors = np.subtract(predictions, y)\n",
        "        sum_delta = (alpha / m) * X.transpose().dot(errors);\n",
        "        theta = theta - sum_delta;\n",
        "        cost_history[i] = compute_cost(X, y, theta)\n",
        "    \n",
        "    return theta, cost_history"
      ],
      "metadata": {
        "id": "mG05bdqLCh1L"
      },
      "execution_count": 370,
      "outputs": []
    },
    {
      "cell_type": "code",
      "source": [
        "cost = compute_cost(X, y, theta)"
      ],
      "metadata": {
        "id": "HkDKTC-HClaU"
      },
      "execution_count": 371,
      "outputs": []
    },
    {
      "cell_type": "markdown",
      "source": [
        "Previously, we seen that learning rate (alpha) 0.09 performed well, so we considered this learning rate."
      ],
      "metadata": {
        "id": "jd62ZyFmJSN2"
      }
    },
    {
      "cell_type": "code",
      "source": [
        "theta = [0., 0., 0., 0.]\n",
        "iterations = 1500;\n",
        "alpha = 0.09"
      ],
      "metadata": {
        "id": "i6R3EBlFCtYF"
      },
      "execution_count": 372,
      "outputs": []
    },
    {
      "cell_type": "code",
      "source": [
        "theta, cost_history = gradient_descent(X, y, theta, alpha, iterations)\n",
        "print('Final value of theta=', theta)\n",
        "print('cost_history =', cost_history)"
      ],
      "metadata": {
        "colab": {
          "base_uri": "https://localhost:8080/",
          "height": 0
        },
        "id": "uPdb_UDWI5Dc",
        "outputId": "320d3135-7f6b-46b1-89d3-9b14a9bcd8fc"
      },
      "execution_count": 373,
      "outputs": [
        {
          "output_type": "stream",
          "name": "stdout",
          "text": [
            "Final value of theta= [ 5.31416018 -2.00371828  0.53256449 -0.26560084]\n",
            "cost_history = [4.10038644 3.5871816  3.22984001 ... 0.73846424 0.73846424 0.73846424]\n"
          ]
        }
      ]
    },
    {
      "cell_type": "code",
      "source": [
        "#printing out final linear regression model\n",
        "print (\"y_bar = \", theta[3],\"*(x3^3) + \", theta[2],\"*(x2^2)\", theta[1],\"*(x1) + \",theta[0])"
      ],
      "metadata": {
        "colab": {
          "base_uri": "https://localhost:8080/",
          "height": 0
        },
        "id": "ZAYkHYBZJt7z",
        "outputId": "665302f2-d05a-4cf7-b451-0088490e1eb7"
      },
      "execution_count": 374,
      "outputs": [
        {
          "output_type": "stream",
          "name": "stdout",
          "text": [
            "y_bar =  -0.2656008408699233 *(x3^3) +  0.532564491251479 *(x2^2) -2.0037182812577115 *(x1) +  5.314160182052157\n"
          ]
        }
      ]
    },
    {
      "cell_type": "markdown",
      "source": [
        "### For learning rate 0.09"
      ],
      "metadata": {
        "id": "9cx8O17YuIrt"
      }
    },
    {
      "cell_type": "code",
      "source": [
        "alpha1 = 0.09\n",
        "theta = [0., 0., 0., 0.]\n",
        "iterations = 1500;"
      ],
      "metadata": {
        "id": "wyEGgKnfyKyu"
      },
      "execution_count": 375,
      "outputs": []
    },
    {
      "cell_type": "code",
      "source": [
        "theta1, cost_history1 = gradient_descent(X, y, theta, alpha1, iterations)"
      ],
      "metadata": {
        "id": "zEQrqjzoyOaa"
      },
      "execution_count": 376,
      "outputs": []
    },
    {
      "cell_type": "code",
      "source": [
        "plt.plot(range(1, iterations + 1),cost_history1, color='blue')\n",
        "plt.rcParams[\"figure.figsize\"] = (10,6)\n",
        "plt.grid()\n",
        "plt.xlabel('Number of iterations')\n",
        "plt.ylabel('Cost (J)')\n",
        "plt.title('Convergence of gradient descent')"
      ],
      "metadata": {
        "colab": {
          "base_uri": "https://localhost:8080/",
          "height": 422
        },
        "id": "1ArTTK7XC54f",
        "outputId": "f3b1eabf-feb4-409a-9dd5-5793985f5512"
      },
      "execution_count": 377,
      "outputs": [
        {
          "output_type": "execute_result",
          "data": {
            "text/plain": [
              "Text(0.5, 1.0, 'Convergence of gradient descent')"
            ]
          },
          "metadata": {},
          "execution_count": 377
        },
        {
          "output_type": "display_data",
          "data": {
            "text/plain": [
              "<Figure size 720x432 with 1 Axes>"
            ],
            "image/png": "[encoded data removed]"
          },
          "metadata": {
            "needs_background": "light"
          }
        }
      ]
    },
    {
      "cell_type": "code",
      "source": [
        "X_new = ([1, 1, 1, 1],\n",
        "        [1, 2, 0, 4],\n",
        "        [1, 3, 2, 1])\n",
        "       \n",
        "Predictions_new = np.dot(X_new, theta1)\n",
        "Predictions_new"
      ],
      "metadata": {
        "colab": {
          "base_uri": "https://localhost:8080/",
          "height": 0
        },
        "id": "0CNDQhqMDEzd",
        "outputId": "3c654f3f-1888-4550-c092-4e35b7abe68c"
      },
      "execution_count": 378,
      "outputs": [
        {
          "output_type": "execute_result",
          "data": {
            "text/plain": [
              "array([3.57740555, 0.24432026, 0.10253348])"
            ]
          },
          "metadata": {},
          "execution_count": 378
        }
      ]
    },
    {
      "cell_type": "markdown",
      "source": [
        "###For learning rate 0.07\n",
        "\n",
        "\n",
        "\n"
      ],
      "metadata": {
        "id": "_s7oQqMtukfT"
      }
    },
    {
      "cell_type": "code",
      "source": [
        "alpha2 = 0.07\n",
        "theta = [0., 0., 0., 0.]\n",
        "iterations = 1500;\n",
        "theta2, cost_history2 = gradient_descent(X, y, theta, alpha2, iterations)"
      ],
      "metadata": {
        "id": "OeKM2i7Mup9O"
      },
      "execution_count": 379,
      "outputs": []
    },
    {
      "cell_type": "code",
      "source": [
        "plt.plot(range(1, iterations + 1),cost_history2, color='blue')\n",
        "plt.rcParams[\"figure.figsize\"] = (10,6)\n",
        "plt.grid()\n",
        "plt.xlabel('Number of iterations')\n",
        "plt.ylabel('Cost (J)')\n",
        "plt.title('Convergence of gradient descent')"
      ],
      "metadata": {
        "colab": {
          "base_uri": "https://localhost:8080/",
          "height": 422
        },
        "id": "SKJf7ihiu8qz",
        "outputId": "3f7bccb6-71fd-4b9f-da17-65af6bc0f3ff"
      },
      "execution_count": 380,
      "outputs": [
        {
          "output_type": "execute_result",
          "data": {
            "text/plain": [
              "Text(0.5, 1.0, 'Convergence of gradient descent')"
            ]
          },
          "metadata": {},
          "execution_count": 380
        },
        {
          "output_type": "display_data",
          "data": {
            "text/plain": [
              "<Figure size 720x432 with 1 Axes>"
            ],
            "image/png": "[encoded data removed]"
          },
          "metadata": {
            "needs_background": "light"
          }
        }
      ]
    },
    {
      "cell_type": "code",
      "source": [
        "X_new = ([1, 1, 1, 1],\n",
        "        [1, 2, 0, 4],\n",
        "        [1, 3, 2, 1])\n",
        "       \n",
        "Predictions_new = np.dot(X_new, theta2)\n",
        "Predictions_new"
      ],
      "metadata": {
        "colab": {
          "base_uri": "https://localhost:8080/",
          "height": 0
        },
        "id": "6ZE3xjpWv3Tc",
        "outputId": "fd10d748-def3-44c3-d277-5eebe1d1a112"
      },
      "execution_count": 381,
      "outputs": [
        {
          "output_type": "execute_result",
          "data": {
            "text/plain": [
              "array([3.57733146, 0.24430249, 0.10252005])"
            ]
          },
          "metadata": {},
          "execution_count": 381
        }
      ]
    },
    {
      "cell_type": "markdown",
      "source": [
        "###For learning rate 0.05"
      ],
      "metadata": {
        "id": "2bjgmrZWwC1K"
      }
    },
    {
      "cell_type": "code",
      "source": [
        "alpha3 = 0.05\n",
        "theta = [0., 0., 0., 0.]\n",
        "iterations = 1500;\n",
        "theta3, cost_history3 = gradient_descent(X, y, theta, alpha3, iterations)"
      ],
      "metadata": {
        "id": "HBl_8EhQv_-m"
      },
      "execution_count": 382,
      "outputs": []
    },
    {
      "cell_type": "code",
      "source": [
        "plt.plot(range(1, iterations + 1),cost_history3, color='blue')\n",
        "plt.rcParams[\"figure.figsize\"] = (10,6)\n",
        "plt.grid()\n",
        "plt.xlabel('Number of iterations')\n",
        "plt.ylabel('Cost (J)')\n",
        "plt.title('Convergence of gradient descent')"
      ],
      "metadata": {
        "colab": {
          "base_uri": "https://localhost:8080/",
          "height": 422
        },
        "id": "MqiK95BOwNMK",
        "outputId": "a2b519ca-1b9a-4186-cea8-5d6ebb01289d"
      },
      "execution_count": 383,
      "outputs": [
        {
          "output_type": "execute_result",
          "data": {
            "text/plain": [
              "Text(0.5, 1.0, 'Convergence of gradient descent')"
            ]
          },
          "metadata": {},
          "execution_count": 383
        },
        {
          "output_type": "display_data",
          "data": {
            "text/plain": [
              "<Figure size 720x432 with 1 Axes>"
            ],
            "image/png": "[encoded data removed]"
          },
          "metadata": {
            "needs_background": "light"
          }
        }
      ]
    },
    {
      "cell_type": "code",
      "source": [
        "X_new = ([1, 1, 1, 1],\n",
        "        [1, 2, 0, 4],\n",
        "        [1, 3, 2, 1])\n",
        "       \n",
        "Predictions_new = np.dot(X_new, theta3)\n",
        "Predictions_new"
      ],
      "metadata": {
        "colab": {
          "base_uri": "https://localhost:8080/",
          "height": 0
        },
        "id": "QnZzmFd-xL5b",
        "outputId": "2c5bcd9d-5d56-431a-ebe0-d4dc3367b84e"
      },
      "execution_count": 384,
      "outputs": [
        {
          "output_type": "execute_result",
          "data": {
            "text/plain": [
              "array([3.5758311 , 0.2439427 , 0.10224809])"
            ]
          },
          "metadata": {},
          "execution_count": 384
        }
      ]
    },
    {
      "cell_type": "markdown",
      "source": [
        "###For learning rate 0.02"
      ],
      "metadata": {
        "id": "uYdeB-TqxWIG"
      }
    },
    {
      "cell_type": "code",
      "source": [
        "alpha4 = 0.02\n",
        "theta = [0., 0., 0., 0.]\n",
        "iterations = 1500;\n",
        "theta4, cost_history4 = gradient_descent(X, y, theta, alpha4, iterations)"
      ],
      "metadata": {
        "id": "x0x57up7xYPU"
      },
      "execution_count": 385,
      "outputs": []
    },
    {
      "cell_type": "code",
      "source": [
        "plt.plot(range(1, iterations + 1),cost_history4, color='blue')\n",
        "plt.rcParams[\"figure.figsize\"] = (10,6)\n",
        "plt.grid()\n",
        "plt.xlabel('Number of iterations')\n",
        "plt.ylabel('Cost (J)')\n",
        "plt.title('Convergence of gradient descent')"
      ],
      "metadata": {
        "colab": {
          "base_uri": "https://localhost:8080/",
          "height": 422
        },
        "id": "8zc1H_8rxjE7",
        "outputId": "65ae528e-16cf-4db5-da18-859d9dc7a099"
      },
      "execution_count": 386,
      "outputs": [
        {
          "output_type": "execute_result",
          "data": {
            "text/plain": [
              "Text(0.5, 1.0, 'Convergence of gradient descent')"
            ]
          },
          "metadata": {},
          "execution_count": 386
        },
        {
          "output_type": "display_data",
          "data": {
            "text/plain": [
              "<Figure size 720x432 with 1 Axes>"
            ],
            "image/png": "[encoded data removed]"
          },
          "metadata": {
            "needs_background": "light"
          }
        }
      ]
    },
    {
      "cell_type": "code",
      "source": [
        "X_new = ([1, 1, 1, 1],\n",
        "        [1, 2, 0, 4],\n",
        "        [1, 3, 2, 1])\n",
        "       \n",
        "Predictions_new = np.dot(X_new, theta4)\n",
        "Predictions_new"
      ],
      "metadata": {
        "colab": {
          "base_uri": "https://localhost:8080/",
          "height": 0
        },
        "id": "j1yLy8LLxpZb",
        "outputId": "33cf8def-f967-4d94-b234-7f5aa7931c9c"
      },
      "execution_count": 387,
      "outputs": [
        {
          "output_type": "execute_result",
          "data": {
            "text/plain": [
              "array([3.43513125, 0.21020309, 0.0767448 ])"
            ]
          },
          "metadata": {},
          "execution_count": 387
        }
      ]
    },
    {
      "cell_type": "markdown",
      "source": [
        "Here, we see that, if the learning rate value is increased, the number of iterations is decreased to reach the same amount of loss or cost value."
      ],
      "metadata": {
        "id": "JqjfX08x3urq"
      }
    }
  ]
}